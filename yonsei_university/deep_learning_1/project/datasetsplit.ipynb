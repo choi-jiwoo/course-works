{
 "cells": [
  {
   "attachments": {},
   "cell_type": "markdown",
   "id": "444f5d7e-269c-419e-a506-b6258e26b3c1",
   "metadata": {},
   "source": [
    "# Dataset Split"
   ]
  },
  {
   "attachments": {},
   "cell_type": "markdown",
   "id": "3569b0ec-5ed7-4723-a49d-041dc8d62da1",
   "metadata": {},
   "source": [
    "## Imports"
   ]
  },
  {
   "cell_type": "code",
   "execution_count": null,
   "id": "045a3f7e-40a0-4bc2-b8f1-fe120c6ab1c3",
   "metadata": {
    "tags": []
   },
   "outputs": [],
   "source": [
    "import pandas as pd\n",
    "import numpy as np"
   ]
  },
  {
   "cell_type": "code",
   "execution_count": null,
   "id": "370643f3-b62e-4d25-a5ce-2f6bbcbac298",
   "metadata": {
    "tags": []
   },
   "outputs": [],
   "source": [
    "import matplotlib.pyplot as plt\n",
    "import seaborn as sns"
   ]
  },
  {
   "attachments": {},
   "cell_type": "markdown",
   "id": "01def895-3263-4832-a9db-fcb12d46bbe0",
   "metadata": {},
   "source": [
    "## Dataset"
   ]
  },
  {
   "cell_type": "code",
   "execution_count": null,
   "id": "429845e9-7e1e-4164-bdec-3b4e41360834",
   "metadata": {
    "tags": []
   },
   "outputs": [],
   "source": [
    "posi_mh_main = pd.read_csv('dataset/posi_mh_main.csv', dtype={'SEM_No': object})"
   ]
  },
  {
   "attachments": {},
   "cell_type": "markdown",
   "id": "b4d7eddd-01ed-4e9b-b4f1-f5e40a7d296e",
   "metadata": {},
   "source": [
    "## Preprocessing"
   ]
  },
  {
   "attachments": {},
   "cell_type": "markdown",
   "id": "38b52b84-a2a7-4208-ab46-2fe49983371f",
   "metadata": {},
   "source": [
    "### Remain DOT Group"
   ]
  },
  {
   "cell_type": "code",
   "execution_count": null,
   "id": "a6720eff-1125-43e2-b728-0917cd8dd7fe",
   "metadata": {
    "tags": []
   },
   "outputs": [],
   "source": [
    "dot_grp = posi_mh_main.query('group == \"DOT\"')\n",
    "dot_grp = dot_grp.reset_index(drop=True)"
   ]
  },
  {
   "attachments": {},
   "cell_type": "markdown",
   "id": "00047644-5c98-4c90-8acd-459153279ce9",
   "metadata": {},
   "source": [
    "### Label Class\n",
    "\n",
    "```\n",
    "Class -1 => Abnormal\n",
    "Class 1 => Normal\n",
    "```"
   ]
  },
  {
   "cell_type": "code",
   "execution_count": null,
   "id": "b4cfd4fb-2e1a-4535-acf1-014bb6cc5ad4",
   "metadata": {
    "tags": []
   },
   "outputs": [],
   "source": [
    "dot_grp['Class'] = dot_grp['Error'].apply(lambda x: -1 if x == 'E' else 1)"
   ]
  },
  {
   "cell_type": "code",
   "execution_count": null,
   "id": "47f811e9-7378-48c6-b718-c37b0a68e3b7",
   "metadata": {
    "tags": []
   },
   "outputs": [],
   "source": [
    "abnormal = dot_grp[dot_grp['Class'] == -1]\n",
    "abnormal = abnormal.reset_index(drop=True)\n",
    "normal = dot_grp[dot_grp['Class'] == 1]\n",
    "normal = normal.reset_index(drop=True)"
   ]
  },
  {
   "attachments": {},
   "cell_type": "markdown",
   "id": "3cb8adfe-56a5-4a62-af52-628ae3ab5b10",
   "metadata": {},
   "source": [
    "## Split"
   ]
  },
  {
   "attachments": {},
   "cell_type": "markdown",
   "id": "c97b224e-be4d-4064-a44e-a4a19e285ed3",
   "metadata": {},
   "source": [
    "- split 하기 위해선 SEM_NO랑 Class 열만 있으면 됨\n",
    "- train test ratio를 맞춰서 split 해야함\n",
    "    - Abnormal: 13개 (12%)\n",
    "    - Normal: 95개 (87%)\n",
    "- 대충 Normal sample 10개를 test set에 포함시키면 (21:79)가 됨"
   ]
  },
  {
   "cell_type": "code",
   "execution_count": null,
   "id": "732b9ec1-4826-4b93-bff3-ceb14fb1b575",
   "metadata": {
    "tags": []
   },
   "outputs": [],
   "source": [
    "total_sem_img = dot_grp.shape[0]"
   ]
  },
  {
   "cell_type": "code",
   "execution_count": null,
   "id": "7246ae14-9dbb-4e9a-8255-970b39ed7e44",
   "metadata": {
    "tags": []
   },
   "outputs": [],
   "source": [
    "normal_ratio = normal.shape[0] / total_sem_img\n",
    "abnormal_ratio = abnormal.shape[0] / total_sem_img\n",
    "print(f'Normal Ratio: {normal_ratio}')\n",
    "print(f'Abnormal Ratio: {abnormal_ratio}')"
   ]
  },
  {
   "cell_type": "code",
   "execution_count": null,
   "id": "f161c555-94a3-4dee-9ff3-acd9a3e7a4ef",
   "metadata": {
    "tags": []
   },
   "outputs": [],
   "source": [
    "test_normal_set = normal.sample(10)"
   ]
  },
  {
   "attachments": {},
   "cell_type": "markdown",
   "id": "f4d23125-fed2-4eaa-bb7f-2340e57ef327",
   "metadata": {},
   "source": [
    "normal set에서 뺀 10개를 test set에 추가하고 기존 normal set에서 제거"
   ]
  },
  {
   "cell_type": "code",
   "execution_count": null,
   "id": "5fa49de8-0fc1-42f1-b00e-05ce0d40e78d",
   "metadata": {
    "tags": []
   },
   "outputs": [],
   "source": [
    "train_set = (normal[~normal.index.isin(test_normal_set.index)]\n",
    "             .reset_index(drop=True))"
   ]
  },
  {
   "cell_type": "code",
   "execution_count": null,
   "id": "b0214a86-56ea-4e3b-9bc9-4f8789cf274d",
   "metadata": {
    "tags": []
   },
   "outputs": [],
   "source": [
    "test_set = pd.concat([test_normal_set, abnormal], axis=0, ignore_index=True)"
   ]
  },
  {
   "cell_type": "code",
   "execution_count": null,
   "id": "78e5b3aa-ad24-4981-928b-95b22c51b39a",
   "metadata": {
    "tags": []
   },
   "outputs": [],
   "source": [
    "print(f'Train set size: {train_set.shape}')\n",
    "print(f'Test set size: {test_set.shape}')"
   ]
  },
  {
   "cell_type": "code",
   "execution_count": null,
   "id": "47977158-975b-4402-b2c4-b44102b11aa9",
   "metadata": {
    "tags": []
   },
   "outputs": [],
   "source": [
    "test_y = test_set['Class']"
   ]
  },
  {
   "cell_type": "code",
   "execution_count": null,
   "id": "0f53f3ee-5f9d-4b90-b795-be63a6b54e34",
   "metadata": {
    "tags": []
   },
   "outputs": [],
   "source": [
    "percentage = test_y.value_counts(normalize=True)\n",
    "plt.title('Test Set Target Class Ratio')\n",
    "plt.pie(percentage, labels=percentage.index, autopct='%.1f%%')\n",
    "plt.legend();"
   ]
  },
  {
   "attachments": {},
   "cell_type": "markdown",
   "id": "c7c872b3-0fc1-49ba-a49e-5a7d29b53d24",
   "metadata": {},
   "source": [
    "## Save"
   ]
  },
  {
   "cell_type": "code",
   "execution_count": null,
   "id": "e4359990-aeef-40a2-b79f-a20be34dee5d",
   "metadata": {
    "tags": []
   },
   "outputs": [],
   "source": [
    "col = ['SEM_No', 'width', 'duty', 'design', 'TARGET', 'CD', 'Class']\n",
    "train_set[col].to_csv('dataset/dot_train.csv', index=False)\n",
    "test_set[col].to_csv('dataset/dot_test.csv', index=False)"
   ]
  }
 ],
 "metadata": {
  "kernelspec": {
   "display_name": "class",
   "language": "python",
   "name": "class"
  },
  "language_info": {
   "codemirror_mode": {
    "name": "ipython",
    "version": 3
   },
   "file_extension": ".py",
   "mimetype": "text/x-python",
   "name": "python",
   "nbconvert_exporter": "python",
   "pygments_lexer": "ipython3",
   "version": "3.9.13"
  }
 },
 "nbformat": 4,
 "nbformat_minor": 5
}
