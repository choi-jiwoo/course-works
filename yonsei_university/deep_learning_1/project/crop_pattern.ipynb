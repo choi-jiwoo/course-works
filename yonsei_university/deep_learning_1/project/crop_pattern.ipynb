{
 "cells": [
  {
   "attachments": {},
   "cell_type": "markdown",
   "id": "1b1c4b71-246b-41e4-ad43-eec2b85b2eea",
   "metadata": {},
   "source": [
    "# SEM Image"
   ]
  },
  {
   "cell_type": "code",
   "execution_count": null,
   "id": "2a455cf2-0d5f-438c-ba21-5f06d8f885d2",
   "metadata": {
    "tags": []
   },
   "outputs": [],
   "source": [
    "from semimg import SemImage\n",
    "\n",
    "import pandas as pd\n",
    "import numpy as np\n",
    "\n",
    "import matplotlib.pyplot as plt\n",
    "import seaborn as sns\n",
    "\n",
    "from PIL import Image, ImageFilter\n",
    "from IPython.display import display\n",
    "import cv2\n",
    "\n",
    "from tqdm.notebook import tqdm\n",
    "from IPython.display import clear_output\n",
    "from pprint import pprint\n",
    "import json\n",
    "import os\n",
    "import sys\n",
    "import importlib\n",
    "import shutil\n",
    "import warnings\n",
    "\n",
    "warnings.filterwarnings(action='ignore')\n",
    "\n",
    "%matplotlib inline"
   ]
  },
  {
   "cell_type": "code",
   "execution_count": null,
   "id": "38a0c4ae-7c9e-4dc2-8698-ee56591695a2",
   "metadata": {
    "tags": []
   },
   "outputs": [],
   "source": [
    "importlib.reload(sys.modules['semimg'])\n",
    "from semimg import SemImage"
   ]
  },
  {
   "attachments": {},
   "cell_type": "markdown",
   "id": "f42bf839-84e3-43bb-9911-d413b3c0b20c",
   "metadata": {
    "tags": []
   },
   "source": [
    "## Dataset"
   ]
  },
  {
   "cell_type": "code",
   "execution_count": null,
   "id": "bc1c769f-2008-47b6-9837-373da895cd0e",
   "metadata": {
    "tags": []
   },
   "outputs": [],
   "source": [
    "posi_mh_main = pd.read_csv('dataset/posi_mh_main.csv', dtype={'SEM_No': object})"
   ]
  },
  {
   "attachments": {},
   "cell_type": "markdown",
   "id": "1a92c986-d8d2-4a0c-81f5-cd210bf6f611",
   "metadata": {
    "tags": []
   },
   "source": [
    "## SEM Image"
   ]
  },
  {
   "cell_type": "code",
   "execution_count": null,
   "id": "70b063ae-12e5-442f-9116-81d88b1cc9d7",
   "metadata": {
    "tags": []
   },
   "outputs": [],
   "source": [
    "IMAGE_DIR = 'RCore(MH).CSV'\n",
    "IMG_PATH = f'dataset/image/{IMAGE_DIR}/Main/'"
   ]
  },
  {
   "attachments": {},
   "cell_type": "markdown",
   "id": "f7d1b73a-8eca-45f3-844f-4752aa13e88d",
   "metadata": {},
   "source": [
    "### e.g. Hole"
   ]
  },
  {
   "cell_type": "code",
   "execution_count": null,
   "id": "751062c6-3e66-4a6f-b111-119a356410df",
   "metadata": {
    "tags": []
   },
   "outputs": [],
   "source": [
    "grp_hole = posi_mh_main[posi_mh_main['group'] == 'HOLE']"
   ]
  },
  {
   "cell_type": "code",
   "execution_count": null,
   "id": "426335c2-ddc9-4239-93a4-37e0acfe35a4",
   "metadata": {
    "tags": []
   },
   "outputs": [],
   "source": [
    "# Normal image\n",
    "normal_img = Image.open(f'dataset/image/{IMAGE_DIR}/Main/00441.JPG')\n",
    "normal_img.resize((500, 500))"
   ]
  },
  {
   "cell_type": "code",
   "execution_count": null,
   "id": "d787e9b0-2a38-49e5-97a1-d94942042aed",
   "metadata": {
    "tags": []
   },
   "outputs": [],
   "source": [
    "# Error image\n",
    "error_img = Image.open(f'dataset/image/{IMAGE_DIR}/Main/00442.JPG')\n",
    "error_img.resize((500, 500))"
   ]
  },
  {
   "attachments": {},
   "cell_type": "markdown",
   "id": "8ff5f83a-76a8-42ca-8100-ff242c46d504",
   "metadata": {
    "tags": []
   },
   "source": [
    "## Group SEM Image Filename with its Type"
   ]
  },
  {
   "cell_type": "code",
   "execution_count": null,
   "id": "dca3f1d3-ed7b-4ac9-963d-5ec259bfddfa",
   "metadata": {},
   "outputs": [],
   "source": [
    "sem_group = posi_mh_main.groupby('group')"
   ]
  },
  {
   "cell_type": "code",
   "execution_count": null,
   "id": "5c34d4d8-b755-4ab6-952e-7f51c014104a",
   "metadata": {
    "tags": []
   },
   "outputs": [],
   "source": [
    "group_list = posi_mh_main['group'].unique().tolist()"
   ]
  },
  {
   "cell_type": "code",
   "execution_count": null,
   "id": "813d8c64-05d3-457c-bacb-4245597d1a19",
   "metadata": {
    "tags": []
   },
   "outputs": [],
   "source": [
    "data_container = {}\n",
    "\n",
    "for grp_type in group_list:    \n",
    "    grp = sem_group.get_group(grp_type)\n",
    "    sem_img_filename = [\n",
    "        f\"{grp.loc[i, ['SEM_No']].item()}.JPG\"\n",
    "        for i\n",
    "        in grp.index\n",
    "    ]\n",
    "    data_container[grp_type] = sem_img_filename"
   ]
  },
  {
   "cell_type": "code",
   "execution_count": null,
   "id": "9aa3fd97-7a9d-4dbe-83a2-b239371a8a33",
   "metadata": {
    "tags": []
   },
   "outputs": [],
   "source": [
    "with open('dataset/data_container.json', 'w') as f:\n",
    "    json.dump(data_container, f)"
   ]
  },
  {
   "cell_type": "code",
   "execution_count": null,
   "id": "38e35ee4-0de1-465d-b72e-fb16d1882a81",
   "metadata": {
    "tags": []
   },
   "outputs": [],
   "source": [
    "with open('dataset/data_container.json') as f:\n",
    "    sem_img_container = json.load(f)"
   ]
  },
  {
   "attachments": {},
   "cell_type": "markdown",
   "id": "801765c3-a6d2-4cbb-a365-33a22e25051b",
   "metadata": {},
   "source": [
    "## Crop"
   ]
  },
  {
   "attachments": {},
   "cell_type": "markdown",
   "id": "f8c46754-2a54-431d-bbb4-c38d1f515bd8",
   "metadata": {},
   "source": [
    "### Test Single Sem Image"
   ]
  },
  {
   "cell_type": "code",
   "execution_count": null,
   "id": "50469062-14ef-426d-94a5-dd8520565307",
   "metadata": {
    "tags": []
   },
   "outputs": [],
   "source": [
    "sem_no = 276\n",
    "sem_img = SemImage(sem_no=sem_no)"
   ]
  },
  {
   "cell_type": "code",
   "execution_count": null,
   "id": "357935cc-9fbf-4864-9830-567481865740",
   "metadata": {
    "tags": []
   },
   "outputs": [],
   "source": [
    "thresh = 90\n",
    "kernel_size = (3, 3)\n",
    "contours = sem_img.get_contour(thresh=thresh, kernel_size=kernel_size)"
   ]
  },
  {
   "cell_type": "code",
   "execution_count": null,
   "id": "fbc3e9ba-4b2e-4b41-93ba-f4f210b419d0",
   "metadata": {
    "tags": []
   },
   "outputs": [],
   "source": [
    "save = False\n",
    "sem_img.crop(contours=contours, save=save)\n",
    "sem_img.plot(bbox=True, figsize=(10, 10))"
   ]
  },
  {
   "attachments": {},
   "cell_type": "markdown",
   "id": "a8cfe441-303a-49e3-ab48-779f5d4e8d9e",
   "metadata": {
    "tags": []
   },
   "source": [
    "### Crop for each SEM Image\n",
    "\n",
    "- DOT 타입에 대해서만 진행"
   ]
  },
  {
   "cell_type": "code",
   "execution_count": null,
   "id": "15925b13-6044-41ab-8510-6b9f1a007f60",
   "metadata": {
    "tags": []
   },
   "outputs": [],
   "source": [
    "with open('dataset/data_container.json') as f:\n",
    "    img_matching = json.load(f)\n",
    "    \n",
    "dot = img_matching['DOT']"
   ]
  },
  {
   "cell_type": "code",
   "execution_count": null,
   "id": "6796a4d1-3568-4f4d-8495-fb6611172e73",
   "metadata": {
    "tags": []
   },
   "outputs": [],
   "source": [
    "target_sem_no = [int(x.split('.')[0]) for x in dot]\n",
    "cnt_dot = len(target_sem_no)"
   ]
  },
  {
   "cell_type": "code",
   "execution_count": null,
   "id": "e13a6de0-4fb8-41e1-a06b-ce5db37b7750",
   "metadata": {
    "tags": []
   },
   "outputs": [],
   "source": [
    "for i, sem_no in enumerate(target_sem_no):\n",
    "    print(f'[{i + 1}/{cnt_dot}] Processing {sem_no:05d}.JPG ...')\n",
    "    sem = SemImage(sem_no=sem_no)\n",
    "    \n",
    "    thresh = 90\n",
    "    kernel_size = (3, 3)\n",
    "    morph_type = 'open'\n",
    "    transform = sem.transform(\n",
    "        thresh=thresh,\n",
    "        kernel_size=kernel_size,\n",
    "        morph_type=morph_type,\n",
    "    )\n",
    "    contours = sem.get_contour(transform)\n",
    "    design_threshold = 0.06\n",
    "    save = True\n",
    "    sem.crop(contours=contours, design_threshold=design_threshold, save=save)\n",
    "    clear_output(wait=True)"
   ]
  },
  {
   "attachments": {},
   "cell_type": "markdown",
   "id": "ef43a749-b4fb-4985-afda-10c5779bd54f",
   "metadata": {},
   "source": [
    "## Organize\n",
    "\n",
    "- Pattern이 큰 SEM 이미지는 Error가 안나기 때문에 모델 학습시 제외시킬 예정"
   ]
  },
  {
   "cell_type": "code",
   "execution_count": null,
   "id": "e15fbcfe-c32d-42aa-a2f1-60f1c664ff7b",
   "metadata": {
    "tags": []
   },
   "outputs": [],
   "source": [
    "dot_type = posi_mh_main.query('group == \"DOT\"')"
   ]
  },
  {
   "cell_type": "code",
   "execution_count": null,
   "id": "e52d1ffa-3c74-4e10-9996-b46a8ec07508",
   "metadata": {
    "tags": []
   },
   "outputs": [],
   "source": [
    "small_pattern = dot_type.query('TARGET <= 150')\n",
    "big_pattern = dot_type.query('TARGET > 150')"
   ]
  },
  {
   "cell_type": "code",
   "execution_count": null,
   "id": "16ebccec-6822-4e4d-bb73-a3bc95be0ef8",
   "metadata": {
    "tags": []
   },
   "outputs": [],
   "source": [
    "os.mkdir('cropped/small_pattern')\n",
    "os.mkdir('cropped/big_pattern')"
   ]
  },
  {
   "cell_type": "code",
   "execution_count": null,
   "id": "aa95c9b8-f74b-4859-9c0e-fc73eb72ac80",
   "metadata": {
    "tags": []
   },
   "outputs": [],
   "source": [
    "pattern_mapping = {\n",
    "    'small_pattern': small_pattern['SEM_No'].values,\n",
    "    'big_pattern': big_pattern['SEM_No'].values,\n",
    "}\n",
    "for pattern, pattern_list in pattern_mapping.items():\n",
    "    for i in pattern_list:\n",
    "        original = f'cropped/{i}'\n",
    "        target = f'cropped/{pattern}/{i}'\n",
    "        shutil.move(original, target)"
   ]
  }
 ],
 "metadata": {
  "kernelspec": {
   "display_name": "class",
   "language": "python",
   "name": "class"
  },
  "language_info": {
   "codemirror_mode": {
    "name": "ipython",
    "version": 3
   },
   "file_extension": ".py",
   "mimetype": "text/x-python",
   "name": "python",
   "nbconvert_exporter": "python",
   "pygments_lexer": "ipython3",
   "version": "3.9.13"
  }
 },
 "nbformat": 4,
 "nbformat_minor": 5
}
