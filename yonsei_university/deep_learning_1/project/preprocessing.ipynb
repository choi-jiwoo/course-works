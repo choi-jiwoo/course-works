{
 "cells": [
  {
   "attachments": {},
   "cell_type": "markdown",
   "id": "0af7d62a-be1e-469b-a84c-75b4dbb3a7e1",
   "metadata": {},
   "source": [
    "# Preprocessing\n",
    "\n",
    "- Remain only useful information from raw excel data"
   ]
  },
  {
   "cell_type": "code",
   "execution_count": null,
   "id": "f9cf4a7c-f3b4-4dd3-a197-cca35239fc5f",
   "metadata": {
    "tags": []
   },
   "outputs": [],
   "source": [
    "import pandas as pd\n",
    "import numpy as np\n",
    "\n",
    "import matplotlib.pyplot as plt\n",
    "import seaborn as sns\n",
    "\n",
    "import warnings\n",
    "\n",
    "warnings.filterwarnings(action='ignore')"
   ]
  },
  {
   "attachments": {},
   "cell_type": "markdown",
   "id": "6bcc4c53-bb6f-46d5-a6de-6966b7d77cda",
   "metadata": {},
   "source": [
    "## Dataset"
   ]
  },
  {
   "cell_type": "code",
   "execution_count": null,
   "id": "425bd362-f1f9-49de-9ecd-b6df1d6b53aa",
   "metadata": {
    "tags": []
   },
   "outputs": [],
   "source": [
    "posi_mh = pd.read_excel('dataset/POSI_MH.xlsx')"
   ]
  },
  {
   "attachments": {},
   "cell_type": "markdown",
   "id": "21514d7d-a2cb-4596-ac4f-5b0404a18a64",
   "metadata": {},
   "source": [
    "## Preprocessing"
   ]
  },
  {
   "cell_type": "code",
   "execution_count": null,
   "id": "401fac76-735e-4a64-87b4-63d83e880b19",
   "metadata": {
    "tags": []
   },
   "outputs": [],
   "source": [
    "posi_mh_main = posi_mh[posi_mh['tag'] == 'main']"
   ]
  },
  {
   "cell_type": "code",
   "execution_count": null,
   "id": "937378a9-a640-489a-b3d4-e1f552602ba7",
   "metadata": {
    "tags": []
   },
   "outputs": [],
   "source": [
    "posi_mh_main['id'] = posi_mh_main['id'].astype(int)"
   ]
  },
  {
   "cell_type": "code",
   "execution_count": null,
   "id": "0ecbd262-d2d0-4d6f-9a3f-3b25a29cdd1a",
   "metadata": {
    "tags": []
   },
   "outputs": [],
   "source": [
    "posi_mh_main['SEM_No'] = posi_mh_main['SEM_No'].apply(lambda x: f'{x:05d}')"
   ]
  },
  {
   "cell_type": "code",
   "execution_count": null,
   "id": "b835f1f6-08ac-48ab-beaf-edef680685b5",
   "metadata": {
    "tags": []
   },
   "outputs": [],
   "source": [
    "posi_mh_main = posi_mh_main.reset_index(drop=True)"
   ]
  },
  {
   "cell_type": "code",
   "execution_count": null,
   "id": "0192df22-e049-4236-bae1-ab288b9c8947",
   "metadata": {
    "tags": []
   },
   "outputs": [],
   "source": [
    "sns.heatmap(posi_mh_main.isna(), cmap='Blues');"
   ]
  },
  {
   "cell_type": "code",
   "execution_count": null,
   "id": "f62129ed-309b-480c-b567-d1050994a77c",
   "metadata": {
    "tags": []
   },
   "outputs": [],
   "source": [
    "na_sum = posi_mh_main.isna().sum()\n",
    "na_sum = na_sum[na_sum > 0]\n",
    "na_pct = round(na_sum / len(posi_mh_main) * 100, 2)"
   ]
  },
  {
   "cell_type": "code",
   "execution_count": null,
   "id": "0476cf03-fdb7-42fc-b68f-0d4f3fff950e",
   "metadata": {
    "tags": []
   },
   "outputs": [],
   "source": [
    "all_nan_col = na_pct[na_pct == 100].index"
   ]
  },
  {
   "cell_type": "code",
   "execution_count": null,
   "id": "66e83951-4c18-4173-8d6c-3e742e32ffc6",
   "metadata": {
    "tags": []
   },
   "outputs": [],
   "source": [
    "posi_mh_main = posi_mh_main.drop(all_nan_col, axis=1)"
   ]
  },
  {
   "cell_type": "code",
   "execution_count": null,
   "id": "8ea92cb9-d8e2-404d-833b-5befe5516423",
   "metadata": {
    "tags": []
   },
   "outputs": [],
   "source": [
    "posi_mh_main.to_csv('dataset/posi_mh_main.csv', index=False)"
   ]
  }
 ],
 "metadata": {
  "kernelspec": {
   "display_name": "class",
   "language": "python",
   "name": "class"
  },
  "language_info": {
   "codemirror_mode": {
    "name": "ipython",
    "version": 3
   },
   "file_extension": ".py",
   "mimetype": "text/x-python",
   "name": "python",
   "nbconvert_exporter": "python",
   "pygments_lexer": "ipython3",
   "version": "3.9.13"
  }
 },
 "nbformat": 4,
 "nbformat_minor": 5
}
