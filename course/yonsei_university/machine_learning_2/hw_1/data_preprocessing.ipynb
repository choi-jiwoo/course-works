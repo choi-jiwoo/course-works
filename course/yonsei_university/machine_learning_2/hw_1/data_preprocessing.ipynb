{
 "cells": [
  {
   "cell_type": "markdown",
   "id": "00a764b7-fb50-42f0-b401-8f450fa08f5a",
   "metadata": {},
   "source": [
    "# i. Data Preprocessing"
   ]
  },
  {
   "cell_type": "markdown",
   "id": "25d9a3a4-40da-4b5c-9f54-33fa70963552",
   "metadata": {},
   "source": [
    "## Imports"
   ]
  },
  {
   "cell_type": "code",
   "execution_count": 27,
   "id": "214c8395-cf65-41fb-84bc-30c04b48ba52",
   "metadata": {
    "tags": []
   },
   "outputs": [],
   "source": [
    "import datatable as dt\n",
    "import pandas as pd\n",
    "import csv\n",
    "import numpy as np\n",
    "from scipy import stats\n",
    "\n",
    "from tqdm.notebook import tqdm\n",
    "from IPython.display import clear_output\n",
    "import time\n",
    "from functools import wraps\n",
    "from typing import (\n",
    "    Optional,\n",
    "    Tuple,\n",
    ")\n",
    "import re\n",
    "from datetime import timedelta\n",
    "from collections import Counter\n",
    "import os\n",
    "import warnings\n",
    "\n",
    "warnings.filterwarnings(action='ignore')"
   ]
  },
  {
   "cell_type": "markdown",
   "id": "385ffc75-b364-40a0-addc-2c5558721b6b",
   "metadata": {
    "tags": []
   },
   "source": [
    "## Load Dataset\n",
    "\n",
    "1. Convert `.xlsx` to `.csv` on non fault OES data"
   ]
  },
  {
   "cell_type": "markdown",
   "id": "1eba7a4b-f017-4fd4-8938-b8af5d8c4cd7",
   "metadata": {
    "tags": []
   },
   "source": [
    "### Preprocess Non Fault OES Data"
   ]
  },
  {
   "cell_type": "code",
   "execution_count": 2,
   "id": "e65b054a-50ae-4511-91cf-df6e02291084",
   "metadata": {
    "tags": []
   },
   "outputs": [],
   "source": [
    "dataset_path = 'dataset'"
   ]
  },
  {
   "cell_type": "markdown",
   "id": "5d6c9fcb-e829-4b85-b1a9-5e8aa633c541",
   "metadata": {
    "tags": []
   },
   "source": [
    "#### Try with one file"
   ]
  },
  {
   "cell_type": "code",
   "execution_count": 3,
   "id": "28570019-378a-4993-9f25-45700749f46f",
   "metadata": {
    "tags": []
   },
   "outputs": [
    {
     "data": {
      "text/plain": [
       "['OES_25um_Fault_C4F8_90to85_SCCM.csv',\n",
       " 'OES_25um_Fault_O2_13to11_SCCM.csv',\n",
       " 'OES_25um_Fault_PlatenPower_17to15_Watt.CSV.csv',\n",
       " 'OES_25um_Fault_SF6_130to122_SCCM.csv',\n",
       " 'OES_25um_Fault_SourcePower_800to760_Watt.CSV.csv',\n",
       " 'pickle',\n",
       " 'S2514.xlsx',\n",
       " 'S2515.xlsx',\n",
       " 'S2516.xlsx',\n",
       " 'S2517.xlsx',\n",
       " 'S2518.xlsx',\n",
       " 'S2519.xlsx',\n",
       " 'S2520.xlsx',\n",
       " 'S2521.xlsx',\n",
       " 'S2522.xlsx',\n",
       " 'S2523.xlsx',\n",
       " 'S2524.xlsx',\n",
       " 'S2525.xlsx']"
      ]
     },
     "execution_count": 3,
     "metadata": {},
     "output_type": "execute_result"
    }
   ],
   "source": [
    "os.listdir(f'{dataset_path}/25um/OES Data')"
   ]
  },
  {
   "cell_type": "code",
   "execution_count": 4,
   "id": "f152eba4-658b-4be0-8cf6-fe8ad3a785e3",
   "metadata": {
    "tags": []
   },
   "outputs": [
    {
     "name": "stdout",
     "output_type": "stream",
     "text": [
      "CPU times: total: 5min 25s\n",
      "Wall time: 5min 28s\n"
     ]
    }
   ],
   "source": [
    "%%time\n",
    "filename = f'{dataset_path}/25um/OES Data/S2514.xlsx'\n",
    "df = dt.fread(filename)"
   ]
  },
  {
   "cell_type": "code",
   "execution_count": 5,
   "id": "e15d8962-363c-41d9-998d-e922b15b93bf",
   "metadata": {
    "tags": []
   },
   "outputs": [],
   "source": [
    "df = df.to_pandas()"
   ]
  },
  {
   "cell_type": "markdown",
   "id": "ca1804dd-8e61-4f3a-b3e2-9b525fc74803",
   "metadata": {},
   "source": [
    "1. get etch date"
   ]
  },
  {
   "cell_type": "code",
   "execution_count": 6,
   "id": "ebf9048c-abda-4aef-9356-6dc000c80568",
   "metadata": {
    "tags": []
   },
   "outputs": [],
   "source": [
    "etch_date = (df\n",
    "             .columns[1]\n",
    "             .split('_')[0])"
   ]
  },
  {
   "cell_type": "code",
   "execution_count": 7,
   "id": "699a46e8-a88f-43e8-be61-b436da21d476",
   "metadata": {
    "tags": []
   },
   "outputs": [],
   "source": [
    "etch_date = re.sub(r'-', '', etch_date)"
   ]
  },
  {
   "cell_type": "markdown",
   "id": "994d8789-7ef2-4d6e-b7fa-2e133be1d4cf",
   "metadata": {},
   "source": [
    "2. convert header to appropriate header"
   ]
  },
  {
   "cell_type": "code",
   "execution_count": 8,
   "id": "f0c68b77-917e-4fe2-b94e-3133ed0ed7cf",
   "metadata": {
    "tags": []
   },
   "outputs": [],
   "source": [
    "df.columns = df.iloc[1]"
   ]
  },
  {
   "cell_type": "code",
   "execution_count": 9,
   "id": "8f01b2b1-df82-454b-843f-b06738fbca51",
   "metadata": {
    "tags": []
   },
   "outputs": [],
   "source": [
    "df = df.drop([0, 1]).reset_index(drop=True)"
   ]
  },
  {
   "cell_type": "markdown",
   "id": "bfd27fa0-909b-415f-8d13-c48c5044ecd4",
   "metadata": {},
   "source": [
    "3. convert timestamp column and rename"
   ]
  },
  {
   "cell_type": "code",
   "execution_count": 10,
   "id": "34943a70-52fe-4dfb-b7ef-df8e1c15f53a",
   "metadata": {
    "tags": []
   },
   "outputs": [],
   "source": [
    "df['Time(sec)'] = df['Time(sec)'].apply(lambda x: etch_date + re.sub(r'\\D*', '', x))"
   ]
  },
  {
   "cell_type": "code",
   "execution_count": 11,
   "id": "29b3fc62-6e79-46f5-a402-13d9587aa69f",
   "metadata": {
    "tags": []
   },
   "outputs": [],
   "source": [
    "df.rename({'Time(sec)': 'Time'}, axis=1, inplace=True)"
   ]
  },
  {
   "cell_type": "markdown",
   "id": "865f4f4d-c0b6-4d84-b133-13415217453e",
   "metadata": {},
   "source": [
    "4. add milliseconds"
   ]
  },
  {
   "cell_type": "code",
   "execution_count": 12,
   "id": "d4e99ead-5077-4379-94e4-fbd6c4c1c9a0",
   "metadata": {
    "tags": []
   },
   "outputs": [],
   "source": [
    "time_grp = df.iloc[:, :1].groupby('Time', group_keys=False)"
   ]
  },
  {
   "cell_type": "code",
   "execution_count": 13,
   "id": "10543161-ae27-404b-818d-bcba2eeb59ed",
   "metadata": {
    "scrolled": true,
    "tags": []
   },
   "outputs": [],
   "source": [
    "_ = time_grp.get_group('20140209034837').reset_index(drop=True)"
   ]
  },
  {
   "cell_type": "code",
   "execution_count": 14,
   "id": "1a8d3c52-69f5-4908-9c03-bb1f5f650a85",
   "metadata": {
    "tags": []
   },
   "outputs": [],
   "source": [
    "_['milliseconds'] = [str(x*100) for x in _.index]"
   ]
  },
  {
   "cell_type": "code",
   "execution_count": 15,
   "id": "678bb6ea-978d-4a76-b360-335861536309",
   "metadata": {
    "tags": []
   },
   "outputs": [
    {
     "data": {
      "text/plain": [
       "0   2014-02-09 03:48:37.000\n",
       "1   2014-02-09 03:48:37.100\n",
       "2   2014-02-09 03:48:37.200\n",
       "3   2014-02-09 03:48:37.300\n",
       "4   2014-02-09 03:48:37.400\n",
       "5   2014-02-09 03:48:37.500\n",
       "6   2014-02-09 03:48:37.600\n",
       "7   2014-02-09 03:48:37.700\n",
       "8   2014-02-09 03:48:37.800\n",
       "dtype: datetime64[ns]"
      ]
     },
     "execution_count": 15,
     "metadata": {},
     "output_type": "execute_result"
    }
   ],
   "source": [
    "pd.to_datetime(_.agg(''.join, axis=1), format=('%Y%m%d%H%M%S%f'))"
   ]
  },
  {
   "cell_type": "code",
   "execution_count": 17,
   "id": "a20cdf67-3744-48bf-b8bd-a3bf03c8723e",
   "metadata": {
    "tags": []
   },
   "outputs": [
    {
     "name": "stdout",
     "output_type": "stream",
     "text": [
      "CPU times: total: 1.02 s\n",
      "Wall time: 1.02 s\n"
     ]
    }
   ],
   "source": [
    "%%time\n",
    "new_date = {}\n",
    "for k in time_grp.groups.keys():\n",
    "    _ = time_grp.get_group(k).reset_index(drop=True)\n",
    "    _['milliseconds'] = [str(x*100) for x in _.index]\n",
    "    new_time_col = _.agg(''.join, axis=1)\n",
    "    new_date[k] = pd.to_datetime(new_time_col, format=('%Y%m%d%H%M%S%f'))"
   ]
  },
  {
   "cell_type": "code",
   "execution_count": 18,
   "id": "47bf3357-78e5-4694-b385-7fd4182900e3",
   "metadata": {
    "tags": []
   },
   "outputs": [],
   "source": [
    "new_date_col = pd.concat(new_date.values()).reset_index(drop=True)"
   ]
  },
  {
   "cell_type": "code",
   "execution_count": 19,
   "id": "d17e37a6-9acd-4eaf-a2f1-ec1f73f21e7b",
   "metadata": {
    "tags": []
   },
   "outputs": [],
   "source": [
    "df['Time'] = new_date_col"
   ]
  },
  {
   "cell_type": "markdown",
   "id": "5ed45c9d-9554-4407-a342-a8b29b001c60",
   "metadata": {
    "tags": []
   },
   "source": [
    "#### Apply to all data\n",
    "\n",
    "`25um`, `80um`에 대해 모두 진행"
   ]
  },
  {
   "cell_type": "markdown",
   "id": "03a49b5e-5a6f-4e6d-991a-5de895461119",
   "metadata": {
    "tags": []
   },
   "source": [
    "##### Normal data"
   ]
  },
  {
   "cell_type": "code",
   "execution_count": 32,
   "id": "dea37ad8-4c9f-457a-99d0-3d0a50dce280",
   "metadata": {
    "tags": []
   },
   "outputs": [
    {
     "name": "stdout",
     "output_type": "stream",
     "text": [
      "[12/12] >>> Processing \"S2525.xlsx\" ...\n"
     ]
    }
   ],
   "source": [
    "dir_list = [\n",
    "    'dataset/80um/OES Data',\n",
    "    'dataset/25um/OES Data',\n",
    "]\n",
    "\n",
    "for dir_ in dir_list:\n",
    "    target_file = os.listdir(dir_)[6:]\n",
    "    \n",
    "    for i, filename in enumerate(target_file):\n",
    "        try:\n",
    "            clear_output(wait=True)\n",
    "            print(f'[{i+1}/{len(target_file)}] >>> Processing \"{filename}\" ...')\n",
    "            df = dt.fread(f'{dir_}/{filename}')\n",
    "            df = df.to_pandas()\n",
    "\n",
    "            etch_date = (df\n",
    "                         .columns[1]\n",
    "                         .split('_')[0])\n",
    "            etch_date = re.sub(r'-', '', etch_date)\n",
    "\n",
    "            df.columns = df.iloc[1]\n",
    "            df = df.drop([0, 1]).reset_index(drop=True)\n",
    "            df['Time(sec)'] = df['Time(sec)'].apply(lambda x: etch_date + re.sub(r'\\D*', '', x))\n",
    "            df.rename({'Time(sec)': 'Time'}, axis=1, inplace=True)\n",
    "\n",
    "            time_grp = df.iloc[:, :1].groupby('Time', group_keys=False)\n",
    "            new_date = {}\n",
    "            for k in tqdm(time_grp.groups.keys()):\n",
    "                _ = time_grp.get_group(k).reset_index(drop=True)\n",
    "                _['milliseconds'] = [str(x*100) for x in _.index]\n",
    "                new_time_col = _.agg(''.join, axis=1)\n",
    "                new_date[k] = pd.to_datetime(new_time_col, format=('%Y%m%d%H%M%S%f'))\n",
    "\n",
    "            new_date_col = pd.concat(new_date.values()).reset_index(drop=True)\n",
    "            df['Time'] = new_date_col\n",
    "            file = filename.split('.')[0]\n",
    "            df.to_pickle(f'{dir_}/pickle/{file}.pkl')\n",
    "        except Exception as e:\n",
    "            print(e)\n",
    "            print(f'>>> Error Location: {filename}')"
   ]
  },
  {
   "cell_type": "markdown",
   "id": "2bce9d9b-57e0-43e1-83e9-4aa0e49cfcae",
   "metadata": {
    "tags": []
   },
   "source": [
    "##### Abnormal data"
   ]
  },
  {
   "cell_type": "code",
   "execution_count": 42,
   "id": "fe0bcaac-a9d8-4c38-b6e1-d0334e64e336",
   "metadata": {
    "tags": []
   },
   "outputs": [
    {
     "name": "stdout",
     "output_type": "stream",
     "text": [
      "[5/5] >>> Processing \"OES_25um_Fault_SourcePower_800to760_Watt.CSV.csv\" ...\n"
     ]
    }
   ],
   "source": [
    "dir_list = [\n",
    "    'dataset/80um/OES Data',\n",
    "    'dataset/25um/OES Data',\n",
    "]\n",
    "\n",
    "for dir_ in dir_list:\n",
    "    target_file = os.listdir(dir_)[:5]\n",
    "    \n",
    "    for i, filename in enumerate(target_file):\n",
    "        try:\n",
    "            clear_output(wait=True)\n",
    "            print(f'[{i+1}/{len(target_file)}] >>> Processing \"{filename}\" ...')\n",
    "\n",
    "            etch_date = ''\n",
    "            df = []\n",
    "            with open(f'{dir_}/{filename}', 'r', encoding='utf-8') as f:\n",
    "                rdr = csv.reader(f)\n",
    "                for i, line in enumerate(rdr):\n",
    "                    if i == 0:\n",
    "                        date_info = line[1]\n",
    "                        etch_date = re.sub(r'-', '', date_info.split('_')[0])\n",
    "                        continue\n",
    "                    if i == 1:\n",
    "                        continue\n",
    "                    df.append(line)\n",
    "            df = pd.DataFrame(df)\n",
    "            df.columns = df.iloc[0, :]\n",
    "            df.drop([0], inplace=True)\n",
    "            df.drop([''], axis=1, inplace=True)\n",
    "            df.reset_index(drop=True, inplace=True)\n",
    "\n",
    "            df['Time(sec)'] = df['Time(sec)'].apply(lambda x: etch_date + re.sub(r'\\D*', '', x))\n",
    "            df.rename({'Time(sec)': 'Time'}, axis=1, inplace=True)\n",
    "            time_grp = df.iloc[:, :1].groupby('Time', group_keys=False)\n",
    "\n",
    "            new_date = {}\n",
    "            for k in time_grp.groups.keys():\n",
    "                _ = time_grp.get_group(k).reset_index(drop=True)\n",
    "                _['milliseconds'] = [str(x*100) for x in _.index]\n",
    "                new_time_col = _.agg(''.join, axis=1)\n",
    "                new_date[k] = pd.to_datetime(new_time_col, format=('%Y%m%d%H%M%S%f'))\n",
    "\n",
    "            new_date_col = pd.concat(new_date.values()).reset_index(drop=True)\n",
    "            df['Time'] = new_date_col\n",
    "            file = filename.split('.')[0]\n",
    "            df.to_pickle(f'{dir_}/pickle/{file}.pkl')\n",
    "        except Exception as e:\n",
    "            print(e)\n",
    "            print(f'>>> Error Location: {filename}')"
   ]
  },
  {
   "cell_type": "markdown",
   "id": "45b978d3-f0db-4ff3-821f-371c898dc3ae",
   "metadata": {},
   "source": [
    "##### Revert\n",
    "\n",
    "시간에 대한 정보가 굳이 필요없어보임"
   ]
  },
  {
   "cell_type": "code",
   "execution_count": null,
   "id": "b43e4a95-391e-40fb-8453-1a74ed87111b",
   "metadata": {
    "scrolled": true,
    "tags": []
   },
   "outputs": [],
   "source": [
    "%%time\n",
    "for micro_dir in ['25', '80']:\n",
    "    dir_ = f'dataset//{micro_dir}um/OES Data/pickle'\n",
    "    target_file = os.listdir(dir_)\n",
    "    for i, filename in enumerate(target_file):\n",
    "        try:\n",
    "            print(f'[{i+1}/{len(target_file)}] >>> Processing \"{filename}\" ...')\n",
    "            oes = pd.read_pickle(f'{dir_}/{filename}')\n",
    "            oes.columns = oes.columns.astype(str)\n",
    "            oes['Time'] = oes['Time'].values.astype('<M8[s]')\n",
    "            oes['Time'] = oes['Time'].apply(lambda x: x.time().strftime(format='%Hh%Mm%Ss'))\n",
    "            oes.rename({'Time': 'Time(sec)'}, axis=1, inplace=True)\n",
    "            file = filename.split('.')[0]\n",
    "            oes.to_pickle(f'{dir_}/{file}.pkl')\n",
    "        except Exception as e:\n",
    "            print(e)"
   ]
  },
  {
   "cell_type": "markdown",
   "id": "c01556d3-e233-44a9-9345-2e3479500ae6",
   "metadata": {
    "tags": []
   },
   "source": [
    "### Preprocess FDC Data"
   ]
  },
  {
   "cell_type": "markdown",
   "id": "e97e230b-10b0-444f-bde2-a3abecc4d918",
   "metadata": {},
   "source": [
    "#### Try with one file"
   ]
  },
  {
   "cell_type": "code",
   "execution_count": 66,
   "id": "fca1c83a-4b01-47fb-b41a-c895d1c6823f",
   "metadata": {},
   "outputs": [
    {
     "name": "stdout",
     "output_type": "stream",
     "text": [
      ">>> load_dataset('dataset\\\\80um\\\\FDC Data\\\\FDC_80um_Fault_C4F8_90to85_SCCM.csv',) => (0.01s)\n"
     ]
    }
   ],
   "source": [
    "df = load_dataset('dataset\\\\80um\\FDC Data\\FDC_80um_Fault_C4F8_90to85_SCCM.csv')"
   ]
  },
  {
   "cell_type": "markdown",
   "id": "069193d8-4453-4176-b866-326aebfd1e64",
   "metadata": {},
   "source": [
    "날짜 형식이 안맞아서 14-02-08이 2008-2-14로 나옴"
   ]
  },
  {
   "cell_type": "code",
   "execution_count": 67,
   "id": "d3e9b7b6-4654-4130-998f-1a3f9211cdc4",
   "metadata": {},
   "outputs": [],
   "source": [
    "date = df.iloc[1, 2]\n",
    "time_ = df.iloc[2, 2]\n",
    "date = pd.to_datetime(date, dayfirst=True).strftime(format='%Y-%m-%d')\n",
    "date_time = ' '.join([date, time_])"
   ]
  },
  {
   "cell_type": "code",
   "execution_count": 68,
   "id": "559565e9-de16-4530-9786-6f2e36f1833b",
   "metadata": {},
   "outputs": [
    {
     "data": {
      "text/plain": [
       "'2014-02-08 22:55:49'"
      ]
     },
     "execution_count": 68,
     "metadata": {},
     "output_type": "execute_result"
    }
   ],
   "source": [
    "date_time"
   ]
  },
  {
   "cell_type": "code",
   "execution_count": 72,
   "id": "d452c419-606f-42f3-a04d-0b8d902acc3a",
   "metadata": {},
   "outputs": [],
   "source": [
    "df.columns = df.iloc[6]"
   ]
  },
  {
   "cell_type": "code",
   "execution_count": null,
   "id": "d9798ee6-0eb1-4bfe-a7f1-3a49fab65564",
   "metadata": {},
   "outputs": [],
   "source": [
    "df = df.iloc[7:, :]"
   ]
  },
  {
   "cell_type": "code",
   "execution_count": 78,
   "id": "63b75c82-2a94-4118-9e2c-1cd741b2fd8d",
   "metadata": {},
   "outputs": [],
   "source": [
    "df['date'] = date_time"
   ]
  },
  {
   "cell_type": "code",
   "execution_count": 79,
   "id": "644f3ed8-2dba-4ca4-b1a2-b5d5198b4c8d",
   "metadata": {},
   "outputs": [],
   "source": [
    "df.insert(\n",
    "    0,\n",
    "    'date',\n",
    "    df.pop('date')\n",
    ")"
   ]
  },
  {
   "cell_type": "code",
   "execution_count": 81,
   "id": "bbf9985b-f8f9-4979-912f-fb412990222b",
   "metadata": {},
   "outputs": [
    {
     "data": {
      "text/html": [
       "<div>\n",
       "<style scoped>\n",
       "    .dataframe tbody tr th:only-of-type {\n",
       "        vertical-align: middle;\n",
       "    }\n",
       "\n",
       "    .dataframe tbody tr th {\n",
       "        vertical-align: top;\n",
       "    }\n",
       "\n",
       "    .dataframe thead th {\n",
       "        text-align: right;\n",
       "    }\n",
       "</style>\n",
       "<table border=\"1\" class=\"dataframe\">\n",
       "  <thead>\n",
       "    <tr style=\"text-align: right;\">\n",
       "      <th>6</th>\n",
       "      <th>date</th>\n",
       "      <th>Time</th>\n",
       "      <th>[1] C4F8</th>\n",
       "      <th>[2] SF6</th>\n",
       "      <th>[3] O2</th>\n",
       "      <th>Pressure</th>\n",
       "      <th>RF1 Power</th>\n",
       "      <th>RF1 Reflected</th>\n",
       "      <th>RF Peak</th>\n",
       "      <th>RF Bias</th>\n",
       "      <th>...</th>\n",
       "      <th>RF2 Load</th>\n",
       "      <th>RF2 Tune</th>\n",
       "      <th>APC Angle</th>\n",
       "      <th>He Leakup Rate</th>\n",
       "      <th>He Pressure</th>\n",
       "      <th>He Flow</th>\n",
       "      <th>Process Phase</th>\n",
       "      <th>ASE Phase</th>\n",
       "      <th>ASE Cycles</th>\n",
       "      <th>ASE Downcount</th>\n",
       "    </tr>\n",
       "  </thead>\n",
       "  <tbody>\n",
       "    <tr>\n",
       "      <th>7</th>\n",
       "      <td>2014-02-08 22:55:49</td>\n",
       "      <td>0</td>\n",
       "      <td>0</td>\n",
       "      <td>0</td>\n",
       "      <td>0</td>\n",
       "      <td>0</td>\n",
       "      <td>0.5</td>\n",
       "      <td>0.1</td>\n",
       "      <td>0</td>\n",
       "      <td>0</td>\n",
       "      <td>...</td>\n",
       "      <td>49.2</td>\n",
       "      <td>49.9</td>\n",
       "      <td>66</td>\n",
       "      <td>0</td>\n",
       "      <td>2.6</td>\n",
       "      <td>2.8</td>\n",
       "      <td>PumpingToTripPressure</td>\n",
       "      <td></td>\n",
       "      <td></td>\n",
       "      <td></td>\n",
       "    </tr>\n",
       "    <tr>\n",
       "      <th>8</th>\n",
       "      <td>2014-02-08 22:55:49</td>\n",
       "      <td>0</td>\n",
       "      <td>0</td>\n",
       "      <td>0</td>\n",
       "      <td>0</td>\n",
       "      <td>0</td>\n",
       "      <td>0.5</td>\n",
       "      <td>0.1</td>\n",
       "      <td>0</td>\n",
       "      <td>0</td>\n",
       "      <td>...</td>\n",
       "      <td>35.6</td>\n",
       "      <td>45.1</td>\n",
       "      <td>68.4</td>\n",
       "      <td>2.1</td>\n",
       "      <td>1.3</td>\n",
       "      <td>2.8</td>\n",
       "      <td>GasStab</td>\n",
       "      <td></td>\n",
       "      <td></td>\n",
       "      <td></td>\n",
       "    </tr>\n",
       "    <tr>\n",
       "      <th>9</th>\n",
       "      <td>2014-02-08 22:55:49</td>\n",
       "      <td>63</td>\n",
       "      <td>46.4</td>\n",
       "      <td>35.4</td>\n",
       "      <td>0</td>\n",
       "      <td>100</td>\n",
       "      <td>0.5</td>\n",
       "      <td>0.1</td>\n",
       "      <td>0</td>\n",
       "      <td>3</td>\n",
       "      <td>...</td>\n",
       "      <td>35.5</td>\n",
       "      <td>45.1</td>\n",
       "      <td>18.8</td>\n",
       "      <td>2.1</td>\n",
       "      <td>1.3</td>\n",
       "      <td>3.2</td>\n",
       "      <td>GasStab</td>\n",
       "      <td></td>\n",
       "      <td></td>\n",
       "      <td></td>\n",
       "    </tr>\n",
       "  </tbody>\n",
       "</table>\n",
       "<p>3 rows × 24 columns</p>\n",
       "</div>"
      ],
      "text/plain": [
       "6                 date Time [1] C4F8 [2] SF6 [3] O2 Pressure RF1 Power  \\\n",
       "7  2014-02-08 22:55:49    0        0       0      0        0       0.5   \n",
       "8  2014-02-08 22:55:49    0        0       0      0        0       0.5   \n",
       "9  2014-02-08 22:55:49   63     46.4    35.4      0      100       0.5   \n",
       "\n",
       "6 RF1 Reflected RF Peak RF Bias  ... RF2 Load RF2 Tune APC Angle  \\\n",
       "7           0.1       0       0  ...     49.2     49.9        66   \n",
       "8           0.1       0       0  ...     35.6     45.1      68.4   \n",
       "9           0.1       0       3  ...     35.5     45.1      18.8   \n",
       "\n",
       "6 He Leakup Rate He Pressure He Flow          Process Phase ASE Phase  \\\n",
       "7              0         2.6     2.8  PumpingToTripPressure             \n",
       "8            2.1         1.3     2.8                GasStab             \n",
       "9            2.1         1.3     3.2                GasStab             \n",
       "\n",
       "6 ASE Cycles ASE Downcount  \n",
       "7                           \n",
       "8                           \n",
       "9                           \n",
       "\n",
       "[3 rows x 24 columns]"
      ]
     },
     "execution_count": 81,
     "metadata": {},
     "output_type": "execute_result"
    }
   ],
   "source": [
    "df.head(3)"
   ]
  },
  {
   "cell_type": "markdown",
   "id": "63092007-4631-4efe-814c-162ceb2fc701",
   "metadata": {
    "tags": []
   },
   "source": [
    "#### Apply to all data"
   ]
  },
  {
   "cell_type": "code",
   "execution_count": 44,
   "id": "127eb33b-5ed2-4e6d-a454-60b918166fd3",
   "metadata": {
    "tags": []
   },
   "outputs": [
    {
     "name": "stdout",
     "output_type": "stream",
     "text": [
      "[19/19] >>> Processing \"pickle\" ...\n"
     ]
    }
   ],
   "source": [
    "dir_list = [\n",
    "    'dataset/80um/FDC Data',\n",
    "    'dataset/25um/FDC Data',\n",
    "]\n",
    "for dir_ in dir_list:\n",
    "    target_file = os.listdir(dir_)\n",
    "    \n",
    "    for i, filename in enumerate(target_file):\n",
    "        try:\n",
    "            clear_output(wait=True)\n",
    "            print(f'[{i+1}/{len(target_file)}] >>> Processing \"{filename}\" ...')\n",
    "            file = filename.split('.')\n",
    "            if (file == '') or (len(file) == 1):\n",
    "                print(f'Skipping file \"{filename}\". Not a csv file.')\n",
    "                continue\n",
    "\n",
    "            df = load_dataset(f'{dir_}/{filename}')\n",
    "            date = df.iloc[1, 2]\n",
    "            time_ = df.iloc[2, 2]\n",
    "            date = pd.to_datetime(date, dayfirst=True).strftime(format='%Y-%m-%d')\n",
    "            date_time = ' '.join([date, time_])\n",
    "            df.columns = df.iloc[6]\n",
    "            df = df.iloc[7:, :]\n",
    "            df['date'] = date_time\n",
    "            df.insert(\n",
    "                0,\n",
    "                'date',\n",
    "                df.pop('date')\n",
    "            )\n",
    "            file = file[0]\n",
    "            df.to_pickle(f'{dir_}/pickle/{file}.pkl')\n",
    "        except Exception as e:\n",
    "            print(e)\n",
    "            print(f'>>> Error Location: {filename}')"
   ]
  },
  {
   "cell_type": "markdown",
   "id": "6bca9c6e-4dfa-4b21-826e-aa4258403ecb",
   "metadata": {},
   "source": [
    "# ii. Feature Selection in OES Data"
   ]
  },
  {
   "cell_type": "markdown",
   "id": "054f4f5b-a9f9-416f-8a81-0a63eac8bb9d",
   "metadata": {},
   "source": [
    "## Imports"
   ]
  },
  {
   "cell_type": "code",
   "execution_count": 1,
   "id": "618bef7c-ab56-4205-bdbd-023554152e70",
   "metadata": {},
   "outputs": [],
   "source": [
    "from tqdm.notebook import tqdm\n",
    "import os\n",
    "import re\n",
    "import pandas as pd\n",
    "import numpy as np\n",
    "import warnings\n",
    "import matplotlib.pyplot as plt\n",
    "import seaborn as sns\n",
    "%matplotlib inline\n",
    "\n",
    "warnings.filterwarnings(action='ignore')"
   ]
  },
  {
   "cell_type": "markdown",
   "id": "564586bf-f72f-4761-b755-b2b324ef6cb5",
   "metadata": {
    "tags": []
   },
   "source": [
    "## Try with one wafer"
   ]
  },
  {
   "cell_type": "markdown",
   "id": "924fd2c6-592f-4f13-b6ed-de1e2e7238cd",
   "metadata": {
    "tags": []
   },
   "source": [
    "## Load Dataset"
   ]
  },
  {
   "cell_type": "code",
   "execution_count": 4,
   "id": "b5806956-b3a8-46b3-9f53-4b181d78f796",
   "metadata": {},
   "outputs": [],
   "source": [
    "micro_dir = '80'"
   ]
  },
  {
   "cell_type": "code",
   "execution_count": 5,
   "id": "0eb6e7d7-8871-4ecd-881a-a3e443bee2a5",
   "metadata": {},
   "outputs": [
    {
     "data": {
      "text/plain": [
       "['1d_oes_data',\n",
       " 'feature_reduced',\n",
       " 'OES_80um_Fault_C4F8_90to85_SCCM.pkl',\n",
       " 'OES_80um_Fault_O2_13to11_SCCM.pkl',\n",
       " 'OES_80um_Fault_PlatenPower_17to15_Watt.pkl',\n",
       " 'OES_80um_Fault_SF6_130to122_SCCM.pkl',\n",
       " 'OES_80um_Fault_SourcePower_800to760_Watt.pkl',\n",
       " 'S8014.pkl',\n",
       " 'S8015.pkl',\n",
       " 'S8016.pkl',\n",
       " 'S8017.pkl',\n",
       " 'S8018.pkl',\n",
       " 'S8019.pkl',\n",
       " 'S8020.pkl',\n",
       " 'S8021.pkl',\n",
       " 'S8022.pkl',\n",
       " 'S8023.pkl',\n",
       " 'S8024.pkl',\n",
       " 'S8025.pkl',\n",
       " 'timeseries_summary']"
      ]
     },
     "execution_count": 5,
     "metadata": {},
     "output_type": "execute_result"
    }
   ],
   "source": [
    "dir_ = f'dataset//{micro_dir}um/OES Data/pickle'\n",
    "file_list = os.listdir(dir_)\n",
    "file_list"
   ]
  },
  {
   "cell_type": "code",
   "execution_count": 8,
   "id": "18b28e76-fc0a-47fd-be9e-c82f010fd795",
   "metadata": {},
   "outputs": [],
   "source": [
    "oes = pd.read_pickle(f'{dir_}/S{micro_dir}14.pkl')\n",
    "oes = oes.set_index('Time(sec)').astype(float).reset_index()"
   ]
  },
  {
   "cell_type": "markdown",
   "id": "4f30db4e-79eb-467f-a1e3-59ed59ed9295",
   "metadata": {},
   "source": [
    "## Variable Selection\n",
    "\n",
    "PCA가 분산이 큰 방향으로 주성분을 생성한다는 성질을 이용하여 분산이 큰 파장을 임의의 기준으로 선택"
   ]
  },
  {
   "cell_type": "markdown",
   "id": "5c40bffa-a60a-4cec-85b9-259a0a7a50d0",
   "metadata": {},
   "source": [
    "#### Get threshold"
   ]
  },
  {
   "cell_type": "code",
   "execution_count": 9,
   "id": "19839005-b6d2-40b6-a714-833c1efab752",
   "metadata": {},
   "outputs": [],
   "source": [
    "oes_wavelength_std = oes.std()"
   ]
  },
  {
   "cell_type": "code",
   "execution_count": 10,
   "id": "7416d8fe-8c80-4f62-bbe9-8badc4a5c712",
   "metadata": {
    "tags": []
   },
   "outputs": [
    {
     "data": {
      "image/png": "[encoded data removed]",
      "text/plain": [
       "<Figure size 700x200 with 1 Axes>"
      ]
     },
     "metadata": {},
     "output_type": "display_data"
    }
   ],
   "source": [
    "plt.figure(figsize=(7, 2))\n",
    "plt.scatter(x=range(len(oes_wavelength_std)), y=oes_wavelength_std, s=1)\n",
    "plt.margins(x=0)\n",
    "plt.show()"
   ]
  },
  {
   "cell_type": "code",
   "execution_count": 11,
   "id": "31eef476-96ef-4262-911b-5ef8c012eca5",
   "metadata": {},
   "outputs": [
    {
     "data": {
      "image/png": "[encoded data removed]",
      "text/plain": [
       "<Figure size 700x200 with 1 Axes>"
      ]
     },
     "metadata": {},
     "output_type": "display_data"
    }
   ],
   "source": [
    "plt.figure(figsize=(7, 2))\n",
    "n, bins, _ = plt.hist(oes_wavelength_std)\n",
    "plt.show()"
   ]
  },
  {
   "cell_type": "code",
   "execution_count": 21,
   "id": "e0ef0c12-1115-46eb-92c1-5a06b4bf1f9c",
   "metadata": {},
   "outputs": [],
   "source": [
    "percentile = 70\n",
    "n, bins = np.histogram(oes_wavelength_std)\n",
    "threshold = np.percentile(bins, percentile)\n",
    "top_oes_std = oes_wavelength_std[oes_wavelength_std.sort_values(ascending=False) > threshold]"
   ]
  },
  {
   "cell_type": "code",
   "execution_count": 22,
   "id": "eb54deeb-b75e-4184-bf60-680886d50c15",
   "metadata": {},
   "outputs": [
    {
     "data": {
      "text/plain": [
       "2302.582711222567"
      ]
     },
     "execution_count": 22,
     "metadata": {},
     "output_type": "execute_result"
    }
   ],
   "source": [
    "threshold"
   ]
  },
  {
   "cell_type": "code",
   "execution_count": 23,
   "id": "2903164a-7ffe-4135-a595-1feff86a4db6",
   "metadata": {},
   "outputs": [
    {
     "data": {
      "image/png": "[encoded data removed]",
      "text/plain": [
       "<Figure size 700x200 with 1 Axes>"
      ]
     },
     "metadata": {},
     "output_type": "display_data"
    }
   ],
   "source": [
    "plt.figure(figsize=(7, 2))\n",
    "plt.hist(top_oes_std)\n",
    "plt.show()"
   ]
  },
  {
   "cell_type": "markdown",
   "id": "daf19b55-ba01-410f-a75c-af9dad6c93d5",
   "metadata": {},
   "source": [
    "#### Select variables"
   ]
  },
  {
   "cell_type": "code",
   "execution_count": 24,
   "id": "b2ab9654-cf82-4275-80d5-0e2d2aecbd82",
   "metadata": {},
   "outputs": [],
   "source": [
    "wavelength_set = [wavelength.split('.')[0] for wavelength in top_oes_std.index]\n",
    "wavelength_set = set(wavelength_set)\n",
    "wavelength_set = sorted(wavelength_set)"
   ]
  },
  {
   "cell_type": "code",
   "execution_count": 25,
   "id": "b801b45a-4479-4ff0-a19e-db0ea801cad0",
   "metadata": {},
   "outputs": [],
   "source": [
    "oes_wavelength_container = {}\n",
    "for i in wavelength_set:\n",
    "    pattern = f'^{i}'\n",
    "    oes_wavelength_container[i] = oes.filter(regex=pattern, axis=1)"
   ]
  },
  {
   "cell_type": "code",
   "execution_count": 26,
   "id": "2877860c-82cd-4282-98a0-e14877d0a65f",
   "metadata": {},
   "outputs": [],
   "source": [
    "oes_wavelength_container = pd.concat(oes_wavelength_container.values(), axis=1)"
   ]
  },
  {
   "cell_type": "markdown",
   "id": "448c1858-2a82-42fa-9157-65fe0697ffb0",
   "metadata": {},
   "source": [
    "표준편차가 가장 큰 파장"
   ]
  },
  {
   "cell_type": "code",
   "execution_count": 27,
   "id": "68a53416-0248-4f86-b9d6-100a6ecdcbb9",
   "metadata": {},
   "outputs": [
    {
     "data": {
      "text/plain": [
       "1\n",
       "517.126    2410.138744\n",
       "517.36     2471.753322\n",
       "517.595    2040.716235\n",
       "517.83     1402.994157\n",
       "686.106    1586.638107\n",
       "686.349    2333.745919\n",
       "686.592    2398.772352\n",
       "686.836    2187.295356\n",
       "704.138    1189.078737\n",
       "704.382    2771.903566\n",
       "704.626    3270.189768\n",
       "704.87     3134.001354\n",
       "705.114    2750.770136\n",
       "705.358    2308.830534\n",
       "705.602    1945.293091\n",
       "705.846    1649.551160\n",
       "Name: 0, dtype: float64"
      ]
     },
     "execution_count": 27,
     "metadata": {},
     "output_type": "execute_result"
    }
   ],
   "source": [
    "oes_wavelength_std.to_frame().T[oes_wavelength_container.columns].iloc[0]"
   ]
  },
  {
   "cell_type": "code",
   "execution_count": 28,
   "id": "3764a294-cc0d-446f-bde6-2051749654f7",
   "metadata": {},
   "outputs": [],
   "source": [
    "wavelength_candidate = oes_wavelength_std.to_frame().T[oes_wavelength_container.columns].iloc[0]\n",
    "highest_std_wavelength = wavelength_candidate[wavelength_candidate > threshold]\n",
    "highest_std_wavelength_container = {}\n",
    "for i in highest_std_wavelength.index:\n",
    "    pattern = f'^{i}'\n",
    "    highest_std_wavelength_container[i] = oes.filter(regex=pattern, axis=1)\n",
    "highest_std_wavelength_container = pd.concat(highest_std_wavelength_container.values(), axis=1)\n",
    "\n",
    "reduced_wavelength = pd.concat([\n",
    "    oes['Time(sec)'],\n",
    "    highest_std_wavelength_container,\n",
    "], axis=1)"
   ]
  },
  {
   "cell_type": "code",
   "execution_count": 29,
   "id": "b51ff53f-51f6-46ae-a05d-736f7b4c31d2",
   "metadata": {},
   "outputs": [
    {
     "data": {
      "text/html": [
       "<div>\n",
       "<style scoped>\n",
       "    .dataframe tbody tr th:only-of-type {\n",
       "        vertical-align: middle;\n",
       "    }\n",
       "\n",
       "    .dataframe tbody tr th {\n",
       "        vertical-align: top;\n",
       "    }\n",
       "\n",
       "    .dataframe thead th {\n",
       "        text-align: right;\n",
       "    }\n",
       "</style>\n",
       "<table border=\"1\" class=\"dataframe\">\n",
       "  <thead>\n",
       "    <tr style=\"text-align: right;\">\n",
       "      <th></th>\n",
       "      <th>Time(sec)</th>\n",
       "      <th>517.126</th>\n",
       "      <th>517.36</th>\n",
       "      <th>686.349</th>\n",
       "      <th>686.592</th>\n",
       "      <th>704.382</th>\n",
       "      <th>704.626</th>\n",
       "      <th>704.87</th>\n",
       "      <th>705.114</th>\n",
       "      <th>705.358</th>\n",
       "    </tr>\n",
       "  </thead>\n",
       "  <tbody>\n",
       "    <tr>\n",
       "      <th>0</th>\n",
       "      <td>21h15m07s</td>\n",
       "      <td>2854.0</td>\n",
       "      <td>2848.0</td>\n",
       "      <td>2732.0</td>\n",
       "      <td>2790.0</td>\n",
       "      <td>2829.0</td>\n",
       "      <td>2780.0</td>\n",
       "      <td>2801.0</td>\n",
       "      <td>2843.0</td>\n",
       "      <td>2784.0</td>\n",
       "    </tr>\n",
       "    <tr>\n",
       "      <th>1</th>\n",
       "      <td>21h15m07s</td>\n",
       "      <td>2854.0</td>\n",
       "      <td>2848.0</td>\n",
       "      <td>2732.0</td>\n",
       "      <td>2790.0</td>\n",
       "      <td>2829.0</td>\n",
       "      <td>2780.0</td>\n",
       "      <td>2801.0</td>\n",
       "      <td>2843.0</td>\n",
       "      <td>2784.0</td>\n",
       "    </tr>\n",
       "    <tr>\n",
       "      <th>2</th>\n",
       "      <td>21h15m07s</td>\n",
       "      <td>2802.0</td>\n",
       "      <td>2850.0</td>\n",
       "      <td>2904.0</td>\n",
       "      <td>2883.0</td>\n",
       "      <td>2955.0</td>\n",
       "      <td>2856.0</td>\n",
       "      <td>2774.0</td>\n",
       "      <td>2771.0</td>\n",
       "      <td>2766.0</td>\n",
       "    </tr>\n",
       "    <tr>\n",
       "      <th>3</th>\n",
       "      <td>21h15m07s</td>\n",
       "      <td>2862.0</td>\n",
       "      <td>2897.0</td>\n",
       "      <td>2889.0</td>\n",
       "      <td>2845.0</td>\n",
       "      <td>2792.0</td>\n",
       "      <td>2787.0</td>\n",
       "      <td>2873.0</td>\n",
       "      <td>2841.0</td>\n",
       "      <td>2800.0</td>\n",
       "    </tr>\n",
       "    <tr>\n",
       "      <th>4</th>\n",
       "      <td>21h15m07s</td>\n",
       "      <td>2779.0</td>\n",
       "      <td>2757.0</td>\n",
       "      <td>2845.0</td>\n",
       "      <td>2914.0</td>\n",
       "      <td>2893.0</td>\n",
       "      <td>2862.0</td>\n",
       "      <td>2816.0</td>\n",
       "      <td>2741.0</td>\n",
       "      <td>2721.0</td>\n",
       "    </tr>\n",
       "    <tr>\n",
       "      <th>...</th>\n",
       "      <td>...</td>\n",
       "      <td>...</td>\n",
       "      <td>...</td>\n",
       "      <td>...</td>\n",
       "      <td>...</td>\n",
       "      <td>...</td>\n",
       "      <td>...</td>\n",
       "      <td>...</td>\n",
       "      <td>...</td>\n",
       "      <td>...</td>\n",
       "    </tr>\n",
       "    <tr>\n",
       "      <th>8813</th>\n",
       "      <td>21h31m09s</td>\n",
       "      <td>2787.0</td>\n",
       "      <td>2772.0</td>\n",
       "      <td>2809.0</td>\n",
       "      <td>2776.0</td>\n",
       "      <td>2826.0</td>\n",
       "      <td>2772.0</td>\n",
       "      <td>2792.0</td>\n",
       "      <td>2783.0</td>\n",
       "      <td>2767.0</td>\n",
       "    </tr>\n",
       "    <tr>\n",
       "      <th>8814</th>\n",
       "      <td>21h31m10s</td>\n",
       "      <td>2860.0</td>\n",
       "      <td>2852.0</td>\n",
       "      <td>2820.0</td>\n",
       "      <td>2845.0</td>\n",
       "      <td>2860.0</td>\n",
       "      <td>2846.0</td>\n",
       "      <td>2783.0</td>\n",
       "      <td>2797.0</td>\n",
       "      <td>2801.0</td>\n",
       "    </tr>\n",
       "    <tr>\n",
       "      <th>8815</th>\n",
       "      <td>21h31m10s</td>\n",
       "      <td>2873.0</td>\n",
       "      <td>2879.0</td>\n",
       "      <td>2772.0</td>\n",
       "      <td>2842.0</td>\n",
       "      <td>2849.0</td>\n",
       "      <td>2872.0</td>\n",
       "      <td>2837.0</td>\n",
       "      <td>2866.0</td>\n",
       "      <td>2828.0</td>\n",
       "    </tr>\n",
       "    <tr>\n",
       "      <th>8816</th>\n",
       "      <td>21h31m10s</td>\n",
       "      <td>2891.0</td>\n",
       "      <td>2890.0</td>\n",
       "      <td>2848.0</td>\n",
       "      <td>2774.0</td>\n",
       "      <td>2853.0</td>\n",
       "      <td>2785.0</td>\n",
       "      <td>2788.0</td>\n",
       "      <td>2745.0</td>\n",
       "      <td>2756.0</td>\n",
       "    </tr>\n",
       "    <tr>\n",
       "      <th>8817</th>\n",
       "      <td>21h31m10s</td>\n",
       "      <td>2773.0</td>\n",
       "      <td>2753.0</td>\n",
       "      <td>2912.0</td>\n",
       "      <td>2887.0</td>\n",
       "      <td>2867.0</td>\n",
       "      <td>2839.0</td>\n",
       "      <td>2831.0</td>\n",
       "      <td>2872.0</td>\n",
       "      <td>2829.0</td>\n",
       "    </tr>\n",
       "  </tbody>\n",
       "</table>\n",
       "<p>8818 rows × 10 columns</p>\n",
       "</div>"
      ],
      "text/plain": [
       "      Time(sec)  517.126  517.36  686.349  686.592  704.382  704.626  704.87  \\\n",
       "0     21h15m07s   2854.0  2848.0   2732.0   2790.0   2829.0   2780.0  2801.0   \n",
       "1     21h15m07s   2854.0  2848.0   2732.0   2790.0   2829.0   2780.0  2801.0   \n",
       "2     21h15m07s   2802.0  2850.0   2904.0   2883.0   2955.0   2856.0  2774.0   \n",
       "3     21h15m07s   2862.0  2897.0   2889.0   2845.0   2792.0   2787.0  2873.0   \n",
       "4     21h15m07s   2779.0  2757.0   2845.0   2914.0   2893.0   2862.0  2816.0   \n",
       "...         ...      ...     ...      ...      ...      ...      ...     ...   \n",
       "8813  21h31m09s   2787.0  2772.0   2809.0   2776.0   2826.0   2772.0  2792.0   \n",
       "8814  21h31m10s   2860.0  2852.0   2820.0   2845.0   2860.0   2846.0  2783.0   \n",
       "8815  21h31m10s   2873.0  2879.0   2772.0   2842.0   2849.0   2872.0  2837.0   \n",
       "8816  21h31m10s   2891.0  2890.0   2848.0   2774.0   2853.0   2785.0  2788.0   \n",
       "8817  21h31m10s   2773.0  2753.0   2912.0   2887.0   2867.0   2839.0  2831.0   \n",
       "\n",
       "      705.114  705.358  \n",
       "0      2843.0   2784.0  \n",
       "1      2843.0   2784.0  \n",
       "2      2771.0   2766.0  \n",
       "3      2841.0   2800.0  \n",
       "4      2741.0   2721.0  \n",
       "...       ...      ...  \n",
       "8813   2783.0   2767.0  \n",
       "8814   2797.0   2801.0  \n",
       "8815   2866.0   2828.0  \n",
       "8816   2745.0   2756.0  \n",
       "8817   2872.0   2829.0  \n",
       "\n",
       "[8818 rows x 10 columns]"
      ]
     },
     "execution_count": 29,
     "metadata": {},
     "output_type": "execute_result"
    }
   ],
   "source": [
    "reduced_wavelength"
   ]
  },
  {
   "cell_type": "markdown",
   "id": "f61fc455-e768-42f7-bc02-b0d21f119f2c",
   "metadata": {},
   "source": [
    "## Apply to All"
   ]
  },
  {
   "cell_type": "code",
   "execution_count": 45,
   "id": "f3ed4131-92ff-40eb-9bca-3720da58ca13",
   "metadata": {
    "tags": []
   },
   "outputs": [],
   "source": [
    "def feature_selection(path: str, percentile_threshold: int) -> None:\n",
    "    file_list = os.listdir(path)\n",
    "    \n",
    "    for i, filename in enumerate(file_list):\n",
    "        try:\n",
    "            print(f'[{i+1}/{len(file_list)}] >>> Processing \"{filename}\" ...')\n",
    "            file = filename.split('.')\n",
    "            if (file == '') or (len(file) == 1):\n",
    "                print(f'Skipping file \"{filename}\". Not a pickle file.')\n",
    "                continue\n",
    "\n",
    "            oes = pd.read_pickle(f'{path}/{filename}')\n",
    "            oes = (oes\n",
    "                   .set_index('Time(sec)')\n",
    "                   .astype(float)\n",
    "                   .reset_index())\n",
    "            oes = oes.dropna(how='all')\n",
    "            oes_wavelength_std = oes.std()\n",
    "\n",
    "            n, bins = np.histogram(oes_wavelength_std)\n",
    "            threshold = np.percentile(bins, percentile_threshold)\n",
    "            top_oes_std = oes_wavelength_std[\n",
    "                oes_wavelength_std.sort_values(ascending=False) > threshold\n",
    "            ]\n",
    "            wavelength_set = [\n",
    "                wavelength.split('.')[0]\n",
    "                for wavelength\n",
    "                in top_oes_std.index\n",
    "            ]\n",
    "            wavelength_set = set(wavelength_set)\n",
    "            wavelength_set = sorted(wavelength_set)\n",
    "            \n",
    "            oes_wavelength_container = {}\n",
    "\n",
    "            for i in wavelength_set:\n",
    "                pattern = f'^{i}'\n",
    "                oes_wavelength_container[i] = oes.filter(regex=pattern, axis=1)\n",
    "                \n",
    "            oes_wavelength_container = pd.concat(oes_wavelength_container.values(),\n",
    "                                                 axis=1)\n",
    "            wavelength_candidate = oes_wavelength_std.to_frame().T[oes_wavelength_container.columns].iloc[0]\n",
    "            highest_std_wavelength = wavelength_candidate[wavelength_candidate > threshold]\n",
    "            highest_std_wavelength_container = {}\n",
    "            \n",
    "            for i in highest_std_wavelength.index:\n",
    "                pattern = f'^{i}'\n",
    "                highest_std_wavelength_container[i] = oes.filter(regex=pattern, axis=1)\n",
    "                \n",
    "            highest_std_wavelength_container = pd.concat(highest_std_wavelength_container.values(), axis=1)\n",
    "            reduced_wavelength = pd.concat([\n",
    "                oes['Time(sec)'],\n",
    "                highest_std_wavelength_container,\n",
    "            ], axis=1)\n",
    "            reduced_wavelength.to_pickle(f'{path}/feature_reduced/{filename}')\n",
    "        except Exception as e:\n",
    "             print(e)"
   ]
  },
  {
   "cell_type": "markdown",
   "id": "97d27fe9-3150-476c-81a5-245efbb224f8",
   "metadata": {},
   "source": [
    "### 25um\n",
    "\n",
    "25um은 threshold가 80 백분위수의 값으로 설정"
   ]
  },
  {
   "cell_type": "code",
   "execution_count": 2,
   "id": "1579300b-75c0-4293-8bf6-336483f72070",
   "metadata": {},
   "outputs": [
    {
     "name": "stdout",
     "output_type": "stream",
     "text": [
      "[1/20] >>> Processing \"1d_oes_data\" ...\n",
      "Skipping file \"1d_oes_data\". Not a pickle file.\n",
      "[2/20] >>> Processing \"feature_reduced\" ...\n",
      "Skipping file \"feature_reduced\". Not a pickle file.\n",
      "[3/20] >>> Processing \"OES_25um_Fault_C4F8_90to85_SCCM.pkl\" ...\n",
      "[4/20] >>> Processing \"OES_25um_Fault_O2_13to11_SCCM.pkl\" ...\n",
      "[5/20] >>> Processing \"OES_25um_Fault_PlatenPower_17to15_Watt.pkl\" ...\n",
      "[6/20] >>> Processing \"OES_25um_Fault_SF6_130to122_SCCM.pkl\" ...\n",
      "[7/20] >>> Processing \"OES_25um_Fault_SourcePower_800to760_Watt.pkl\" ...\n",
      "[8/20] >>> Processing \"S2514.pkl\" ...\n",
      "[9/20] >>> Processing \"S2515.pkl\" ...\n",
      "[10/20] >>> Processing \"S2516.pkl\" ...\n",
      "[11/20] >>> Processing \"S2517.pkl\" ...\n",
      "[12/20] >>> Processing \"S2518.pkl\" ...\n",
      "[13/20] >>> Processing \"S2519.pkl\" ...\n",
      "[14/20] >>> Processing \"S2520.pkl\" ...\n",
      "[15/20] >>> Processing \"S2521.pkl\" ...\n",
      "[16/20] >>> Processing \"S2522.pkl\" ...\n",
      "[17/20] >>> Processing \"S2523.pkl\" ...\n",
      "[18/20] >>> Processing \"S2524.pkl\" ...\n",
      "[19/20] >>> Processing \"S2525.pkl\" ...\n",
      "[20/20] >>> Processing \"timeseries_summary\" ...\n",
      "Skipping file \"timeseries_summary\". Not a pickle file.\n",
      "CPU times: total: 1min 1s\n",
      "Wall time: 1min 7s\n"
     ]
    }
   ],
   "source": [
    "%%time\n",
    "dir_ = f'dataset//25um/OES Data/pickle'\n",
    "feature_selection(path=dir_, percentile_threshold=80)"
   ]
  },
  {
   "cell_type": "markdown",
   "id": "44e45abd-f1af-45e1-9f6d-09003014fcac",
   "metadata": {},
   "source": [
    "### 80um\n",
    "\n",
    "80um은 threshold가 60 백분위수의 값으로 설정"
   ]
  },
  {
   "cell_type": "code",
   "execution_count": 34,
   "id": "e0fbbc7b-959c-4a9d-918c-05c901a0f71c",
   "metadata": {},
   "outputs": [
    {
     "name": "stdout",
     "output_type": "stream",
     "text": [
      "[1/20] >>> Processing \"1d_oes_data\" ...\n",
      "Skipping file \"1d_oes_data\". Not a pickle file.\n",
      "[2/20] >>> Processing \"feature_reduced\" ...\n",
      "Skipping file \"feature_reduced\". Not a pickle file.\n",
      "[3/20] >>> Processing \"OES_80um_Fault_C4F8_90to85_SCCM.pkl\" ...\n",
      "[4/20] >>> Processing \"OES_80um_Fault_O2_13to11_SCCM.pkl\" ...\n",
      "[5/20] >>> Processing \"OES_80um_Fault_PlatenPower_17to15_Watt.pkl\" ...\n",
      "[6/20] >>> Processing \"OES_80um_Fault_SF6_130to122_SCCM.pkl\" ...\n",
      "[7/20] >>> Processing \"OES_80um_Fault_SourcePower_800to760_Watt.pkl\" ...\n",
      "[8/20] >>> Processing \"S8014.pkl\" ...\n",
      "[9/20] >>> Processing \"S8015.pkl\" ...\n",
      "[10/20] >>> Processing \"S8016.pkl\" ...\n",
      "[11/20] >>> Processing \"S8017.pkl\" ...\n",
      "[12/20] >>> Processing \"S8018.pkl\" ...\n",
      "[13/20] >>> Processing \"S8019.pkl\" ...\n",
      "[14/20] >>> Processing \"S8020.pkl\" ...\n",
      "[15/20] >>> Processing \"S8021.pkl\" ...\n",
      "[16/20] >>> Processing \"S8022.pkl\" ...\n",
      "[17/20] >>> Processing \"S8023.pkl\" ...\n",
      "[18/20] >>> Processing \"S8024.pkl\" ...\n",
      "[19/20] >>> Processing \"S8025.pkl\" ...\n",
      "[20/20] >>> Processing \"timeseries_summary\" ...\n",
      "Skipping file \"timeseries_summary\". Not a pickle file.\n",
      "\n",
      "CPU times: total: 1min 10s\n",
      "Wall time: 1min 17s\n"
     ]
    }
   ],
   "source": [
    "%%time\n",
    "dir_ = f'dataset//80um/OES Data/pickle'\n",
    "feature_selection(path=dir_, percentile_threshold=60)"
   ]
  },
  {
   "cell_type": "markdown",
   "id": "15357d24-8e44-4540-b0d9-6e3eafe7f410",
   "metadata": {},
   "source": [
    "# iii. Summary OES Time Series Data"
   ]
  },
  {
   "cell_type": "markdown",
   "id": "083deec4-dd37-4fdc-9b04-ca7f84be867d",
   "metadata": {},
   "source": [
    "## Imports"
   ]
  },
  {
   "cell_type": "code",
   "execution_count": 1,
   "id": "f6b20ff3-a13b-46af-8ca5-25d5ec4afb76",
   "metadata": {},
   "outputs": [],
   "source": [
    "from tqdm.notebook import tqdm\n",
    "import os\n",
    "import re\n",
    "import pandas as pd\n",
    "import numpy as np\n",
    "import warnings\n",
    "import matplotlib\n",
    "import matplotlib.pyplot as plt\n",
    "import seaborn as sns\n",
    "import plotly.express as px\n",
    "\n",
    "%matplotlib inline\n",
    "matplotlib.rcParams['figure.figsize'] = (7, 2)\n",
    "warnings.filterwarnings(action='ignore')"
   ]
  },
  {
   "cell_type": "markdown",
   "id": "cf8eccff-98e7-4cc0-990f-6fb1cf0b2310",
   "metadata": {
    "tags": []
   },
   "source": [
    "## Try with one wafer"
   ]
  },
  {
   "cell_type": "markdown",
   "id": "54539ae5-2504-4579-a8d6-9cdd2626be17",
   "metadata": {
    "tags": []
   },
   "source": [
    "### Load Dataset"
   ]
  },
  {
   "cell_type": "code",
   "execution_count": 43,
   "id": "838bf664-14c3-4f6e-a3b8-2f3274cdc258",
   "metadata": {},
   "outputs": [],
   "source": [
    "micro_dir = '25'\n",
    "dir_ = f'dataset//{micro_dir}um/OES Data/pickle/feature_reduced'\n",
    "file_list = os.listdir(dir_)\n",
    "oes = pd.read_pickle(f'{dir_}/{file_list[0]}')"
   ]
  },
  {
   "cell_type": "code",
   "execution_count": 44,
   "id": "0394c7f8-cfc5-4741-b3f9-a07e8a681b0a",
   "metadata": {},
   "outputs": [
    {
     "data": {
      "text/plain": [
       "['OES_25um_Fault_C4F8_90to85_SCCM.pkl',\n",
       " 'OES_25um_Fault_O2_13to11_SCCM.pkl',\n",
       " 'OES_25um_Fault_PlatenPower_17to15_Watt.pkl',\n",
       " 'OES_25um_Fault_SF6_130to122_SCCM.pkl',\n",
       " 'OES_25um_Fault_SourcePower_800to760_Watt.pkl',\n",
       " 'S2514.pkl',\n",
       " 'S2515.pkl',\n",
       " 'S2516.pkl',\n",
       " 'S2517.pkl',\n",
       " 'S2518.pkl',\n",
       " 'S2519.pkl',\n",
       " 'S2520.pkl',\n",
       " 'S2521.pkl',\n",
       " 'S2522.pkl',\n",
       " 'S2523.pkl',\n",
       " 'S2524.pkl',\n",
       " 'S2525.pkl',\n",
       " 'timeseries_summary']"
      ]
     },
     "execution_count": 44,
     "metadata": {},
     "output_type": "execute_result"
    }
   ],
   "source": [
    "file_list"
   ]
  },
  {
   "cell_type": "code",
   "execution_count": 9,
   "id": "24c6345a-6072-4fd3-8dc8-3a0bdb04dbe2",
   "metadata": {},
   "outputs": [],
   "source": [
    "oes = oes.set_index('Time(sec)')"
   ]
  },
  {
   "cell_type": "code",
   "execution_count": 203,
   "id": "cdb1083c-2a65-411b-b4b4-654d5f8f96c2",
   "metadata": {},
   "outputs": [
    {
     "data": {
      "text/html": [
       "<div>\n",
       "<style scoped>\n",
       "    .dataframe tbody tr th:only-of-type {\n",
       "        vertical-align: middle;\n",
       "    }\n",
       "\n",
       "    .dataframe tbody tr th {\n",
       "        vertical-align: top;\n",
       "    }\n",
       "\n",
       "    .dataframe thead th {\n",
       "        text-align: right;\n",
       "    }\n",
       "</style>\n",
       "<table border=\"1\" class=\"dataframe\">\n",
       "  <thead>\n",
       "    <tr style=\"text-align: right;\">\n",
       "      <th></th>\n",
       "      <th>Time(sec)</th>\n",
       "      <th>516.186</th>\n",
       "      <th>516.421</th>\n",
       "      <th>516.656</th>\n",
       "      <th>516.891</th>\n",
       "      <th>517.126</th>\n",
       "      <th>517.36</th>\n",
       "      <th>517.595</th>\n",
       "      <th>517.83</th>\n",
       "      <th>686.106</th>\n",
       "      <th>...</th>\n",
       "      <th>687.566</th>\n",
       "      <th>687.809</th>\n",
       "      <th>704.138</th>\n",
       "      <th>704.382</th>\n",
       "      <th>704.626</th>\n",
       "      <th>704.87</th>\n",
       "      <th>705.114</th>\n",
       "      <th>705.358</th>\n",
       "      <th>705.602</th>\n",
       "      <th>705.846</th>\n",
       "    </tr>\n",
       "  </thead>\n",
       "  <tbody>\n",
       "    <tr>\n",
       "      <th>0</th>\n",
       "      <td>21h34m13s</td>\n",
       "      <td>2908.0</td>\n",
       "      <td>2881.0</td>\n",
       "      <td>2861.0</td>\n",
       "      <td>2750.0</td>\n",
       "      <td>2812.0</td>\n",
       "      <td>2818.0</td>\n",
       "      <td>2811.0</td>\n",
       "      <td>2869.0</td>\n",
       "      <td>2805.0</td>\n",
       "      <td>...</td>\n",
       "      <td>2817.0</td>\n",
       "      <td>2873.0</td>\n",
       "      <td>2893.0</td>\n",
       "      <td>2869.0</td>\n",
       "      <td>2806.0</td>\n",
       "      <td>2830.0</td>\n",
       "      <td>2817.0</td>\n",
       "      <td>2743.0</td>\n",
       "      <td>2731.0</td>\n",
       "      <td>2802.0</td>\n",
       "    </tr>\n",
       "    <tr>\n",
       "      <th>1</th>\n",
       "      <td>21h34m13s</td>\n",
       "      <td>4835.0</td>\n",
       "      <td>4885.0</td>\n",
       "      <td>5069.0</td>\n",
       "      <td>5184.0</td>\n",
       "      <td>5495.0</td>\n",
       "      <td>5525.0</td>\n",
       "      <td>5120.0</td>\n",
       "      <td>4454.0</td>\n",
       "      <td>3128.0</td>\n",
       "      <td>...</td>\n",
       "      <td>3130.0</td>\n",
       "      <td>3134.0</td>\n",
       "      <td>3072.0</td>\n",
       "      <td>3317.0</td>\n",
       "      <td>3362.0</td>\n",
       "      <td>3413.0</td>\n",
       "      <td>3332.0</td>\n",
       "      <td>3203.0</td>\n",
       "      <td>3163.0</td>\n",
       "      <td>3204.0</td>\n",
       "    </tr>\n",
       "    <tr>\n",
       "      <th>2</th>\n",
       "      <td>21h34m13s</td>\n",
       "      <td>4835.0</td>\n",
       "      <td>4885.0</td>\n",
       "      <td>5069.0</td>\n",
       "      <td>5184.0</td>\n",
       "      <td>5495.0</td>\n",
       "      <td>5525.0</td>\n",
       "      <td>5120.0</td>\n",
       "      <td>4454.0</td>\n",
       "      <td>3128.0</td>\n",
       "      <td>...</td>\n",
       "      <td>3130.0</td>\n",
       "      <td>3134.0</td>\n",
       "      <td>3072.0</td>\n",
       "      <td>3317.0</td>\n",
       "      <td>3362.0</td>\n",
       "      <td>3413.0</td>\n",
       "      <td>3332.0</td>\n",
       "      <td>3203.0</td>\n",
       "      <td>3163.0</td>\n",
       "      <td>3204.0</td>\n",
       "    </tr>\n",
       "    <tr>\n",
       "      <th>3</th>\n",
       "      <td>21h34m13s</td>\n",
       "      <td>3902.0</td>\n",
       "      <td>3879.0</td>\n",
       "      <td>3916.0</td>\n",
       "      <td>3925.0</td>\n",
       "      <td>3952.0</td>\n",
       "      <td>3937.0</td>\n",
       "      <td>3878.0</td>\n",
       "      <td>3636.0</td>\n",
       "      <td>3131.0</td>\n",
       "      <td>...</td>\n",
       "      <td>3210.0</td>\n",
       "      <td>3264.0</td>\n",
       "      <td>3087.0</td>\n",
       "      <td>3181.0</td>\n",
       "      <td>3204.0</td>\n",
       "      <td>3247.0</td>\n",
       "      <td>3197.0</td>\n",
       "      <td>3115.0</td>\n",
       "      <td>3158.0</td>\n",
       "      <td>3280.0</td>\n",
       "    </tr>\n",
       "    <tr>\n",
       "      <th>4</th>\n",
       "      <td>21h34m13s</td>\n",
       "      <td>3106.0</td>\n",
       "      <td>3175.0</td>\n",
       "      <td>3210.0</td>\n",
       "      <td>3137.0</td>\n",
       "      <td>3113.0</td>\n",
       "      <td>3067.0</td>\n",
       "      <td>3116.0</td>\n",
       "      <td>3118.0</td>\n",
       "      <td>2972.0</td>\n",
       "      <td>...</td>\n",
       "      <td>3074.0</td>\n",
       "      <td>3019.0</td>\n",
       "      <td>3005.0</td>\n",
       "      <td>3071.0</td>\n",
       "      <td>3036.0</td>\n",
       "      <td>2949.0</td>\n",
       "      <td>2934.0</td>\n",
       "      <td>2951.0</td>\n",
       "      <td>2941.0</td>\n",
       "      <td>3023.0</td>\n",
       "    </tr>\n",
       "    <tr>\n",
       "      <th>...</th>\n",
       "      <td>...</td>\n",
       "      <td>...</td>\n",
       "      <td>...</td>\n",
       "      <td>...</td>\n",
       "      <td>...</td>\n",
       "      <td>...</td>\n",
       "      <td>...</td>\n",
       "      <td>...</td>\n",
       "      <td>...</td>\n",
       "      <td>...</td>\n",
       "      <td>...</td>\n",
       "      <td>...</td>\n",
       "      <td>...</td>\n",
       "      <td>...</td>\n",
       "      <td>...</td>\n",
       "      <td>...</td>\n",
       "      <td>...</td>\n",
       "      <td>...</td>\n",
       "      <td>...</td>\n",
       "      <td>...</td>\n",
       "      <td>...</td>\n",
       "    </tr>\n",
       "    <tr>\n",
       "      <th>8755</th>\n",
       "      <td>21h50m10s</td>\n",
       "      <td>2962.0</td>\n",
       "      <td>2937.0</td>\n",
       "      <td>2953.0</td>\n",
       "      <td>2931.0</td>\n",
       "      <td>2856.0</td>\n",
       "      <td>2875.0</td>\n",
       "      <td>2897.0</td>\n",
       "      <td>2857.0</td>\n",
       "      <td>2857.0</td>\n",
       "      <td>...</td>\n",
       "      <td>2875.0</td>\n",
       "      <td>2872.0</td>\n",
       "      <td>2889.0</td>\n",
       "      <td>2870.0</td>\n",
       "      <td>2821.0</td>\n",
       "      <td>2782.0</td>\n",
       "      <td>2820.0</td>\n",
       "      <td>2847.0</td>\n",
       "      <td>2811.0</td>\n",
       "      <td>2891.0</td>\n",
       "    </tr>\n",
       "    <tr>\n",
       "      <th>8756</th>\n",
       "      <td>21h50m10s</td>\n",
       "      <td>2926.0</td>\n",
       "      <td>2903.0</td>\n",
       "      <td>2893.0</td>\n",
       "      <td>2860.0</td>\n",
       "      <td>2846.0</td>\n",
       "      <td>2838.0</td>\n",
       "      <td>2864.0</td>\n",
       "      <td>2837.0</td>\n",
       "      <td>2855.0</td>\n",
       "      <td>...</td>\n",
       "      <td>2928.0</td>\n",
       "      <td>2968.0</td>\n",
       "      <td>2944.0</td>\n",
       "      <td>2903.0</td>\n",
       "      <td>2889.0</td>\n",
       "      <td>2868.0</td>\n",
       "      <td>2831.0</td>\n",
       "      <td>2868.0</td>\n",
       "      <td>2846.0</td>\n",
       "      <td>2881.0</td>\n",
       "    </tr>\n",
       "    <tr>\n",
       "      <th>8757</th>\n",
       "      <td>21h50m10s</td>\n",
       "      <td>2880.0</td>\n",
       "      <td>2916.0</td>\n",
       "      <td>2896.0</td>\n",
       "      <td>2890.0</td>\n",
       "      <td>2908.0</td>\n",
       "      <td>2817.0</td>\n",
       "      <td>2812.0</td>\n",
       "      <td>2842.0</td>\n",
       "      <td>2855.0</td>\n",
       "      <td>...</td>\n",
       "      <td>2838.0</td>\n",
       "      <td>2897.0</td>\n",
       "      <td>2875.0</td>\n",
       "      <td>2855.0</td>\n",
       "      <td>2870.0</td>\n",
       "      <td>2891.0</td>\n",
       "      <td>2868.0</td>\n",
       "      <td>2877.0</td>\n",
       "      <td>2856.0</td>\n",
       "      <td>2867.0</td>\n",
       "    </tr>\n",
       "    <tr>\n",
       "      <th>8758</th>\n",
       "      <td>21h50m10s</td>\n",
       "      <td>2857.0</td>\n",
       "      <td>2909.0</td>\n",
       "      <td>2933.0</td>\n",
       "      <td>2857.0</td>\n",
       "      <td>2825.0</td>\n",
       "      <td>2765.0</td>\n",
       "      <td>2770.0</td>\n",
       "      <td>2748.0</td>\n",
       "      <td>2883.0</td>\n",
       "      <td>...</td>\n",
       "      <td>2839.0</td>\n",
       "      <td>2921.0</td>\n",
       "      <td>2871.0</td>\n",
       "      <td>2897.0</td>\n",
       "      <td>2867.0</td>\n",
       "      <td>2932.0</td>\n",
       "      <td>2968.0</td>\n",
       "      <td>2932.0</td>\n",
       "      <td>2852.0</td>\n",
       "      <td>2849.0</td>\n",
       "    </tr>\n",
       "    <tr>\n",
       "      <th>8759</th>\n",
       "      <td>21h50m10s</td>\n",
       "      <td>2903.0</td>\n",
       "      <td>2860.0</td>\n",
       "      <td>2865.0</td>\n",
       "      <td>2848.0</td>\n",
       "      <td>2833.0</td>\n",
       "      <td>2836.0</td>\n",
       "      <td>2836.0</td>\n",
       "      <td>2820.0</td>\n",
       "      <td>2847.0</td>\n",
       "      <td>...</td>\n",
       "      <td>2925.0</td>\n",
       "      <td>2876.0</td>\n",
       "      <td>2900.0</td>\n",
       "      <td>2898.0</td>\n",
       "      <td>2855.0</td>\n",
       "      <td>2835.0</td>\n",
       "      <td>2870.0</td>\n",
       "      <td>2807.0</td>\n",
       "      <td>2831.0</td>\n",
       "      <td>2860.0</td>\n",
       "    </tr>\n",
       "  </tbody>\n",
       "</table>\n",
       "<p>8760 rows × 25 columns</p>\n",
       "</div>"
      ],
      "text/plain": [
       "      Time(sec)  516.186  516.421  516.656  516.891  517.126  517.36  517.595  \\\n",
       "0     21h34m13s   2908.0   2881.0   2861.0   2750.0   2812.0  2818.0   2811.0   \n",
       "1     21h34m13s   4835.0   4885.0   5069.0   5184.0   5495.0  5525.0   5120.0   \n",
       "2     21h34m13s   4835.0   4885.0   5069.0   5184.0   5495.0  5525.0   5120.0   \n",
       "3     21h34m13s   3902.0   3879.0   3916.0   3925.0   3952.0  3937.0   3878.0   \n",
       "4     21h34m13s   3106.0   3175.0   3210.0   3137.0   3113.0  3067.0   3116.0   \n",
       "...         ...      ...      ...      ...      ...      ...     ...      ...   \n",
       "8755  21h50m10s   2962.0   2937.0   2953.0   2931.0   2856.0  2875.0   2897.0   \n",
       "8756  21h50m10s   2926.0   2903.0   2893.0   2860.0   2846.0  2838.0   2864.0   \n",
       "8757  21h50m10s   2880.0   2916.0   2896.0   2890.0   2908.0  2817.0   2812.0   \n",
       "8758  21h50m10s   2857.0   2909.0   2933.0   2857.0   2825.0  2765.0   2770.0   \n",
       "8759  21h50m10s   2903.0   2860.0   2865.0   2848.0   2833.0  2836.0   2836.0   \n",
       "\n",
       "      517.83  686.106  ...  687.566  687.809  704.138  704.382  704.626  \\\n",
       "0     2869.0   2805.0  ...   2817.0   2873.0   2893.0   2869.0   2806.0   \n",
       "1     4454.0   3128.0  ...   3130.0   3134.0   3072.0   3317.0   3362.0   \n",
       "2     4454.0   3128.0  ...   3130.0   3134.0   3072.0   3317.0   3362.0   \n",
       "3     3636.0   3131.0  ...   3210.0   3264.0   3087.0   3181.0   3204.0   \n",
       "4     3118.0   2972.0  ...   3074.0   3019.0   3005.0   3071.0   3036.0   \n",
       "...      ...      ...  ...      ...      ...      ...      ...      ...   \n",
       "8755  2857.0   2857.0  ...   2875.0   2872.0   2889.0   2870.0   2821.0   \n",
       "8756  2837.0   2855.0  ...   2928.0   2968.0   2944.0   2903.0   2889.0   \n",
       "8757  2842.0   2855.0  ...   2838.0   2897.0   2875.0   2855.0   2870.0   \n",
       "8758  2748.0   2883.0  ...   2839.0   2921.0   2871.0   2897.0   2867.0   \n",
       "8759  2820.0   2847.0  ...   2925.0   2876.0   2900.0   2898.0   2855.0   \n",
       "\n",
       "      704.87  705.114  705.358  705.602  705.846  \n",
       "0     2830.0   2817.0   2743.0   2731.0   2802.0  \n",
       "1     3413.0   3332.0   3203.0   3163.0   3204.0  \n",
       "2     3413.0   3332.0   3203.0   3163.0   3204.0  \n",
       "3     3247.0   3197.0   3115.0   3158.0   3280.0  \n",
       "4     2949.0   2934.0   2951.0   2941.0   3023.0  \n",
       "...      ...      ...      ...      ...      ...  \n",
       "8755  2782.0   2820.0   2847.0   2811.0   2891.0  \n",
       "8756  2868.0   2831.0   2868.0   2846.0   2881.0  \n",
       "8757  2891.0   2868.0   2877.0   2856.0   2867.0  \n",
       "8758  2932.0   2968.0   2932.0   2852.0   2849.0  \n",
       "8759  2835.0   2870.0   2807.0   2831.0   2860.0  \n",
       "\n",
       "[8760 rows x 25 columns]"
      ]
     },
     "execution_count": 203,
     "metadata": {},
     "output_type": "execute_result"
    }
   ],
   "source": [
    "oes"
   ]
  },
  {
   "cell_type": "markdown",
   "id": "26456bbe-7372-4826-a83c-f32876afbd30",
   "metadata": {
    "tags": []
   },
   "source": [
    "### Plot Wavelengths"
   ]
  },
  {
   "cell_type": "markdown",
   "id": "d38dc51d-0dc9-4543-8ed9-49a5117ced2a",
   "metadata": {},
   "source": [
    "표준편차가 큰 wavelength들의 모양을 함 보자"
   ]
  },
  {
   "cell_type": "code",
   "execution_count": 13,
   "id": "30155b27-265d-4405-b3fb-401e361f527a",
   "metadata": {},
   "outputs": [
    {
     "data": {
      "image/png": "[encoded data removed]",
      "text/plain": [
       "<Figure size 700x200 with 1 Axes>"
      ]
     },
     "metadata": {},
     "output_type": "display_data"
    }
   ],
   "source": [
    "plt.plot(range(len(oes)), oes.iloc[:, 10])\n",
    "plt.show()"
   ]
  },
  {
   "cell_type": "markdown",
   "id": "9ef21357-62bb-4e7a-88ad-5f1ddcb3c9c9",
   "metadata": {},
   "source": [
    "그럼 표준편차 기준으로 drop된 wavelength들의 모양을 확인해보자"
   ]
  },
  {
   "cell_type": "code",
   "execution_count": 14,
   "id": "62dd7fff-d695-4373-9716-c6e2dfecd49d",
   "metadata": {},
   "outputs": [
    {
     "data": {
      "text/plain": [
       "(8716, 3649)"
      ]
     },
     "execution_count": 14,
     "metadata": {},
     "output_type": "execute_result"
    }
   ],
   "source": [
    "df = pd.read_pickle('dataset//25um/OES Data/pickle/S2514.pkl')\n",
    "df.shape"
   ]
  },
  {
   "cell_type": "code",
   "execution_count": 15,
   "id": "4cd7b644-02c9-442e-839e-8f333ee42700",
   "metadata": {},
   "outputs": [],
   "source": [
    "df = df.set_index('Time(sec)')"
   ]
  },
  {
   "cell_type": "code",
   "execution_count": 16,
   "id": "75ee2e13-eb05-48ff-b954-c68256f734af",
   "metadata": {},
   "outputs": [],
   "source": [
    "df = df.astype(float)"
   ]
  },
  {
   "cell_type": "code",
   "execution_count": 17,
   "id": "2c0d0764-3106-49e8-b384-fca81e3744b2",
   "metadata": {},
   "outputs": [],
   "source": [
    "df = df.reset_index()"
   ]
  },
  {
   "cell_type": "code",
   "execution_count": 18,
   "id": "de4a5d20-c823-4dfb-82c8-f4a98945c179",
   "metadata": {},
   "outputs": [],
   "source": [
    "df = df.groupby('Time(sec)').agg(np.mean)"
   ]
  },
  {
   "cell_type": "code",
   "execution_count": 19,
   "id": "3e1c97c4-e703-422c-8ae8-087271659b30",
   "metadata": {},
   "outputs": [
    {
     "data": {
      "image/png": "[encoded data removed]",
      "text/plain": [
       "<Figure size 700x200 with 1 Axes>"
      ]
     },
     "metadata": {},
     "output_type": "display_data"
    }
   ],
   "source": [
    "wavelength = '162.969'\n",
    "plt.plot(range(len(df)), df[wavelength])\n",
    "plt.show()"
   ]
  },
  {
   "cell_type": "markdown",
   "id": "5b82a5e3-df23-4ad7-8cf9-9168f5b56bf7",
   "metadata": {},
   "source": [
    "선택은 안됐지만 표준편차가 튄 wavelength 확인"
   ]
  },
  {
   "cell_type": "code",
   "execution_count": 139,
   "id": "ae2c7658-2833-4c24-b241-40d0e46631b5",
   "metadata": {
    "tags": []
   },
   "outputs": [
    {
     "data": {
      "image/png": "[encoded data removed]",
      "text/plain": [
       "<Figure size 700x200 with 1 Axes>"
      ]
     },
     "metadata": {},
     "output_type": "display_data"
    }
   ],
   "source": [
    "# wavelength들의 표준편차 plot"
   ]
  },
  {
   "cell_type": "code",
   "execution_count": 20,
   "id": "d020c0e7-88ad-41b2-8a50-8145650d90e6",
   "metadata": {},
   "outputs": [
    {
     "data": {
      "image/png": "[encoded data removed]",
      "text/plain": [
       "<Figure size 700x200 with 1 Axes>"
      ]
     },
     "metadata": {},
     "output_type": "display_data"
    }
   ],
   "source": [
    "place = 1600\n",
    "plt.plot(range(len(df)), df.iloc[:, place])\n",
    "plt.show()"
   ]
  },
  {
   "cell_type": "markdown",
   "id": "db69e6fc-7eec-4f56-9b92-0ec1d6c44807",
   "metadata": {},
   "source": [
    "### Summary Data"
   ]
  },
  {
   "cell_type": "markdown",
   "id": "002af8a3-8230-4109-857d-17672d4407ab",
   "metadata": {},
   "source": [
    "oes wavelength를 정보손실을 최소화하면서 summary 값으로 만들어주어야할 듯\n",
    "\n",
    ">  Most of the existing models select specific summary values for each predictor over a given time period and concatenate them to form patient vectors. Statistics are a form of summary values, and studies have shown that summary statistics can reflect the characteristics of time series. Moreover, they have advantages such as simple extraction, high robustness and strong representativeness [8–10]. The features of time series can be divided into three aspects: central tendency, dispersion tendency and distribution shape. The distribution and trends of time series can be reflected by combining multiple summary statistics, thus approximating the original data distribution and reducing the impact of noise on the prediction results.\n",
    "> \n",
    "> *Guo, C., Lu, M. & Chen, J. An evaluation of time series summary statistics as features for clinical prediction tasks. BMC Med Inform Decis Mak 20, 48 (2020). https://doi.org/10.1186/s12911-020-1063-x*"
   ]
  },
  {
   "cell_type": "markdown",
   "id": "1a16de4e-d91a-4df6-8141-952bf74ea3af",
   "metadata": {
    "tags": []
   },
   "source": [
    "## Apply to all data"
   ]
  },
  {
   "cell_type": "code",
   "execution_count": 70,
   "id": "b7c4ff50-fb82-4bca-af5f-91cab2845f18",
   "metadata": {},
   "outputs": [
    {
     "name": "stdout",
     "output_type": "stream",
     "text": [
      "[1/20] >>> Processing \"1d_oes_data\" ...\n",
      "Skipping file \"1d_oes_data\". Not a pickle file.\n",
      "[2/20] >>> Processing \"feature_reduced\" ...\n",
      "Skipping file \"feature_reduced\". Not a pickle file.\n",
      "[3/20] >>> Processing \"OES_25um_Fault_C4F8_90to85_SCCM.pkl\" ...\n",
      "[4/20] >>> Processing \"OES_25um_Fault_O2_13to11_SCCM.pkl\" ...\n",
      "[5/20] >>> Processing \"OES_25um_Fault_PlatenPower_17to15_Watt.pkl\" ...\n",
      "[6/20] >>> Processing \"OES_25um_Fault_SF6_130to122_SCCM.pkl\" ...\n",
      "[7/20] >>> Processing \"OES_25um_Fault_SourcePower_800to760_Watt.pkl\" ...\n",
      "[8/20] >>> Processing \"S2514.pkl\" ...\n",
      "[9/20] >>> Processing \"S2515.pkl\" ...\n",
      "[10/20] >>> Processing \"S2516.pkl\" ...\n",
      "[11/20] >>> Processing \"S2517.pkl\" ...\n",
      "[12/20] >>> Processing \"S2518.pkl\" ...\n",
      "[13/20] >>> Processing \"S2519.pkl\" ...\n",
      "[14/20] >>> Processing \"S2520.pkl\" ...\n",
      "[15/20] >>> Processing \"S2521.pkl\" ...\n",
      "[16/20] >>> Processing \"S2522.pkl\" ...\n",
      "[17/20] >>> Processing \"S2523.pkl\" ...\n",
      "[18/20] >>> Processing \"S2524.pkl\" ...\n",
      "[19/20] >>> Processing \"S2525.pkl\" ...\n",
      "[20/20] >>> Processing \"timeseries_summary\" ...\n",
      "Skipping file \"timeseries_summary\". Not a pickle file.\n",
      "[1/20] >>> Processing \"1d_oes_data\" ...\n",
      "Skipping file \"1d_oes_data\". Not a pickle file.\n",
      "[2/20] >>> Processing \"feature_reduced\" ...\n",
      "Skipping file \"feature_reduced\". Not a pickle file.\n",
      "[3/20] >>> Processing \"OES_80um_Fault_C4F8_90to85_SCCM.pkl\" ...\n",
      "[4/20] >>> Processing \"OES_80um_Fault_O2_13to11_SCCM.pkl\" ...\n",
      "[5/20] >>> Processing \"OES_80um_Fault_PlatenPower_17to15_Watt.pkl\" ...\n",
      "[6/20] >>> Processing \"OES_80um_Fault_SF6_130to122_SCCM.pkl\" ...\n",
      "[7/20] >>> Processing \"OES_80um_Fault_SourcePower_800to760_Watt.pkl\" ...\n",
      "[8/20] >>> Processing \"S8014.pkl\" ...\n",
      "[9/20] >>> Processing \"S8015.pkl\" ...\n",
      "[10/20] >>> Processing \"S8016.pkl\" ...\n",
      "[11/20] >>> Processing \"S8017.pkl\" ...\n",
      "[12/20] >>> Processing \"S8018.pkl\" ...\n",
      "[13/20] >>> Processing \"S8019.pkl\" ...\n",
      "[14/20] >>> Processing \"S8020.pkl\" ...\n",
      "[15/20] >>> Processing \"S8021.pkl\" ...\n",
      "[16/20] >>> Processing \"S8022.pkl\" ...\n",
      "[17/20] >>> Processing \"S8023.pkl\" ...\n",
      "[18/20] >>> Processing \"S8024.pkl\" ...\n",
      "[19/20] >>> Processing \"S8025.pkl\" ...\n",
      "[20/20] >>> Processing \"timeseries_summary\" ...\n",
      "Skipping file \"timeseries_summary\". Not a pickle file.\n",
      "CPU times: total: 297 ms\n",
      "Wall time: 484 ms\n"
     ]
    }
   ],
   "source": [
    "%%time\n",
    "for micro_dir in ['25', '80']:\n",
    "    dir_ = f'dataset//{micro_dir}um/OES Data/pickle'\n",
    "    file_list = os.listdir(dir_)\n",
    "    \n",
    "    for i, filename in enumerate(file_list):\n",
    "        try:\n",
    "            print(f'[{i+1}/{len(file_list)}] >>> Processing \"{filename}\" ...')\n",
    "            file = filename.split('.')\n",
    "            if (file == '') or (len(file) == 1):\n",
    "                print(f'Skipping file \"{filename}\". Not a pickle file.')\n",
    "                continue\n",
    "\n",
    "            oes = pd.read_pickle(f'{dir_}/feature_reduced/{filename}')\n",
    "            oes = oes.set_index('Time(sec)')\n",
    "            oes = oes.dropna(how='all')\n",
    "            oes = oes.astype(float)\n",
    "            oes_summary = {}\n",
    "            \n",
    "            for x in oes.columns:  # 통계량 선택\n",
    "                statistic_container = {}\n",
    "                statistic_container['mean'] = oes[x].mean()\n",
    "                statistic_container['min'] = oes[x].min()\n",
    "                statistic_container['max'] = oes[x].max()\n",
    "                oes_summary[x] = pd.Series(statistic_container, name=x)\n",
    "            oes_summary = pd.concat(oes_summary.values(), axis=1)\n",
    "            oes_summary.to_pickle(f'{dir_}/timeseries_summary/{file[0]}.pkl')\n",
    "        except Exception as e:\n",
    "            raise"
   ]
  },
  {
   "cell_type": "markdown",
   "id": "09a4858c-8260-4442-bc0b-65221c5b5fdd",
   "metadata": {},
   "source": [
    "# iv. Unfold OES Data\n",
    "\n",
    "OES 데이터를 2차원으로 unfolding"
   ]
  },
  {
   "cell_type": "markdown",
   "id": "86c0c5aa-5f7b-4b78-be75-061160cb19d4",
   "metadata": {},
   "source": [
    "## Imports"
   ]
  },
  {
   "cell_type": "code",
   "execution_count": 1,
   "id": "f291471c-ec3f-4930-8bc5-f7bfa433e26e",
   "metadata": {},
   "outputs": [],
   "source": [
    "from tqdm.notebook import tqdm\n",
    "import os\n",
    "import re\n",
    "import pandas as pd\n",
    "import numpy as np\n",
    "import warnings\n",
    "import matplotlib\n",
    "import matplotlib.pyplot as plt\n",
    "import seaborn as sns\n",
    "import plotly.express as px\n",
    "\n",
    "%matplotlib inline\n",
    "matplotlib.rcParams['figure.figsize'] = (7, 2)\n",
    "warnings.filterwarnings(action='ignore')"
   ]
  },
  {
   "cell_type": "markdown",
   "id": "b810badd-88cf-4550-99f3-fcb230252ed0",
   "metadata": {
    "tags": []
   },
   "source": [
    "## Unfold"
   ]
  },
  {
   "cell_type": "markdown",
   "id": "1abf93d2-2ced-4195-ac92-0aaad71ff4ee",
   "metadata": {
    "tags": []
   },
   "source": [
    "### Try with one wafer"
   ]
  },
  {
   "cell_type": "code",
   "execution_count": null,
   "id": "316dc392-feb2-456a-b9ab-a16dd50cedc3",
   "metadata": {},
   "outputs": [],
   "source": [
    "flatten_values = oes.T.to_numpy().flatten()\n",
    "new_col = []\n",
    "for col in oes.columns:\n",
    "    for statistic in oes.index:\n",
    "        new_col.append(f'{col}_{statistic}')\n",
    "wafer[file[0]] = pd.Series(flatten_values, index=new_col, name=file[0])\n",
    "merged = (pd.concat(wafer.values(), axis=1)\n",
    "          .T\n",
    "          .dropna(axis=1)\n",
    "          .reset_index()\n",
    "          .rename({'index': 'wafer'}, axis=1))"
   ]
  },
  {
   "cell_type": "markdown",
   "id": "a2dfbb8e-4497-4f41-8fb5-23eb8fc2f63e",
   "metadata": {},
   "source": [
    "### Apply to all data"
   ]
  },
  {
   "cell_type": "code",
   "execution_count": 70,
   "id": "8022ea68-6a93-4f8c-ad25-b1a4840c1148",
   "metadata": {},
   "outputs": [
    {
     "name": "stdout",
     "output_type": "stream",
     "text": [
      "[1/20] >>> Processing \"1d_oes_data\" ...\n",
      "Skipping file \"1d_oes_data\". Not a pickle file.\n",
      "[2/20] >>> Processing \"feature_reduced\" ...\n",
      "Skipping file \"feature_reduced\". Not a pickle file.\n",
      "[3/20] >>> Processing \"OES_25um_Fault_C4F8_90to85_SCCM.pkl\" ...\n",
      "[4/20] >>> Processing \"OES_25um_Fault_O2_13to11_SCCM.pkl\" ...\n",
      "[5/20] >>> Processing \"OES_25um_Fault_PlatenPower_17to15_Watt.pkl\" ...\n",
      "[6/20] >>> Processing \"OES_25um_Fault_SF6_130to122_SCCM.pkl\" ...\n",
      "[7/20] >>> Processing \"OES_25um_Fault_SourcePower_800to760_Watt.pkl\" ...\n",
      "[8/20] >>> Processing \"S2514.pkl\" ...\n",
      "[9/20] >>> Processing \"S2515.pkl\" ...\n",
      "[10/20] >>> Processing \"S2516.pkl\" ...\n",
      "[11/20] >>> Processing \"S2517.pkl\" ...\n",
      "[12/20] >>> Processing \"S2518.pkl\" ...\n",
      "[13/20] >>> Processing \"S2519.pkl\" ...\n",
      "[14/20] >>> Processing \"S2520.pkl\" ...\n",
      "[15/20] >>> Processing \"S2521.pkl\" ...\n",
      "[16/20] >>> Processing \"S2522.pkl\" ...\n",
      "[17/20] >>> Processing \"S2523.pkl\" ...\n",
      "[18/20] >>> Processing \"S2524.pkl\" ...\n",
      "[19/20] >>> Processing \"S2525.pkl\" ...\n",
      "[20/20] >>> Processing \"timeseries_summary\" ...\n",
      "Skipping file \"timeseries_summary\". Not a pickle file.\n",
      "[1/20] >>> Processing \"1d_oes_data\" ...\n",
      "Skipping file \"1d_oes_data\". Not a pickle file.\n",
      "[2/20] >>> Processing \"feature_reduced\" ...\n",
      "Skipping file \"feature_reduced\". Not a pickle file.\n",
      "[3/20] >>> Processing \"OES_80um_Fault_C4F8_90to85_SCCM.pkl\" ...\n",
      "[4/20] >>> Processing \"OES_80um_Fault_O2_13to11_SCCM.pkl\" ...\n",
      "[5/20] >>> Processing \"OES_80um_Fault_PlatenPower_17to15_Watt.pkl\" ...\n",
      "[6/20] >>> Processing \"OES_80um_Fault_SF6_130to122_SCCM.pkl\" ...\n",
      "[7/20] >>> Processing \"OES_80um_Fault_SourcePower_800to760_Watt.pkl\" ...\n",
      "[8/20] >>> Processing \"S8014.pkl\" ...\n",
      "[9/20] >>> Processing \"S8015.pkl\" ...\n",
      "[10/20] >>> Processing \"S8016.pkl\" ...\n",
      "[11/20] >>> Processing \"S8017.pkl\" ...\n",
      "[12/20] >>> Processing \"S8018.pkl\" ...\n",
      "[13/20] >>> Processing \"S8019.pkl\" ...\n",
      "[14/20] >>> Processing \"S8020.pkl\" ...\n",
      "[15/20] >>> Processing \"S8021.pkl\" ...\n",
      "[16/20] >>> Processing \"S8022.pkl\" ...\n",
      "[17/20] >>> Processing \"S8023.pkl\" ...\n",
      "[18/20] >>> Processing \"S8024.pkl\" ...\n",
      "[19/20] >>> Processing \"S8025.pkl\" ...\n",
      "[20/20] >>> Processing \"timeseries_summary\" ...\n",
      "Skipping file \"timeseries_summary\". Not a pickle file.\n"
     ]
    }
   ],
   "source": [
    "for micro_dir in ['25', '80']:\n",
    "    dir_ = f'dataset//{micro_dir}um/OES Data/pickle'\n",
    "    file_list = os.listdir(dir_)\n",
    "    wafer = {}\n",
    "    for i, filename in enumerate(file_list):\n",
    "        try:\n",
    "            print(f'[{i+1}/{len(file_list)}] >>> Processing \"{filename}\" ...')\n",
    "            file = filename.split('.')\n",
    "            if (file == '') or (len(file) == 1):\n",
    "                print(f'Skipping file \"{filename}\". Not a pickle file.')\n",
    "                continue\n",
    "\n",
    "            oes = pd.read_pickle(f'{dir_}/timeseries_summary/{filename}')\n",
    "            flatten_values = oes.T.to_numpy().flatten()\n",
    "            new_col = []\n",
    "            for col in oes.columns:\n",
    "                for statistic in oes.index:\n",
    "                    new_col.append(f'{col}_{statistic}')\n",
    "            wafer[file[0]] = pd.Series(flatten_values, index=new_col, name=file[0])\n",
    "        except Exception as e:\n",
    "            raise\n",
    "    merged = (pd.concat(wafer.values(), axis=1)\n",
    "              .T\n",
    "              .dropna(axis=1)\n",
    "              .reset_index()\n",
    "              .rename({'index': 'wafer'}, axis=1))\n",
    "    merged.to_pickle(f'{dir_}//1d_oes_data/final_oes_data.pkl')"
   ]
  },
  {
   "cell_type": "markdown",
   "id": "712243b2-a22e-436e-b4f5-aea1f09bcd11",
   "metadata": {},
   "source": [
    "## Plot Selected Wavelengths"
   ]
  },
  {
   "cell_type": "code",
   "execution_count": 71,
   "id": "8f785e28-31ce-47cf-9b16-2b0428197d00",
   "metadata": {},
   "outputs": [],
   "source": [
    "micro_dir = '25'\n",
    "dir_ = f'dataset//{micro_dir}um/OES Data/pickle'\n",
    "merged = pd.read_pickle(f'{dir_}//1d_oes_data/final_oes_data.pkl')"
   ]
  },
  {
   "cell_type": "code",
   "execution_count": 75,
   "id": "1700b58f-c6e5-4d2f-9d8a-6dbb8aa5ea1b",
   "metadata": {},
   "outputs": [],
   "source": [
    "mean_df = merged.filter(like='mean', axis=1)\n",
    "mean_df = pd.concat([\n",
    "    merged['wafer'],\n",
    "    mean_df,\n",
    "], axis=1)"
   ]
  },
  {
   "cell_type": "code",
   "execution_count": 76,
   "id": "d3145639-5739-43f3-8145-8a3777383836",
   "metadata": {},
   "outputs": [
    {
     "name": "stdout",
     "output_type": "stream",
     "text": [
      "single positional indexer is out-of-bounds\n"
     ]
    },
    {
     "data": {
      "image/png": "[encoded data removed]",
      "text/plain": [
       "<Figure size 1000x1000 with 1 Axes>"
      ]
     },
     "metadata": {},
     "output_type": "display_data"
    }
   ],
   "source": [
    "plt.figure(figsize=(10, 10))\n",
    "for i, v in enumerate(mean_df):\n",
    "    try:\n",
    "        plt.plot(mean_df.iloc[:, 0], mean_df.iloc[:, i+1], label=mean_df.iloc[:, i+1].name)\n",
    "    except Exception as e:\n",
    "        print(e)\n",
    "plt.legend(loc='center left', bbox_to_anchor=(1, 0.5))\n",
    "plt.xticks(rotation=90)\n",
    "plt.show()"
   ]
  },
  {
   "cell_type": "markdown",
   "id": "ec89a375-4bf3-470e-9a16-93bc333dc156",
   "metadata": {},
   "source": [
    "# v. Unfold FDC Data\n",
    "\n",
    "FDC 데이터를 passivation, etch 로 컬럼을 구성하기"
   ]
  },
  {
   "cell_type": "markdown",
   "id": "f0067333-d968-443f-852b-8e0b0359551a",
   "metadata": {},
   "source": [
    "## Imports"
   ]
  },
  {
   "cell_type": "code",
   "execution_count": 1,
   "id": "fd790c0f-25e1-4011-8279-103d09243fac",
   "metadata": {},
   "outputs": [],
   "source": [
    "from tqdm.notebook import tqdm\n",
    "import os\n",
    "import re\n",
    "import pandas as pd\n",
    "import numpy as np\n",
    "import warnings\n",
    "import matplotlib.pyplot as plt\n",
    "import seaborn as sns\n",
    "%matplotlib inline\n",
    "\n",
    "warnings.filterwarnings(action='ignore')"
   ]
  },
  {
   "cell_type": "markdown",
   "id": "01443c22-0374-4c93-a2ea-4b08003590c9",
   "metadata": {
    "tags": []
   },
   "source": [
    "## Try with one wafer"
   ]
  },
  {
   "cell_type": "markdown",
   "id": "7760ad5f-9931-49c5-904a-3a37e225d1ca",
   "metadata": {
    "tags": []
   },
   "source": [
    "### Load Dataset"
   ]
  },
  {
   "cell_type": "code",
   "execution_count": 130,
   "id": "09553266-9d26-4afd-8759-b85fb5435724",
   "metadata": {},
   "outputs": [
    {
     "data": {
      "text/plain": [
       "['.ipynb_checkpoints',\n",
       " '1d_fdc_data',\n",
       " 'FDC_80um_Fault_C4F8_90to85_SCCM.pkl',\n",
       " 'FDC_80um_Fault_O2_13to11_SCCM.pkl',\n",
       " 'FDC_80um_Fault_PlatenPower_17to15_Watt.pkl',\n",
       " 'FDC_80um_Fault_SF6_130to122_SCCM.pkl',\n",
       " 'FDC_80um_Fault_SourcePower_800to760_Watt.pkl',\n",
       " 'FDC_TSV80_ (14).pkl',\n",
       " 'FDC_TSV80_ (15).pkl',\n",
       " 'FDC_TSV80_ (16).pkl',\n",
       " 'FDC_TSV80_ (17).pkl',\n",
       " 'FDC_TSV80_ (18).pkl',\n",
       " 'FDC_TSV80_ (19).pkl',\n",
       " 'FDC_TSV80_ (20).pkl',\n",
       " 'FDC_TSV80_ (21).pkl',\n",
       " 'FDC_TSV80_ (22).pkl',\n",
       " 'FDC_TSV80_ (23).pkl',\n",
       " 'FDC_TSV80_ (24).pkl',\n",
       " 'FDC_TSV80_ (25).pkl']"
      ]
     },
     "execution_count": 130,
     "metadata": {},
     "output_type": "execute_result"
    }
   ],
   "source": [
    "micro_dir = '80'\n",
    "dir_ = f'dataset//{micro_dir}um/FDC Data/pickle'\n",
    "file_list = os.listdir(dir_)\n",
    "file_list"
   ]
  },
  {
   "cell_type": "code",
   "execution_count": 133,
   "id": "2afe7074-888e-45e0-b8e3-82eafcd96d42",
   "metadata": {},
   "outputs": [
    {
     "data": {
      "text/plain": [
       "(968, 23)"
      ]
     },
     "execution_count": 133,
     "metadata": {},
     "output_type": "execute_result"
    }
   ],
   "source": [
    "fdc = pd.read_pickle(f'{dir_}/FDC_TSV80_ (16).pkl')\n",
    "fdc.shape"
   ]
  },
  {
   "cell_type": "code",
   "execution_count": 134,
   "id": "edb43cb6-7050-4a3c-b1a6-99879bc72394",
   "metadata": {},
   "outputs": [],
   "source": [
    "fdc.columns.name = None"
   ]
  },
  {
   "cell_type": "markdown",
   "id": "a8455b7f-9f9c-42a6-805f-bb205f3eb0a2",
   "metadata": {},
   "source": [
    "#### `ASE Downcount`가 시작되는 row만 추출"
   ]
  },
  {
   "cell_type": "code",
   "execution_count": 135,
   "id": "b72d0341-2f94-47d1-b0e1-a622cab93af5",
   "metadata": {},
   "outputs": [],
   "source": [
    "fdc = fdc.reset_index(drop=True)"
   ]
  },
  {
   "cell_type": "code",
   "execution_count": 136,
   "id": "08ec2ccf-e2eb-4e88-9c97-d1709f6a09f7",
   "metadata": {},
   "outputs": [
    {
     "data": {
      "text/html": [
       "<div>\n",
       "<style scoped>\n",
       "    .dataframe tbody tr th:only-of-type {\n",
       "        vertical-align: middle;\n",
       "    }\n",
       "\n",
       "    .dataframe tbody tr th {\n",
       "        vertical-align: top;\n",
       "    }\n",
       "\n",
       "    .dataframe thead th {\n",
       "        text-align: right;\n",
       "    }\n",
       "</style>\n",
       "<table border=\"1\" class=\"dataframe\">\n",
       "  <thead>\n",
       "    <tr style=\"text-align: right;\">\n",
       "      <th></th>\n",
       "      <th>Time</th>\n",
       "      <th>[1] C4F8</th>\n",
       "      <th>[2] SF6</th>\n",
       "      <th>[3] O2</th>\n",
       "      <th>Pressure</th>\n",
       "      <th>RF1 Power</th>\n",
       "      <th>RF1 Reflected</th>\n",
       "      <th>RF Peak</th>\n",
       "      <th>RF Bias</th>\n",
       "      <th>RF1 Load</th>\n",
       "      <th>...</th>\n",
       "      <th>RF2 Load</th>\n",
       "      <th>RF2 Tune</th>\n",
       "      <th>APC Angle</th>\n",
       "      <th>He Leakup Rate</th>\n",
       "      <th>He Pressure</th>\n",
       "      <th>He Flow</th>\n",
       "      <th>Process Phase</th>\n",
       "      <th>ASE Phase</th>\n",
       "      <th>ASE Cycles</th>\n",
       "      <th>ASE Downcount</th>\n",
       "    </tr>\n",
       "  </thead>\n",
       "  <tbody>\n",
       "    <tr>\n",
       "      <th>0</th>\n",
       "      <td>0.0</td>\n",
       "      <td>0.0</td>\n",
       "      <td>0.0</td>\n",
       "      <td>0.0</td>\n",
       "      <td>0.0</td>\n",
       "      <td>0.5</td>\n",
       "      <td>0.1</td>\n",
       "      <td>0.0</td>\n",
       "      <td>0.0</td>\n",
       "      <td>49.1</td>\n",
       "      <td>...</td>\n",
       "      <td>49.2</td>\n",
       "      <td>49.9</td>\n",
       "      <td>0.0</td>\n",
       "      <td>0.0</td>\n",
       "      <td>1.9</td>\n",
       "      <td>2.8</td>\n",
       "      <td>PumpingToTripPressure</td>\n",
       "      <td>NaN</td>\n",
       "      <td>NaN</td>\n",
       "      <td>NaN</td>\n",
       "    </tr>\n",
       "    <tr>\n",
       "      <th>1</th>\n",
       "      <td>0.0</td>\n",
       "      <td>0.0</td>\n",
       "      <td>0.0</td>\n",
       "      <td>0.0</td>\n",
       "      <td>0.0</td>\n",
       "      <td>0.5</td>\n",
       "      <td>0.1</td>\n",
       "      <td>0.0</td>\n",
       "      <td>0.0</td>\n",
       "      <td>49.3</td>\n",
       "      <td>...</td>\n",
       "      <td>35.6</td>\n",
       "      <td>45.1</td>\n",
       "      <td>24.0</td>\n",
       "      <td>7.4</td>\n",
       "      <td>1.3</td>\n",
       "      <td>2.8</td>\n",
       "      <td>GasStab</td>\n",
       "      <td>NaN</td>\n",
       "      <td>NaN</td>\n",
       "      <td>NaN</td>\n",
       "    </tr>\n",
       "    <tr>\n",
       "      <th>2</th>\n",
       "      <td>63.0</td>\n",
       "      <td>86.0</td>\n",
       "      <td>306.9</td>\n",
       "      <td>0.6</td>\n",
       "      <td>100.0</td>\n",
       "      <td>0.5</td>\n",
       "      <td>0.1</td>\n",
       "      <td>0.0</td>\n",
       "      <td>0.0</td>\n",
       "      <td>49.3</td>\n",
       "      <td>...</td>\n",
       "      <td>35.6</td>\n",
       "      <td>45.0</td>\n",
       "      <td>24.0</td>\n",
       "      <td>7.4</td>\n",
       "      <td>1.3</td>\n",
       "      <td>3.3</td>\n",
       "      <td>GasStab</td>\n",
       "      <td>NaN</td>\n",
       "      <td>NaN</td>\n",
       "      <td>NaN</td>\n",
       "    </tr>\n",
       "    <tr>\n",
       "      <th>3</th>\n",
       "      <td>64.0</td>\n",
       "      <td>89.2</td>\n",
       "      <td>14.4</td>\n",
       "      <td>0.6</td>\n",
       "      <td>100.0</td>\n",
       "      <td>0.5</td>\n",
       "      <td>0.1</td>\n",
       "      <td>0.0</td>\n",
       "      <td>0.0</td>\n",
       "      <td>49.1</td>\n",
       "      <td>...</td>\n",
       "      <td>35.5</td>\n",
       "      <td>45.0</td>\n",
       "      <td>66.0</td>\n",
       "      <td>7.4</td>\n",
       "      <td>2.0</td>\n",
       "      <td>7.4</td>\n",
       "      <td>GasStab</td>\n",
       "      <td>NaN</td>\n",
       "      <td>NaN</td>\n",
       "      <td>NaN</td>\n",
       "    </tr>\n",
       "    <tr>\n",
       "      <th>4</th>\n",
       "      <td>65.0</td>\n",
       "      <td>89.8</td>\n",
       "      <td>0.6</td>\n",
       "      <td>0.4</td>\n",
       "      <td>6.0</td>\n",
       "      <td>0.5</td>\n",
       "      <td>0.1</td>\n",
       "      <td>0.0</td>\n",
       "      <td>0.0</td>\n",
       "      <td>49.1</td>\n",
       "      <td>...</td>\n",
       "      <td>35.4</td>\n",
       "      <td>45.0</td>\n",
       "      <td>68.4</td>\n",
       "      <td>7.4</td>\n",
       "      <td>3.3</td>\n",
       "      <td>9.9</td>\n",
       "      <td>GasStab</td>\n",
       "      <td>NaN</td>\n",
       "      <td>NaN</td>\n",
       "      <td>NaN</td>\n",
       "    </tr>\n",
       "    <tr>\n",
       "      <th>5</th>\n",
       "      <td>66.0</td>\n",
       "      <td>90.0</td>\n",
       "      <td>0.0</td>\n",
       "      <td>0.3</td>\n",
       "      <td>6.3</td>\n",
       "      <td>0.5</td>\n",
       "      <td>0.1</td>\n",
       "      <td>0.0</td>\n",
       "      <td>1.5</td>\n",
       "      <td>49.2</td>\n",
       "      <td>...</td>\n",
       "      <td>35.5</td>\n",
       "      <td>45.0</td>\n",
       "      <td>68.4</td>\n",
       "      <td>7.4</td>\n",
       "      <td>4.7</td>\n",
       "      <td>12.4</td>\n",
       "      <td>GasStab</td>\n",
       "      <td>NaN</td>\n",
       "      <td>NaN</td>\n",
       "      <td>NaN</td>\n",
       "    </tr>\n",
       "    <tr>\n",
       "      <th>6</th>\n",
       "      <td>67.0</td>\n",
       "      <td>90.0</td>\n",
       "      <td>0.0</td>\n",
       "      <td>0.3</td>\n",
       "      <td>6.3</td>\n",
       "      <td>0.5</td>\n",
       "      <td>0.1</td>\n",
       "      <td>0.0</td>\n",
       "      <td>0.0</td>\n",
       "      <td>49.1</td>\n",
       "      <td>...</td>\n",
       "      <td>35.5</td>\n",
       "      <td>45.0</td>\n",
       "      <td>68.4</td>\n",
       "      <td>7.4</td>\n",
       "      <td>5.9</td>\n",
       "      <td>14.9</td>\n",
       "      <td>GasStab</td>\n",
       "      <td>NaN</td>\n",
       "      <td>NaN</td>\n",
       "      <td>NaN</td>\n",
       "    </tr>\n",
       "    <tr>\n",
       "      <th>7</th>\n",
       "      <td>68.0</td>\n",
       "      <td>90.0</td>\n",
       "      <td>0.0</td>\n",
       "      <td>0.2</td>\n",
       "      <td>6.3</td>\n",
       "      <td>0.5</td>\n",
       "      <td>0.1</td>\n",
       "      <td>0.0</td>\n",
       "      <td>0.0</td>\n",
       "      <td>49.2</td>\n",
       "      <td>...</td>\n",
       "      <td>35.5</td>\n",
       "      <td>44.9</td>\n",
       "      <td>68.4</td>\n",
       "      <td>7.4</td>\n",
       "      <td>7.0</td>\n",
       "      <td>17.3</td>\n",
       "      <td>GasStab</td>\n",
       "      <td>NaN</td>\n",
       "      <td>NaN</td>\n",
       "      <td>NaN</td>\n",
       "    </tr>\n",
       "    <tr>\n",
       "      <th>8</th>\n",
       "      <td>69.0</td>\n",
       "      <td>90.2</td>\n",
       "      <td>0.0</td>\n",
       "      <td>0.2</td>\n",
       "      <td>6.3</td>\n",
       "      <td>0.5</td>\n",
       "      <td>0.1</td>\n",
       "      <td>10.0</td>\n",
       "      <td>0.0</td>\n",
       "      <td>49.1</td>\n",
       "      <td>...</td>\n",
       "      <td>35.4</td>\n",
       "      <td>44.9</td>\n",
       "      <td>68.4</td>\n",
       "      <td>7.4</td>\n",
       "      <td>5.2</td>\n",
       "      <td>19.7</td>\n",
       "      <td>GasStab</td>\n",
       "      <td>NaN</td>\n",
       "      <td>NaN</td>\n",
       "      <td>NaN</td>\n",
       "    </tr>\n",
       "    <tr>\n",
       "      <th>9</th>\n",
       "      <td>70.0</td>\n",
       "      <td>90.0</td>\n",
       "      <td>0.0</td>\n",
       "      <td>0.2</td>\n",
       "      <td>6.3</td>\n",
       "      <td>0.5</td>\n",
       "      <td>0.1</td>\n",
       "      <td>0.0</td>\n",
       "      <td>0.0</td>\n",
       "      <td>49.1</td>\n",
       "      <td>...</td>\n",
       "      <td>35.4</td>\n",
       "      <td>44.9</td>\n",
       "      <td>68.4</td>\n",
       "      <td>7.4</td>\n",
       "      <td>6.5</td>\n",
       "      <td>22.2</td>\n",
       "      <td>GasStab</td>\n",
       "      <td>NaN</td>\n",
       "      <td>NaN</td>\n",
       "      <td>NaN</td>\n",
       "    </tr>\n",
       "    <tr>\n",
       "      <th>10</th>\n",
       "      <td>71.0</td>\n",
       "      <td>90.2</td>\n",
       "      <td>0.0</td>\n",
       "      <td>0.2</td>\n",
       "      <td>6.3</td>\n",
       "      <td>0.5</td>\n",
       "      <td>0.1</td>\n",
       "      <td>0.0</td>\n",
       "      <td>1.5</td>\n",
       "      <td>49.1</td>\n",
       "      <td>...</td>\n",
       "      <td>35.4</td>\n",
       "      <td>44.9</td>\n",
       "      <td>68.4</td>\n",
       "      <td>7.4</td>\n",
       "      <td>7.9</td>\n",
       "      <td>24.7</td>\n",
       "      <td>GasStab</td>\n",
       "      <td>NaN</td>\n",
       "      <td>NaN</td>\n",
       "      <td>NaN</td>\n",
       "    </tr>\n",
       "    <tr>\n",
       "      <th>11</th>\n",
       "      <td>72.0</td>\n",
       "      <td>90.2</td>\n",
       "      <td>0.0</td>\n",
       "      <td>0.2</td>\n",
       "      <td>6.3</td>\n",
       "      <td>0.5</td>\n",
       "      <td>0.1</td>\n",
       "      <td>0.0</td>\n",
       "      <td>0.0</td>\n",
       "      <td>49.1</td>\n",
       "      <td>...</td>\n",
       "      <td>35.4</td>\n",
       "      <td>44.9</td>\n",
       "      <td>68.4</td>\n",
       "      <td>7.4</td>\n",
       "      <td>9.1</td>\n",
       "      <td>27.0</td>\n",
       "      <td>Process</td>\n",
       "      <td>NaN</td>\n",
       "      <td>NaN</td>\n",
       "      <td>0.0</td>\n",
       "    </tr>\n",
       "    <tr>\n",
       "      <th>12</th>\n",
       "      <td>73.0</td>\n",
       "      <td>90.0</td>\n",
       "      <td>0.0</td>\n",
       "      <td>0.2</td>\n",
       "      <td>6.4</td>\n",
       "      <td>0.5</td>\n",
       "      <td>0.1</td>\n",
       "      <td>20.0</td>\n",
       "      <td>0.0</td>\n",
       "      <td>49.1</td>\n",
       "      <td>...</td>\n",
       "      <td>35.4</td>\n",
       "      <td>45.8</td>\n",
       "      <td>68.4</td>\n",
       "      <td>7.4</td>\n",
       "      <td>10.0</td>\n",
       "      <td>27.8</td>\n",
       "      <td>Process</td>\n",
       "      <td>NaN</td>\n",
       "      <td>50.0</td>\n",
       "      <td>0.0</td>\n",
       "    </tr>\n",
       "    <tr>\n",
       "      <th>13</th>\n",
       "      <td>74.0</td>\n",
       "      <td>90.2</td>\n",
       "      <td>0.0</td>\n",
       "      <td>0.2</td>\n",
       "      <td>6.4</td>\n",
       "      <td>0.5</td>\n",
       "      <td>0.1</td>\n",
       "      <td>20.0</td>\n",
       "      <td>0.0</td>\n",
       "      <td>49.1</td>\n",
       "      <td>...</td>\n",
       "      <td>28.9</td>\n",
       "      <td>55.5</td>\n",
       "      <td>68.4</td>\n",
       "      <td>7.4</td>\n",
       "      <td>10.0</td>\n",
       "      <td>27.0</td>\n",
       "      <td>Process</td>\n",
       "      <td>Pass</td>\n",
       "      <td>50.0</td>\n",
       "      <td>7.0</td>\n",
       "    </tr>\n",
       "    <tr>\n",
       "      <th>14</th>\n",
       "      <td>75.0</td>\n",
       "      <td>90.0</td>\n",
       "      <td>0.0</td>\n",
       "      <td>0.2</td>\n",
       "      <td>7.5</td>\n",
       "      <td>0.5</td>\n",
       "      <td>0.1</td>\n",
       "      <td>0.0</td>\n",
       "      <td>0.0</td>\n",
       "      <td>49.2</td>\n",
       "      <td>...</td>\n",
       "      <td>30.2</td>\n",
       "      <td>50.5</td>\n",
       "      <td>68.4</td>\n",
       "      <td>7.4</td>\n",
       "      <td>10.0</td>\n",
       "      <td>27.1</td>\n",
       "      <td>Process</td>\n",
       "      <td>Pass</td>\n",
       "      <td>50.0</td>\n",
       "      <td>6.0</td>\n",
       "    </tr>\n",
       "    <tr>\n",
       "      <th>15</th>\n",
       "      <td>76.0</td>\n",
       "      <td>90.0</td>\n",
       "      <td>0.0</td>\n",
       "      <td>0.2</td>\n",
       "      <td>7.6</td>\n",
       "      <td>0.5</td>\n",
       "      <td>0.1</td>\n",
       "      <td>10.0</td>\n",
       "      <td>0.0</td>\n",
       "      <td>49.3</td>\n",
       "      <td>...</td>\n",
       "      <td>28.7</td>\n",
       "      <td>49.6</td>\n",
       "      <td>68.4</td>\n",
       "      <td>7.4</td>\n",
       "      <td>10.0</td>\n",
       "      <td>27.0</td>\n",
       "      <td>Process</td>\n",
       "      <td>Pass</td>\n",
       "      <td>50.0</td>\n",
       "      <td>5.0</td>\n",
       "    </tr>\n",
       "    <tr>\n",
       "      <th>16</th>\n",
       "      <td>77.0</td>\n",
       "      <td>90.0</td>\n",
       "      <td>0.0</td>\n",
       "      <td>0.2</td>\n",
       "      <td>7.6</td>\n",
       "      <td>0.5</td>\n",
       "      <td>0.1</td>\n",
       "      <td>0.0</td>\n",
       "      <td>0.0</td>\n",
       "      <td>49.2</td>\n",
       "      <td>...</td>\n",
       "      <td>25.9</td>\n",
       "      <td>49.6</td>\n",
       "      <td>68.4</td>\n",
       "      <td>7.4</td>\n",
       "      <td>10.0</td>\n",
       "      <td>27.0</td>\n",
       "      <td>Process</td>\n",
       "      <td>Pass</td>\n",
       "      <td>50.0</td>\n",
       "      <td>4.0</td>\n",
       "    </tr>\n",
       "    <tr>\n",
       "      <th>17</th>\n",
       "      <td>78.0</td>\n",
       "      <td>90.0</td>\n",
       "      <td>0.0</td>\n",
       "      <td>0.2</td>\n",
       "      <td>8.2</td>\n",
       "      <td>0.5</td>\n",
       "      <td>0.1</td>\n",
       "      <td>0.0</td>\n",
       "      <td>0.0</td>\n",
       "      <td>49.3</td>\n",
       "      <td>...</td>\n",
       "      <td>27.5</td>\n",
       "      <td>52.7</td>\n",
       "      <td>68.4</td>\n",
       "      <td>7.4</td>\n",
       "      <td>10.0</td>\n",
       "      <td>27.1</td>\n",
       "      <td>Process</td>\n",
       "      <td>Pass</td>\n",
       "      <td>50.0</td>\n",
       "      <td>3.0</td>\n",
       "    </tr>\n",
       "    <tr>\n",
       "      <th>18</th>\n",
       "      <td>79.0</td>\n",
       "      <td>90.0</td>\n",
       "      <td>0.3</td>\n",
       "      <td>0.2</td>\n",
       "      <td>8.7</td>\n",
       "      <td>0.5</td>\n",
       "      <td>0.1</td>\n",
       "      <td>0.0</td>\n",
       "      <td>0.0</td>\n",
       "      <td>49.1</td>\n",
       "      <td>...</td>\n",
       "      <td>28.8</td>\n",
       "      <td>56.1</td>\n",
       "      <td>68.4</td>\n",
       "      <td>7.4</td>\n",
       "      <td>10.0</td>\n",
       "      <td>27.0</td>\n",
       "      <td>Process</td>\n",
       "      <td>Pass</td>\n",
       "      <td>50.0</td>\n",
       "      <td>2.0</td>\n",
       "    </tr>\n",
       "    <tr>\n",
       "      <th>19</th>\n",
       "      <td>80.0</td>\n",
       "      <td>90.0</td>\n",
       "      <td>0.3</td>\n",
       "      <td>0.2</td>\n",
       "      <td>8.7</td>\n",
       "      <td>0.5</td>\n",
       "      <td>0.1</td>\n",
       "      <td>0.0</td>\n",
       "      <td>12.0</td>\n",
       "      <td>49.2</td>\n",
       "      <td>...</td>\n",
       "      <td>24.6</td>\n",
       "      <td>52.2</td>\n",
       "      <td>68.4</td>\n",
       "      <td>7.4</td>\n",
       "      <td>10.0</td>\n",
       "      <td>27.1</td>\n",
       "      <td>Process</td>\n",
       "      <td>Pass</td>\n",
       "      <td>50.0</td>\n",
       "      <td>1.0</td>\n",
       "    </tr>\n",
       "  </tbody>\n",
       "</table>\n",
       "<p>20 rows × 23 columns</p>\n",
       "</div>"
      ],
      "text/plain": [
       "    Time  [1] C4F8  [2] SF6  [3] O2  Pressure  RF1 Power  RF1 Reflected  \\\n",
       "0    0.0       0.0      0.0     0.0       0.0        0.5            0.1   \n",
       "1    0.0       0.0      0.0     0.0       0.0        0.5            0.1   \n",
       "2   63.0      86.0    306.9     0.6     100.0        0.5            0.1   \n",
       "3   64.0      89.2     14.4     0.6     100.0        0.5            0.1   \n",
       "4   65.0      89.8      0.6     0.4       6.0        0.5            0.1   \n",
       "5   66.0      90.0      0.0     0.3       6.3        0.5            0.1   \n",
       "6   67.0      90.0      0.0     0.3       6.3        0.5            0.1   \n",
       "7   68.0      90.0      0.0     0.2       6.3        0.5            0.1   \n",
       "8   69.0      90.2      0.0     0.2       6.3        0.5            0.1   \n",
       "9   70.0      90.0      0.0     0.2       6.3        0.5            0.1   \n",
       "10  71.0      90.2      0.0     0.2       6.3        0.5            0.1   \n",
       "11  72.0      90.2      0.0     0.2       6.3        0.5            0.1   \n",
       "12  73.0      90.0      0.0     0.2       6.4        0.5            0.1   \n",
       "13  74.0      90.2      0.0     0.2       6.4        0.5            0.1   \n",
       "14  75.0      90.0      0.0     0.2       7.5        0.5            0.1   \n",
       "15  76.0      90.0      0.0     0.2       7.6        0.5            0.1   \n",
       "16  77.0      90.0      0.0     0.2       7.6        0.5            0.1   \n",
       "17  78.0      90.0      0.0     0.2       8.2        0.5            0.1   \n",
       "18  79.0      90.0      0.3     0.2       8.7        0.5            0.1   \n",
       "19  80.0      90.0      0.3     0.2       8.7        0.5            0.1   \n",
       "\n",
       "    RF Peak  RF Bias  RF1 Load  ...  RF2 Load  RF2 Tune  APC Angle  \\\n",
       "0       0.0      0.0      49.1  ...      49.2      49.9        0.0   \n",
       "1       0.0      0.0      49.3  ...      35.6      45.1       24.0   \n",
       "2       0.0      0.0      49.3  ...      35.6      45.0       24.0   \n",
       "3       0.0      0.0      49.1  ...      35.5      45.0       66.0   \n",
       "4       0.0      0.0      49.1  ...      35.4      45.0       68.4   \n",
       "5       0.0      1.5      49.2  ...      35.5      45.0       68.4   \n",
       "6       0.0      0.0      49.1  ...      35.5      45.0       68.4   \n",
       "7       0.0      0.0      49.2  ...      35.5      44.9       68.4   \n",
       "8      10.0      0.0      49.1  ...      35.4      44.9       68.4   \n",
       "9       0.0      0.0      49.1  ...      35.4      44.9       68.4   \n",
       "10      0.0      1.5      49.1  ...      35.4      44.9       68.4   \n",
       "11      0.0      0.0      49.1  ...      35.4      44.9       68.4   \n",
       "12     20.0      0.0      49.1  ...      35.4      45.8       68.4   \n",
       "13     20.0      0.0      49.1  ...      28.9      55.5       68.4   \n",
       "14      0.0      0.0      49.2  ...      30.2      50.5       68.4   \n",
       "15     10.0      0.0      49.3  ...      28.7      49.6       68.4   \n",
       "16      0.0      0.0      49.2  ...      25.9      49.6       68.4   \n",
       "17      0.0      0.0      49.3  ...      27.5      52.7       68.4   \n",
       "18      0.0      0.0      49.1  ...      28.8      56.1       68.4   \n",
       "19      0.0     12.0      49.2  ...      24.6      52.2       68.4   \n",
       "\n",
       "    He Leakup Rate  He Pressure  He Flow          Process Phase  ASE Phase  \\\n",
       "0              0.0          1.9      2.8  PumpingToTripPressure        NaN   \n",
       "1              7.4          1.3      2.8                GasStab        NaN   \n",
       "2              7.4          1.3      3.3                GasStab        NaN   \n",
       "3              7.4          2.0      7.4                GasStab        NaN   \n",
       "4              7.4          3.3      9.9                GasStab        NaN   \n",
       "5              7.4          4.7     12.4                GasStab        NaN   \n",
       "6              7.4          5.9     14.9                GasStab        NaN   \n",
       "7              7.4          7.0     17.3                GasStab        NaN   \n",
       "8              7.4          5.2     19.7                GasStab        NaN   \n",
       "9              7.4          6.5     22.2                GasStab        NaN   \n",
       "10             7.4          7.9     24.7                GasStab        NaN   \n",
       "11             7.4          9.1     27.0                Process        NaN   \n",
       "12             7.4         10.0     27.8                Process        NaN   \n",
       "13             7.4         10.0     27.0                Process       Pass   \n",
       "14             7.4         10.0     27.1                Process       Pass   \n",
       "15             7.4         10.0     27.0                Process       Pass   \n",
       "16             7.4         10.0     27.0                Process       Pass   \n",
       "17             7.4         10.0     27.1                Process       Pass   \n",
       "18             7.4         10.0     27.0                Process       Pass   \n",
       "19             7.4         10.0     27.1                Process       Pass   \n",
       "\n",
       "    ASE Cycles ASE Downcount  \n",
       "0          NaN           NaN  \n",
       "1          NaN           NaN  \n",
       "2          NaN           NaN  \n",
       "3          NaN           NaN  \n",
       "4          NaN           NaN  \n",
       "5          NaN           NaN  \n",
       "6          NaN           NaN  \n",
       "7          NaN           NaN  \n",
       "8          NaN           NaN  \n",
       "9          NaN           NaN  \n",
       "10         NaN           NaN  \n",
       "11         NaN           0.0  \n",
       "12        50.0           0.0  \n",
       "13        50.0           7.0  \n",
       "14        50.0           6.0  \n",
       "15        50.0           5.0  \n",
       "16        50.0           4.0  \n",
       "17        50.0           3.0  \n",
       "18        50.0           2.0  \n",
       "19        50.0           1.0  \n",
       "\n",
       "[20 rows x 23 columns]"
      ]
     },
     "execution_count": 136,
     "metadata": {},
     "output_type": "execute_result"
    }
   ],
   "source": [
    "fdc.head(20)"
   ]
  },
  {
   "cell_type": "code",
   "execution_count": 137,
   "id": "01c759af-b957-4f1c-a306-26bffcfafa81",
   "metadata": {},
   "outputs": [],
   "source": [
    "fdc_process = fdc[fdc['Process Phase'] == 'Process']"
   ]
  },
  {
   "cell_type": "code",
   "execution_count": 138,
   "id": "890243c5-2865-432d-b26b-2abd8d11e0ea",
   "metadata": {},
   "outputs": [
    {
     "data": {
      "text/plain": [
       "3"
      ]
     },
     "execution_count": 138,
     "metadata": {},
     "output_type": "execute_result"
    }
   ],
   "source": [
    "fdc_process = fdc_process.where(fdc_process != '')\n",
    "fdc_process.isna().sum().sum()"
   ]
  },
  {
   "cell_type": "code",
   "execution_count": 139,
   "id": "78c75893-7c62-40a0-a31c-6371f3b569d2",
   "metadata": {},
   "outputs": [
    {
     "data": {
      "text/html": [
       "<div>\n",
       "<style scoped>\n",
       "    .dataframe tbody tr th:only-of-type {\n",
       "        vertical-align: middle;\n",
       "    }\n",
       "\n",
       "    .dataframe tbody tr th {\n",
       "        vertical-align: top;\n",
       "    }\n",
       "\n",
       "    .dataframe thead th {\n",
       "        text-align: right;\n",
       "    }\n",
       "</style>\n",
       "<table border=\"1\" class=\"dataframe\">\n",
       "  <thead>\n",
       "    <tr style=\"text-align: right;\">\n",
       "      <th></th>\n",
       "      <th>Time</th>\n",
       "      <th>[1] C4F8</th>\n",
       "      <th>[2] SF6</th>\n",
       "      <th>[3] O2</th>\n",
       "      <th>Pressure</th>\n",
       "      <th>RF1 Power</th>\n",
       "      <th>RF1 Reflected</th>\n",
       "      <th>RF Peak</th>\n",
       "      <th>RF Bias</th>\n",
       "      <th>RF1 Load</th>\n",
       "      <th>...</th>\n",
       "      <th>RF2 Load</th>\n",
       "      <th>RF2 Tune</th>\n",
       "      <th>APC Angle</th>\n",
       "      <th>He Leakup Rate</th>\n",
       "      <th>He Pressure</th>\n",
       "      <th>He Flow</th>\n",
       "      <th>Process Phase</th>\n",
       "      <th>ASE Phase</th>\n",
       "      <th>ASE Cycles</th>\n",
       "      <th>ASE Downcount</th>\n",
       "    </tr>\n",
       "  </thead>\n",
       "  <tbody>\n",
       "    <tr>\n",
       "      <th>11</th>\n",
       "      <td>72.0</td>\n",
       "      <td>90.2</td>\n",
       "      <td>0.0</td>\n",
       "      <td>0.2</td>\n",
       "      <td>6.3</td>\n",
       "      <td>0.5</td>\n",
       "      <td>0.1</td>\n",
       "      <td>0.0</td>\n",
       "      <td>0.0</td>\n",
       "      <td>49.1</td>\n",
       "      <td>...</td>\n",
       "      <td>35.4</td>\n",
       "      <td>44.9</td>\n",
       "      <td>68.4</td>\n",
       "      <td>7.4</td>\n",
       "      <td>9.1</td>\n",
       "      <td>27.0</td>\n",
       "      <td>Process</td>\n",
       "      <td>NaN</td>\n",
       "      <td>NaN</td>\n",
       "      <td>0.0</td>\n",
       "    </tr>\n",
       "    <tr>\n",
       "      <th>12</th>\n",
       "      <td>73.0</td>\n",
       "      <td>90.0</td>\n",
       "      <td>0.0</td>\n",
       "      <td>0.2</td>\n",
       "      <td>6.4</td>\n",
       "      <td>0.5</td>\n",
       "      <td>0.1</td>\n",
       "      <td>20.0</td>\n",
       "      <td>0.0</td>\n",
       "      <td>49.1</td>\n",
       "      <td>...</td>\n",
       "      <td>35.4</td>\n",
       "      <td>45.8</td>\n",
       "      <td>68.4</td>\n",
       "      <td>7.4</td>\n",
       "      <td>10.0</td>\n",
       "      <td>27.8</td>\n",
       "      <td>Process</td>\n",
       "      <td>NaN</td>\n",
       "      <td>50.0</td>\n",
       "      <td>0.0</td>\n",
       "    </tr>\n",
       "  </tbody>\n",
       "</table>\n",
       "<p>2 rows × 23 columns</p>\n",
       "</div>"
      ],
      "text/plain": [
       "    Time  [1] C4F8  [2] SF6  [3] O2  Pressure  RF1 Power  RF1 Reflected  \\\n",
       "11  72.0      90.2      0.0     0.2       6.3        0.5            0.1   \n",
       "12  73.0      90.0      0.0     0.2       6.4        0.5            0.1   \n",
       "\n",
       "    RF Peak  RF Bias  RF1 Load  ...  RF2 Load  RF2 Tune  APC Angle  \\\n",
       "11      0.0      0.0      49.1  ...      35.4      44.9       68.4   \n",
       "12     20.0      0.0      49.1  ...      35.4      45.8       68.4   \n",
       "\n",
       "    He Leakup Rate  He Pressure  He Flow  Process Phase  ASE Phase  \\\n",
       "11             7.4          9.1     27.0        Process        NaN   \n",
       "12             7.4         10.0     27.8        Process        NaN   \n",
       "\n",
       "    ASE Cycles ASE Downcount  \n",
       "11         NaN           0.0  \n",
       "12        50.0           0.0  \n",
       "\n",
       "[2 rows x 23 columns]"
      ]
     },
     "execution_count": 139,
     "metadata": {},
     "output_type": "execute_result"
    }
   ],
   "source": [
    "fdc_process[fdc_process.isna().any(axis=1)]"
   ]
  },
  {
   "cell_type": "code",
   "execution_count": 140,
   "id": "ff81671d-8e74-4a05-9ca8-3377be98c4ee",
   "metadata": {},
   "outputs": [],
   "source": [
    "fdc_process.dropna(inplace=True)"
   ]
  },
  {
   "cell_type": "code",
   "execution_count": 141,
   "id": "ded3ab51-ce92-4ffe-a417-85c339dbeb6f",
   "metadata": {},
   "outputs": [],
   "source": [
    "for col in fdc_process:\n",
    "    if (col == 'Time') or (col == 'ASE Cycles') or (col == 'ASE Downcount'):\n",
    "        fdc_process.loc[:, col] = (fdc_process[col]\n",
    "                                   .astype(int)\n",
    "                                   .astype(str))\n",
    "    else:\n",
    "        try:\n",
    "            fdc_process.loc[:, col] = fdc_process[col].astype(float)\n",
    "        except (AttributeError, ValueError):\n",
    "            fdc_process.loc[:, col] = fdc_process[col].astype(str)"
   ]
  },
  {
   "cell_type": "markdown",
   "id": "4dcc10d8-f08d-4f66-b9b4-d4bee3c19bb6",
   "metadata": {},
   "source": [
    "### Plot Gas"
   ]
  },
  {
   "cell_type": "code",
   "execution_count": 142,
   "id": "37085d4c-fbde-4360-8a60-edabe6dd09bb",
   "metadata": {},
   "outputs": [
    {
     "data": {
      "image/png": "[encoded data removed]",
      "text/plain": [
       "<Figure size 500x200 with 1 Axes>"
      ]
     },
     "metadata": {},
     "output_type": "display_data"
    }
   ],
   "source": [
    "plt.figure(figsize=(5, 2))\n",
    "gas = '[1] C4F8'\n",
    "# gas = '[2] SF6'\n",
    "# gas = '[3] O2'\n",
    "for i in range(1, 51):\n",
    "    plt.scatter(\n",
    "        x=range(len(fdc_process.groupby('ASE Cycles').get_group(str(i))[gas])),\n",
    "        y=fdc_process.groupby('ASE Cycles').get_group(str(i))[gas],\n",
    "        s=10,\n",
    "    )\n",
    "plt.show()"
   ]
  },
  {
   "cell_type": "markdown",
   "id": "28c28a39-0469-4486-a2c4-ea833382ed7a",
   "metadata": {},
   "source": [
    "gas의 주입량은 Passivation과 Etch 때 모두 동일함\n",
    "\n",
    "단 gas가 주입되고 끊기는 시점이 완벽하게 Pass, Etch 구간으로 떨어지진 않음"
   ]
  },
  {
   "cell_type": "markdown",
   "id": "68b560ba-8843-4e27-b532-00a4da3f3d23",
   "metadata": {},
   "source": [
    "값의 변동이 거의 없는 변수들을 제거"
   ]
  },
  {
   "cell_type": "code",
   "execution_count": 143,
   "id": "21fde9b3-6ed7-48e0-858f-312d01c79d49",
   "metadata": {},
   "outputs": [],
   "source": [
    "fdc_process_std = fdc_process.std()"
   ]
  },
  {
   "cell_type": "code",
   "execution_count": 144,
   "id": "828ae5bb-5477-42cd-9225-da88396fa333",
   "metadata": {},
   "outputs": [
    {
     "data": {
      "image/png": "[encoded data removed]",
      "text/plain": [
       "<Figure size 500x200 with 1 Axes>"
      ]
     },
     "metadata": {},
     "output_type": "display_data"
    }
   ],
   "source": [
    "plt.figure(figsize=(5, 2))\n",
    "plt.scatter(range(len(fdc_process_std)), fdc_process_std)\n",
    "plt.xticks(rotation=90)\n",
    "plt.show()"
   ]
  },
  {
   "cell_type": "code",
   "execution_count": 145,
   "id": "21d20eb6-50c6-4709-aea1-afbc993ddfb0",
   "metadata": {},
   "outputs": [
    {
     "data": {
      "text/plain": [
       "RF Peak            True\n",
       "[2] SF6            True\n",
       "RF Bias            True\n",
       "RF2 Power          True\n",
       "[1] C4F8           True\n",
       "RF2 Reflected      True\n",
       "RF1 Power          True\n",
       "[3] O2             True\n",
       "Pressure           True\n",
       "RF2 Tune           True\n",
       "RF2 Load           True\n",
       "RF1 Load           True\n",
       "RF1 Tune          False\n",
       "RF1 Reflected     False\n",
       "He Flow           False\n",
       "APC Angle         False\n",
       "He Leakup Rate    False\n",
       "He Pressure       False\n",
       "dtype: bool"
      ]
     },
     "execution_count": 145,
     "metadata": {},
     "output_type": "execute_result"
    }
   ],
   "source": [
    "fdc_process_std.sort_values(ascending=False) > 0.5"
   ]
  },
  {
   "cell_type": "code",
   "execution_count": 146,
   "id": "d5adf9b0-65ee-49b4-8fea-cb6da010ee4d",
   "metadata": {},
   "outputs": [],
   "source": [
    "value_col = fdc_process_std[\n",
    "    fdc_process_std.sort_values(ascending=False) > 0.5\n",
    "].index"
   ]
  },
  {
   "cell_type": "markdown",
   "id": "d13cad98-2cbe-49d5-89ec-a50f654866b2",
   "metadata": {},
   "source": [
    "### Unfold"
   ]
  },
  {
   "cell_type": "code",
   "execution_count": 36,
   "id": "67f1766c-11f0-4d06-b59c-aa52d5f51c66",
   "metadata": {},
   "outputs": [
    {
     "data": {
      "text/html": [
       "<div>\n",
       "<style scoped>\n",
       "    .dataframe tbody tr th:only-of-type {\n",
       "        vertical-align: middle;\n",
       "    }\n",
       "\n",
       "    .dataframe tbody tr th {\n",
       "        vertical-align: top;\n",
       "    }\n",
       "\n",
       "    .dataframe thead tr th {\n",
       "        text-align: left;\n",
       "    }\n",
       "\n",
       "    .dataframe thead tr:last-of-type th {\n",
       "        text-align: right;\n",
       "    }\n",
       "</style>\n",
       "<table border=\"1\" class=\"dataframe\">\n",
       "  <thead>\n",
       "    <tr>\n",
       "      <th></th>\n",
       "      <th></th>\n",
       "      <th colspan=\"11\" halign=\"left\">mean</th>\n",
       "    </tr>\n",
       "    <tr>\n",
       "      <th></th>\n",
       "      <th></th>\n",
       "      <th>Pressure</th>\n",
       "      <th>RF Bias</th>\n",
       "      <th>RF Peak</th>\n",
       "      <th>RF1 Power</th>\n",
       "      <th>RF2 Load</th>\n",
       "      <th>RF2 Power</th>\n",
       "      <th>RF2 Reflected</th>\n",
       "      <th>RF2 Tune</th>\n",
       "      <th>[1] C4F8</th>\n",
       "      <th>[2] SF6</th>\n",
       "      <th>[3] O2</th>\n",
       "    </tr>\n",
       "    <tr>\n",
       "      <th>ASE Cycles</th>\n",
       "      <th>ASE Phase</th>\n",
       "      <th></th>\n",
       "      <th></th>\n",
       "      <th></th>\n",
       "      <th></th>\n",
       "      <th></th>\n",
       "      <th></th>\n",
       "      <th></th>\n",
       "      <th></th>\n",
       "      <th></th>\n",
       "      <th></th>\n",
       "      <th></th>\n",
       "    </tr>\n",
       "  </thead>\n",
       "  <tbody>\n",
       "    <tr>\n",
       "      <th rowspan=\"2\" valign=\"top\">1</th>\n",
       "      <th>Etch</th>\n",
       "      <td>16.370000</td>\n",
       "      <td>113.400000</td>\n",
       "      <td>378.000000</td>\n",
       "      <td>17.000000</td>\n",
       "      <td>34.830000</td>\n",
       "      <td>807.800000</td>\n",
       "      <td>10.300000</td>\n",
       "      <td>46.770000</td>\n",
       "      <td>2.360000</td>\n",
       "      <td>129.810000</td>\n",
       "      <td>12.990000</td>\n",
       "    </tr>\n",
       "    <tr>\n",
       "      <th>Pass</th>\n",
       "      <td>9.687500</td>\n",
       "      <td>0.750000</td>\n",
       "      <td>0.000000</td>\n",
       "      <td>0.500000</td>\n",
       "      <td>35.412500</td>\n",
       "      <td>831.250000</td>\n",
       "      <td>29.750000</td>\n",
       "      <td>45.987500</td>\n",
       "      <td>79.275000</td>\n",
       "      <td>4.912500</td>\n",
       "      <td>1.187500</td>\n",
       "    </tr>\n",
       "    <tr>\n",
       "      <th rowspan=\"2\" valign=\"top\">10</th>\n",
       "      <th>Etch</th>\n",
       "      <td>17.263636</td>\n",
       "      <td>114.272727</td>\n",
       "      <td>378.181818</td>\n",
       "      <td>15.581818</td>\n",
       "      <td>34.636364</td>\n",
       "      <td>807.818182</td>\n",
       "      <td>9.000000</td>\n",
       "      <td>46.936364</td>\n",
       "      <td>2.018182</td>\n",
       "      <td>129.872727</td>\n",
       "      <td>13.018182</td>\n",
       "    </tr>\n",
       "    <tr>\n",
       "      <th>Pass</th>\n",
       "      <td>10.187500</td>\n",
       "      <td>0.187500</td>\n",
       "      <td>0.000000</td>\n",
       "      <td>0.500000</td>\n",
       "      <td>35.962500</td>\n",
       "      <td>831.250000</td>\n",
       "      <td>28.875000</td>\n",
       "      <td>45.025000</td>\n",
       "      <td>90.225000</td>\n",
       "      <td>3.412500</td>\n",
       "      <td>1.187500</td>\n",
       "    </tr>\n",
       "    <tr>\n",
       "      <th>11</th>\n",
       "      <th>Etch</th>\n",
       "      <td>16.736364</td>\n",
       "      <td>105.272727</td>\n",
       "      <td>340.909091</td>\n",
       "      <td>17.000000</td>\n",
       "      <td>34.800000</td>\n",
       "      <td>809.545455</td>\n",
       "      <td>13.000000</td>\n",
       "      <td>46.690909</td>\n",
       "      <td>2.600000</td>\n",
       "      <td>129.736364</td>\n",
       "      <td>12.863636</td>\n",
       "    </tr>\n",
       "    <tr>\n",
       "      <th>...</th>\n",
       "      <th>...</th>\n",
       "      <td>...</td>\n",
       "      <td>...</td>\n",
       "      <td>...</td>\n",
       "      <td>...</td>\n",
       "      <td>...</td>\n",
       "      <td>...</td>\n",
       "      <td>...</td>\n",
       "      <td>...</td>\n",
       "      <td>...</td>\n",
       "      <td>...</td>\n",
       "      <td>...</td>\n",
       "    </tr>\n",
       "    <tr>\n",
       "      <th>7</th>\n",
       "      <th>Pass</th>\n",
       "      <td>10.862500</td>\n",
       "      <td>13.875000</td>\n",
       "      <td>1.250000</td>\n",
       "      <td>0.500000</td>\n",
       "      <td>35.762500</td>\n",
       "      <td>824.875000</td>\n",
       "      <td>24.750000</td>\n",
       "      <td>45.562500</td>\n",
       "      <td>78.850000</td>\n",
       "      <td>5.325000</td>\n",
       "      <td>1.300000</td>\n",
       "    </tr>\n",
       "    <tr>\n",
       "      <th rowspan=\"2\" valign=\"top\">8</th>\n",
       "      <th>Etch</th>\n",
       "      <td>15.436364</td>\n",
       "      <td>104.454545</td>\n",
       "      <td>344.545455</td>\n",
       "      <td>15.500000</td>\n",
       "      <td>34.972727</td>\n",
       "      <td>805.000000</td>\n",
       "      <td>9.363636</td>\n",
       "      <td>46.390909</td>\n",
       "      <td>5.381818</td>\n",
       "      <td>118.200000</td>\n",
       "      <td>11.372727</td>\n",
       "    </tr>\n",
       "    <tr>\n",
       "      <th>Pass</th>\n",
       "      <td>10.000000</td>\n",
       "      <td>14.062500</td>\n",
       "      <td>46.875000</td>\n",
       "      <td>0.500000</td>\n",
       "      <td>35.825000</td>\n",
       "      <td>822.625000</td>\n",
       "      <td>28.250000</td>\n",
       "      <td>45.437500</td>\n",
       "      <td>77.650000</td>\n",
       "      <td>16.312500</td>\n",
       "      <td>1.800000</td>\n",
       "    </tr>\n",
       "    <tr>\n",
       "      <th rowspan=\"2\" valign=\"top\">9</th>\n",
       "      <th>Etch</th>\n",
       "      <td>16.800000</td>\n",
       "      <td>114.450000</td>\n",
       "      <td>377.500000</td>\n",
       "      <td>17.000000</td>\n",
       "      <td>34.660000</td>\n",
       "      <td>804.000000</td>\n",
       "      <td>9.200000</td>\n",
       "      <td>46.860000</td>\n",
       "      <td>1.620000</td>\n",
       "      <td>129.810000</td>\n",
       "      <td>13.060000</td>\n",
       "    </tr>\n",
       "    <tr>\n",
       "      <th>Pass</th>\n",
       "      <td>10.977778</td>\n",
       "      <td>13.166667</td>\n",
       "      <td>41.666667</td>\n",
       "      <td>0.500000</td>\n",
       "      <td>35.744444</td>\n",
       "      <td>821.333333</td>\n",
       "      <td>24.666667</td>\n",
       "      <td>45.633333</td>\n",
       "      <td>73.644444</td>\n",
       "      <td>21.533333</td>\n",
       "      <td>2.555556</td>\n",
       "    </tr>\n",
       "  </tbody>\n",
       "</table>\n",
       "<p>100 rows × 11 columns</p>\n",
       "</div>"
      ],
      "text/plain": [
       "                           mean                                                \\\n",
       "                       Pressure     RF Bias     RF Peak  RF1 Power   RF2 Load   \n",
       "ASE Cycles ASE Phase                                                            \n",
       "1          Etch       16.370000  113.400000  378.000000  17.000000  34.830000   \n",
       "           Pass        9.687500    0.750000    0.000000   0.500000  35.412500   \n",
       "10         Etch       17.263636  114.272727  378.181818  15.581818  34.636364   \n",
       "           Pass       10.187500    0.187500    0.000000   0.500000  35.962500   \n",
       "11         Etch       16.736364  105.272727  340.909091  17.000000  34.800000   \n",
       "...                         ...         ...         ...        ...        ...   \n",
       "7          Pass       10.862500   13.875000    1.250000   0.500000  35.762500   \n",
       "8          Etch       15.436364  104.454545  344.545455  15.500000  34.972727   \n",
       "           Pass       10.000000   14.062500   46.875000   0.500000  35.825000   \n",
       "9          Etch       16.800000  114.450000  377.500000  17.000000  34.660000   \n",
       "           Pass       10.977778   13.166667   41.666667   0.500000  35.744444   \n",
       "\n",
       "                                                                      \\\n",
       "                       RF2 Power RF2 Reflected   RF2 Tune   [1] C4F8   \n",
       "ASE Cycles ASE Phase                                                   \n",
       "1          Etch       807.800000     10.300000  46.770000   2.360000   \n",
       "           Pass       831.250000     29.750000  45.987500  79.275000   \n",
       "10         Etch       807.818182      9.000000  46.936364   2.018182   \n",
       "           Pass       831.250000     28.875000  45.025000  90.225000   \n",
       "11         Etch       809.545455     13.000000  46.690909   2.600000   \n",
       "...                          ...           ...        ...        ...   \n",
       "7          Pass       824.875000     24.750000  45.562500  78.850000   \n",
       "8          Etch       805.000000      9.363636  46.390909   5.381818   \n",
       "           Pass       822.625000     28.250000  45.437500  77.650000   \n",
       "9          Etch       804.000000      9.200000  46.860000   1.620000   \n",
       "           Pass       821.333333     24.666667  45.633333  73.644444   \n",
       "\n",
       "                                             \n",
       "                         [2] SF6     [3] O2  \n",
       "ASE Cycles ASE Phase                         \n",
       "1          Etch       129.810000  12.990000  \n",
       "           Pass         4.912500   1.187500  \n",
       "10         Etch       129.872727  13.018182  \n",
       "           Pass         3.412500   1.187500  \n",
       "11         Etch       129.736364  12.863636  \n",
       "...                          ...        ...  \n",
       "7          Pass         5.325000   1.300000  \n",
       "8          Etch       118.200000  11.372727  \n",
       "           Pass        16.312500   1.800000  \n",
       "9          Etch       129.810000  13.060000  \n",
       "           Pass        21.533333   2.555556  \n",
       "\n",
       "[100 rows x 11 columns]"
      ]
     },
     "execution_count": 36,
     "metadata": {},
     "output_type": "execute_result"
    }
   ],
   "source": [
    "pd.pivot_table(\n",
    "    fdc_process,\n",
    "    values=value_col,\n",
    "    index=['ASE Cycles', 'ASE Phase'],\n",
    "    aggfunc=[np.mean]\n",
    ")"
   ]
  },
  {
   "cell_type": "code",
   "execution_count": 478,
   "id": "1959a8a0-6e32-4ed0-9b19-c62d3107aa60",
   "metadata": {
    "tags": []
   },
   "outputs": [],
   "source": [
    "pivot_tbl = pd.pivot_table(\n",
    "    fdc_process,\n",
    "    values=value_col,\n",
    "    index=['ASE Cycles', 'ASE Phase'],\n",
    "    aggfunc=[np.median, np.std],  # <- 통계량 선택\n",
    ")\n",
    "pivot_tbl.columns = pivot_tbl.columns.swaplevel(0, 1)\n",
    "pivot_tbl.columns = pivot_tbl.columns.map('_'.join)"
   ]
  },
  {
   "cell_type": "code",
   "execution_count": 473,
   "id": "d832343b-d57b-42f1-9371-9b5d30ec92c7",
   "metadata": {},
   "outputs": [],
   "source": [
    "pivot_tbl = pivot_tbl.reset_index()\n",
    "pivot_tbl['ASE Cycles'] = pivot_tbl['ASE Cycles'].astype(int)\n",
    "pivot_tbl = pivot_tbl.sort_values('ASE Cycles')\n",
    "pivot_tbl['ASE Cycles'] = pivot_tbl['ASE Cycles'].astype(str)\n",
    "pivot_tbl.index = pivot_tbl['ASE Phase'] + '_' + pivot_tbl['ASE Cycles']\n",
    "pivot_tbl = pivot_tbl.drop(['ASE Cycles', 'ASE Phase'], axis=1)"
   ]
  },
  {
   "cell_type": "code",
   "execution_count": 474,
   "id": "503162a0-a16c-4d22-ad95-7e140ce4dddd",
   "metadata": {},
   "outputs": [
    {
     "data": {
      "text/html": [
       "<div>\n",
       "<style scoped>\n",
       "    .dataframe tbody tr th:only-of-type {\n",
       "        vertical-align: middle;\n",
       "    }\n",
       "\n",
       "    .dataframe tbody tr th {\n",
       "        vertical-align: top;\n",
       "    }\n",
       "\n",
       "    .dataframe thead th {\n",
       "        text-align: right;\n",
       "    }\n",
       "</style>\n",
       "<table border=\"1\" class=\"dataframe\">\n",
       "  <thead>\n",
       "    <tr style=\"text-align: right;\">\n",
       "      <th></th>\n",
       "      <th>APC Angle_mean</th>\n",
       "      <th>He Flow_mean</th>\n",
       "      <th>He Leakup Rate_mean</th>\n",
       "      <th>He Pressure_mean</th>\n",
       "      <th>Pressure_mean</th>\n",
       "      <th>RF Bias_mean</th>\n",
       "      <th>RF Peak_mean</th>\n",
       "      <th>RF1 Load_mean</th>\n",
       "      <th>RF1 Power_mean</th>\n",
       "      <th>RF1 Reflected_mean</th>\n",
       "      <th>...</th>\n",
       "      <th>RF1 Power_std</th>\n",
       "      <th>RF1 Reflected_std</th>\n",
       "      <th>RF1 Tune_std</th>\n",
       "      <th>RF2 Load_std</th>\n",
       "      <th>RF2 Power_std</th>\n",
       "      <th>RF2 Reflected_std</th>\n",
       "      <th>RF2 Tune_std</th>\n",
       "      <th>[1] C4F8_std</th>\n",
       "      <th>[2] SF6_std</th>\n",
       "      <th>[3] O2_std</th>\n",
       "    </tr>\n",
       "  </thead>\n",
       "  <tbody>\n",
       "    <tr>\n",
       "      <th>Etch_1</th>\n",
       "      <td>68.4</td>\n",
       "      <td>27.000000</td>\n",
       "      <td>6.6</td>\n",
       "      <td>10.0</td>\n",
       "      <td>16.370000</td>\n",
       "      <td>113.400000</td>\n",
       "      <td>378.000000</td>\n",
       "      <td>45.690000</td>\n",
       "      <td>17.0</td>\n",
       "      <td>0.220000</td>\n",
       "      <td>...</td>\n",
       "      <td>0.0</td>\n",
       "      <td>0.147573</td>\n",
       "      <td>0.084327</td>\n",
       "      <td>0.878193</td>\n",
       "      <td>11.612254</td>\n",
       "      <td>5.034327</td>\n",
       "      <td>1.628940</td>\n",
       "      <td>4.254984</td>\n",
       "      <td>0.284605</td>\n",
       "      <td>0.185293</td>\n",
       "    </tr>\n",
       "    <tr>\n",
       "      <th>Pass_1</th>\n",
       "      <td>68.4</td>\n",
       "      <td>27.037500</td>\n",
       "      <td>6.6</td>\n",
       "      <td>10.0</td>\n",
       "      <td>9.687500</td>\n",
       "      <td>0.750000</td>\n",
       "      <td>0.000000</td>\n",
       "      <td>45.587500</td>\n",
       "      <td>0.5</td>\n",
       "      <td>0.100000</td>\n",
       "      <td>...</td>\n",
       "      <td>0.0</td>\n",
       "      <td>0.000000</td>\n",
       "      <td>0.051755</td>\n",
       "      <td>1.940131</td>\n",
       "      <td>21.985385</td>\n",
       "      <td>13.583078</td>\n",
       "      <td>2.447411</td>\n",
       "      <td>30.982564</td>\n",
       "      <td>9.914843</td>\n",
       "      <td>1.495171</td>\n",
       "    </tr>\n",
       "    <tr>\n",
       "      <th>Pass_2</th>\n",
       "      <td>68.4</td>\n",
       "      <td>27.042857</td>\n",
       "      <td>6.6</td>\n",
       "      <td>10.0</td>\n",
       "      <td>7.800000</td>\n",
       "      <td>1.071429</td>\n",
       "      <td>0.714286</td>\n",
       "      <td>45.585714</td>\n",
       "      <td>0.5</td>\n",
       "      <td>0.100000</td>\n",
       "      <td>...</td>\n",
       "      <td>0.0</td>\n",
       "      <td>0.000000</td>\n",
       "      <td>0.037796</td>\n",
       "      <td>3.396076</td>\n",
       "      <td>322.917651</td>\n",
       "      <td>76.685505</td>\n",
       "      <td>5.559805</td>\n",
       "      <td>0.000000</td>\n",
       "      <td>0.990671</td>\n",
       "      <td>0.448808</td>\n",
       "    </tr>\n",
       "    <tr>\n",
       "      <th>Etch_2</th>\n",
       "      <td>68.4</td>\n",
       "      <td>27.036364</td>\n",
       "      <td>6.6</td>\n",
       "      <td>10.0</td>\n",
       "      <td>14.654545</td>\n",
       "      <td>107.590909</td>\n",
       "      <td>360.454545</td>\n",
       "      <td>45.454545</td>\n",
       "      <td>17.0</td>\n",
       "      <td>0.190909</td>\n",
       "      <td>...</td>\n",
       "      <td>0.0</td>\n",
       "      <td>0.122103</td>\n",
       "      <td>0.144600</td>\n",
       "      <td>2.297944</td>\n",
       "      <td>221.466969</td>\n",
       "      <td>73.640774</td>\n",
       "      <td>2.956103</td>\n",
       "      <td>6.387146</td>\n",
       "      <td>0.431909</td>\n",
       "      <td>0.552021</td>\n",
       "    </tr>\n",
       "    <tr>\n",
       "      <th>Pass_3</th>\n",
       "      <td>68.4</td>\n",
       "      <td>27.025000</td>\n",
       "      <td>6.6</td>\n",
       "      <td>10.0</td>\n",
       "      <td>10.025000</td>\n",
       "      <td>0.562500</td>\n",
       "      <td>48.125000</td>\n",
       "      <td>45.612500</td>\n",
       "      <td>0.5</td>\n",
       "      <td>0.100000</td>\n",
       "      <td>...</td>\n",
       "      <td>0.0</td>\n",
       "      <td>0.000000</td>\n",
       "      <td>0.051755</td>\n",
       "      <td>0.938083</td>\n",
       "      <td>20.635874</td>\n",
       "      <td>13.480144</td>\n",
       "      <td>1.746629</td>\n",
       "      <td>0.213809</td>\n",
       "      <td>33.081498</td>\n",
       "      <td>2.535146</td>\n",
       "    </tr>\n",
       "    <tr>\n",
       "      <th>...</th>\n",
       "      <td>...</td>\n",
       "      <td>...</td>\n",
       "      <td>...</td>\n",
       "      <td>...</td>\n",
       "      <td>...</td>\n",
       "      <td>...</td>\n",
       "      <td>...</td>\n",
       "      <td>...</td>\n",
       "      <td>...</td>\n",
       "      <td>...</td>\n",
       "      <td>...</td>\n",
       "      <td>...</td>\n",
       "      <td>...</td>\n",
       "      <td>...</td>\n",
       "      <td>...</td>\n",
       "      <td>...</td>\n",
       "      <td>...</td>\n",
       "      <td>...</td>\n",
       "      <td>...</td>\n",
       "      <td>...</td>\n",
       "      <td>...</td>\n",
       "    </tr>\n",
       "    <tr>\n",
       "      <th>Etch_48</th>\n",
       "      <td>68.4</td>\n",
       "      <td>27.036364</td>\n",
       "      <td>6.6</td>\n",
       "      <td>10.0</td>\n",
       "      <td>16.981818</td>\n",
       "      <td>122.045455</td>\n",
       "      <td>374.545455</td>\n",
       "      <td>45.290909</td>\n",
       "      <td>17.0</td>\n",
       "      <td>0.209091</td>\n",
       "      <td>...</td>\n",
       "      <td>0.0</td>\n",
       "      <td>0.053936</td>\n",
       "      <td>0.082020</td>\n",
       "      <td>0.783349</td>\n",
       "      <td>3.690282</td>\n",
       "      <td>16.250874</td>\n",
       "      <td>2.187859</td>\n",
       "      <td>7.210195</td>\n",
       "      <td>29.249755</td>\n",
       "      <td>0.753778</td>\n",
       "    </tr>\n",
       "    <tr>\n",
       "      <th>Pass_49</th>\n",
       "      <td>68.4</td>\n",
       "      <td>27.062500</td>\n",
       "      <td>6.6</td>\n",
       "      <td>10.0</td>\n",
       "      <td>9.250000</td>\n",
       "      <td>0.750000</td>\n",
       "      <td>3.750000</td>\n",
       "      <td>45.200000</td>\n",
       "      <td>0.5</td>\n",
       "      <td>0.100000</td>\n",
       "      <td>...</td>\n",
       "      <td>0.0</td>\n",
       "      <td>0.000000</td>\n",
       "      <td>0.000000</td>\n",
       "      <td>1.961732</td>\n",
       "      <td>15.988835</td>\n",
       "      <td>13.783401</td>\n",
       "      <td>1.796027</td>\n",
       "      <td>4.880208</td>\n",
       "      <td>1.737763</td>\n",
       "      <td>0.634147</td>\n",
       "    </tr>\n",
       "    <tr>\n",
       "      <th>Etch_49</th>\n",
       "      <td>68.4</td>\n",
       "      <td>27.036364</td>\n",
       "      <td>6.6</td>\n",
       "      <td>10.0</td>\n",
       "      <td>16.309091</td>\n",
       "      <td>123.954545</td>\n",
       "      <td>370.909091</td>\n",
       "      <td>45.290909</td>\n",
       "      <td>17.0</td>\n",
       "      <td>0.209091</td>\n",
       "      <td>...</td>\n",
       "      <td>0.0</td>\n",
       "      <td>0.030151</td>\n",
       "      <td>0.092442</td>\n",
       "      <td>0.806000</td>\n",
       "      <td>3.294624</td>\n",
       "      <td>3.552208</td>\n",
       "      <td>2.199215</td>\n",
       "      <td>13.094815</td>\n",
       "      <td>3.175932</td>\n",
       "      <td>1.952341</td>\n",
       "    </tr>\n",
       "    <tr>\n",
       "      <th>Pass_50</th>\n",
       "      <td>68.4</td>\n",
       "      <td>27.000000</td>\n",
       "      <td>6.6</td>\n",
       "      <td>10.0</td>\n",
       "      <td>8.487500</td>\n",
       "      <td>0.562500</td>\n",
       "      <td>1.250000</td>\n",
       "      <td>49.175000</td>\n",
       "      <td>0.5</td>\n",
       "      <td>0.100000</td>\n",
       "      <td>...</td>\n",
       "      <td>0.0</td>\n",
       "      <td>0.000000</td>\n",
       "      <td>0.075593</td>\n",
       "      <td>1.037855</td>\n",
       "      <td>327.061566</td>\n",
       "      <td>27.254095</td>\n",
       "      <td>4.616043</td>\n",
       "      <td>0.148805</td>\n",
       "      <td>0.106066</td>\n",
       "      <td>0.070711</td>\n",
       "    </tr>\n",
       "    <tr>\n",
       "      <th>Etch_50</th>\n",
       "      <td>68.4</td>\n",
       "      <td>27.036364</td>\n",
       "      <td>6.6</td>\n",
       "      <td>10.0</td>\n",
       "      <td>15.963636</td>\n",
       "      <td>111.681818</td>\n",
       "      <td>340.000000</td>\n",
       "      <td>45.545455</td>\n",
       "      <td>17.0</td>\n",
       "      <td>0.890909</td>\n",
       "      <td>...</td>\n",
       "      <td>0.0</td>\n",
       "      <td>1.735197</td>\n",
       "      <td>1.107577</td>\n",
       "      <td>2.829134</td>\n",
       "      <td>42.291843</td>\n",
       "      <td>29.894055</td>\n",
       "      <td>1.650620</td>\n",
       "      <td>21.771174</td>\n",
       "      <td>17.387111</td>\n",
       "      <td>2.465397</td>\n",
       "    </tr>\n",
       "  </tbody>\n",
       "</table>\n",
       "<p>100 rows × 54 columns</p>\n",
       "</div>"
      ],
      "text/plain": [
       "         APC Angle_mean  He Flow_mean  He Leakup Rate_mean  He Pressure_mean  \\\n",
       "Etch_1             68.4     27.000000                  6.6              10.0   \n",
       "Pass_1             68.4     27.037500                  6.6              10.0   \n",
       "Pass_2             68.4     27.042857                  6.6              10.0   \n",
       "Etch_2             68.4     27.036364                  6.6              10.0   \n",
       "Pass_3             68.4     27.025000                  6.6              10.0   \n",
       "...                 ...           ...                  ...               ...   \n",
       "Etch_48            68.4     27.036364                  6.6              10.0   \n",
       "Pass_49            68.4     27.062500                  6.6              10.0   \n",
       "Etch_49            68.4     27.036364                  6.6              10.0   \n",
       "Pass_50            68.4     27.000000                  6.6              10.0   \n",
       "Etch_50            68.4     27.036364                  6.6              10.0   \n",
       "\n",
       "         Pressure_mean  RF Bias_mean  RF Peak_mean  RF1 Load_mean  \\\n",
       "Etch_1       16.370000    113.400000    378.000000      45.690000   \n",
       "Pass_1        9.687500      0.750000      0.000000      45.587500   \n",
       "Pass_2        7.800000      1.071429      0.714286      45.585714   \n",
       "Etch_2       14.654545    107.590909    360.454545      45.454545   \n",
       "Pass_3       10.025000      0.562500     48.125000      45.612500   \n",
       "...                ...           ...           ...            ...   \n",
       "Etch_48      16.981818    122.045455    374.545455      45.290909   \n",
       "Pass_49       9.250000      0.750000      3.750000      45.200000   \n",
       "Etch_49      16.309091    123.954545    370.909091      45.290909   \n",
       "Pass_50       8.487500      0.562500      1.250000      49.175000   \n",
       "Etch_50      15.963636    111.681818    340.000000      45.545455   \n",
       "\n",
       "         RF1 Power_mean  RF1 Reflected_mean  ...  RF1 Power_std  \\\n",
       "Etch_1             17.0            0.220000  ...            0.0   \n",
       "Pass_1              0.5            0.100000  ...            0.0   \n",
       "Pass_2              0.5            0.100000  ...            0.0   \n",
       "Etch_2             17.0            0.190909  ...            0.0   \n",
       "Pass_3              0.5            0.100000  ...            0.0   \n",
       "...                 ...                 ...  ...            ...   \n",
       "Etch_48            17.0            0.209091  ...            0.0   \n",
       "Pass_49             0.5            0.100000  ...            0.0   \n",
       "Etch_49            17.0            0.209091  ...            0.0   \n",
       "Pass_50             0.5            0.100000  ...            0.0   \n",
       "Etch_50            17.0            0.890909  ...            0.0   \n",
       "\n",
       "         RF1 Reflected_std  RF1 Tune_std  RF2 Load_std  RF2 Power_std  \\\n",
       "Etch_1            0.147573      0.084327      0.878193      11.612254   \n",
       "Pass_1            0.000000      0.051755      1.940131      21.985385   \n",
       "Pass_2            0.000000      0.037796      3.396076     322.917651   \n",
       "Etch_2            0.122103      0.144600      2.297944     221.466969   \n",
       "Pass_3            0.000000      0.051755      0.938083      20.635874   \n",
       "...                    ...           ...           ...            ...   \n",
       "Etch_48           0.053936      0.082020      0.783349       3.690282   \n",
       "Pass_49           0.000000      0.000000      1.961732      15.988835   \n",
       "Etch_49           0.030151      0.092442      0.806000       3.294624   \n",
       "Pass_50           0.000000      0.075593      1.037855     327.061566   \n",
       "Etch_50           1.735197      1.107577      2.829134      42.291843   \n",
       "\n",
       "         RF2 Reflected_std  RF2 Tune_std  [1] C4F8_std  [2] SF6_std  \\\n",
       "Etch_1            5.034327      1.628940      4.254984     0.284605   \n",
       "Pass_1           13.583078      2.447411     30.982564     9.914843   \n",
       "Pass_2           76.685505      5.559805      0.000000     0.990671   \n",
       "Etch_2           73.640774      2.956103      6.387146     0.431909   \n",
       "Pass_3           13.480144      1.746629      0.213809    33.081498   \n",
       "...                    ...           ...           ...          ...   \n",
       "Etch_48          16.250874      2.187859      7.210195    29.249755   \n",
       "Pass_49          13.783401      1.796027      4.880208     1.737763   \n",
       "Etch_49           3.552208      2.199215     13.094815     3.175932   \n",
       "Pass_50          27.254095      4.616043      0.148805     0.106066   \n",
       "Etch_50          29.894055      1.650620     21.771174    17.387111   \n",
       "\n",
       "         [3] O2_std  \n",
       "Etch_1     0.185293  \n",
       "Pass_1     1.495171  \n",
       "Pass_2     0.448808  \n",
       "Etch_2     0.552021  \n",
       "Pass_3     2.535146  \n",
       "...             ...  \n",
       "Etch_48    0.753778  \n",
       "Pass_49    0.634147  \n",
       "Etch_49    1.952341  \n",
       "Pass_50    0.070711  \n",
       "Etch_50    2.465397  \n",
       "\n",
       "[100 rows x 54 columns]"
      ]
     },
     "execution_count": 489,
     "metadata": {},
     "output_type": "execute_result"
    }
   ],
   "source": [
    "pivot_tbl"
   ]
  },
  {
   "cell_type": "code",
   "execution_count": 490,
   "id": "b32c29ac-d7df-4c26-8b4a-3f82f96ce889",
   "metadata": {},
   "outputs": [
    {
     "data": {
      "text/plain": [
       "APC Angle_mean_Etch_1    68.400000\n",
       "APC Angle_mean_Pass_1    68.400000\n",
       "APC Angle_mean_Pass_2    68.400000\n",
       "APC Angle_mean_Etch_2    68.400000\n",
       "APC Angle_mean_Pass_3    68.400000\n",
       "                           ...    \n",
       "[3] O2_std_Etch_48        0.753778\n",
       "[3] O2_std_Pass_49        0.634147\n",
       "[3] O2_std_Etch_49        1.952341\n",
       "[3] O2_std_Pass_50        0.070711\n",
       "[3] O2_std_Etch_50        2.465397\n",
       "Name: FDC_25um_Fault_C4F8_90to85_SCCM.pkl, Length: 5400, dtype: float64"
      ]
     },
     "execution_count": 490,
     "metadata": {},
     "output_type": "execute_result"
    }
   ],
   "source": [
    "flatten_values = pivot_tbl.T.to_numpy().flatten()\n",
    "new_col = []\n",
    "for col in pivot_tbl.columns:\n",
    "    for group in pivot_tbl.index:\n",
    "        new_col.append(f'{col}_{group}')\n",
    "pd.Series(flatten_values, index=new_col, name=file_list[0])"
   ]
  },
  {
   "cell_type": "markdown",
   "id": "4792044c-c8d6-463c-a79d-41f2f393a05a",
   "metadata": {},
   "source": [
    "## Apply to all data"
   ]
  },
  {
   "cell_type": "code",
   "execution_count": 128,
   "id": "47fbe102-3599-4ff0-a23c-a447db73b883",
   "metadata": {},
   "outputs": [
    {
     "name": "stdout",
     "output_type": "stream",
     "text": [
      "[1/19] >>> Processing \".ipynb_checkpoints\" ...\n",
      "Skipping file \".ipynb_checkpoints\". Not a pickle file.\n",
      "[2/19] >>> Processing \"1d_fdc_data\" ...\n",
      "Skipping file \"1d_fdc_data\". Not a pickle file.\n",
      "[3/19] >>> Processing \"FDC_25um_Fault_C4F8_90to85_SCCM.pkl\" ...\n",
      "[4/19] >>> Processing \"FDC_25um_Fault_O2_13to11_SCCM.pkl\" ...\n",
      "[5/19] >>> Processing \"FDC_25um_Fault_PlatenPower_17to15_Watt.pkl\" ...\n",
      "[6/19] >>> Processing \"FDC_25um_Fault_SF6_130to122_SCCM.pkl\" ...\n",
      "[7/19] >>> Processing \"FDC_25um_Fault_SourcePower_800to760_Watt.pkl\" ...\n",
      "[8/19] >>> Processing \"FDC_TSV25_ (14).pkl\" ...\n",
      "[9/19] >>> Processing \"FDC_TSV25_ (15).pkl\" ...\n",
      "[10/19] >>> Processing \"FDC_TSV25_ (16).pkl\" ...\n",
      "[11/19] >>> Processing \"FDC_TSV25_ (17).pkl\" ...\n",
      "[12/19] >>> Processing \"FDC_TSV25_ (18).pkl\" ...\n",
      "[13/19] >>> Processing \"FDC_TSV25_ (19).pkl\" ...\n",
      "[14/19] >>> Processing \"FDC_TSV25_ (20).pkl\" ...\n",
      "[15/19] >>> Processing \"FDC_TSV25_ (21).pkl\" ...\n",
      "[16/19] >>> Processing \"FDC_TSV25_ (22).pkl\" ...\n",
      "[17/19] >>> Processing \"FDC_TSV25_ (23).pkl\" ...\n",
      "[18/19] >>> Processing \"FDC_TSV25_ (24).pkl\" ...\n",
      "[19/19] >>> Processing \"FDC_TSV25_ (25).pkl\" ...\n",
      "[1/19] >>> Processing \".ipynb_checkpoints\" ...\n",
      "Skipping file \".ipynb_checkpoints\". Not a pickle file.\n",
      "[2/19] >>> Processing \"1d_fdc_data\" ...\n",
      "Skipping file \"1d_fdc_data\". Not a pickle file.\n",
      "[3/19] >>> Processing \"FDC_80um_Fault_C4F8_90to85_SCCM.pkl\" ...\n",
      "[4/19] >>> Processing \"FDC_80um_Fault_O2_13to11_SCCM.pkl\" ...\n",
      "[5/19] >>> Processing \"FDC_80um_Fault_PlatenPower_17to15_Watt.pkl\" ...\n",
      "[6/19] >>> Processing \"FDC_80um_Fault_SF6_130to122_SCCM.pkl\" ...\n",
      "[7/19] >>> Processing \"FDC_80um_Fault_SourcePower_800to760_Watt.pkl\" ...\n",
      "[8/19] >>> Processing \"FDC_TSV80_ (14).pkl\" ...\n",
      "[9/19] >>> Processing \"FDC_TSV80_ (15).pkl\" ...\n",
      "[10/19] >>> Processing \"FDC_TSV80_ (16).pkl\" ...\n",
      "[11/19] >>> Processing \"FDC_TSV80_ (17).pkl\" ...\n",
      "[12/19] >>> Processing \"FDC_TSV80_ (18).pkl\" ...\n",
      "[13/19] >>> Processing \"FDC_TSV80_ (19).pkl\" ...\n",
      "[14/19] >>> Processing \"FDC_TSV80_ (20).pkl\" ...\n",
      "[15/19] >>> Processing \"FDC_TSV80_ (21).pkl\" ...\n",
      "[16/19] >>> Processing \"FDC_TSV80_ (22).pkl\" ...\n",
      "[17/19] >>> Processing \"FDC_TSV80_ (23).pkl\" ...\n",
      "[18/19] >>> Processing \"FDC_TSV80_ (24).pkl\" ...\n",
      "[19/19] >>> Processing \"FDC_TSV80_ (25).pkl\" ...\n",
      "CPU times: total: 812 ms\n",
      "Wall time: 812 ms\n"
     ]
    }
   ],
   "source": [
    "%%time\n",
    "for micro_dir in ['25', '80']:\n",
    "    dir_ = f'dataset//{micro_dir}um/FDC Data/pickle'\n",
    "    file_list = os.listdir(dir_)\n",
    "    wafer = {}\n",
    "    for i, filename in enumerate(file_list):\n",
    "        try:\n",
    "            print(f'[{i+1}/{len(file_list)}] >>> Processing \"{filename}\" ...')\n",
    "            file = filename.split('.')\n",
    "            if (file[0] == '') or (len(file) == 1):\n",
    "                print(f'Skipping file \"{filename}\". Not a pickle file.')\n",
    "                continue\n",
    "\n",
    "            fdc = pd.read_pickle(f'{dir_}/{filename}')\n",
    "            fdc = fdc.reset_index(drop=True)\n",
    "            fdc_process = fdc[fdc['Process Phase'] == 'Process']\n",
    "            fdc_process = fdc_process.where(fdc_process != '')\n",
    "            fdc_process.dropna(inplace=True)\n",
    "            for col in fdc_process:\n",
    "                if (col == 'Time') or (col == 'ASE Cycles') or (col == 'ASE Downcount'):\n",
    "                    fdc_process.loc[:, col] = (fdc_process[col]\n",
    "                                               .astype(int)\n",
    "                                               .astype(str))\n",
    "                else:\n",
    "                    try:\n",
    "                        fdc_process.loc[:, col] = fdc_process[col].astype(float)\n",
    "                    except (AttributeError, ValueError):\n",
    "                        fdc_process.loc[:, col] = fdc_process[col].astype(str)\n",
    "\n",
    "            fdc_process_std = fdc_process.std()\n",
    "            value_col = fdc_process_std[\n",
    "                fdc_process_std.sort_values(ascending=False) > 0.5\n",
    "            ].index\n",
    "            \n",
    "            pivot_tbl = pd.pivot_table(\n",
    "                fdc_process,\n",
    "                values=value_col,\n",
    "                index=['ASE Cycles', 'ASE Phase'],\n",
    "                aggfunc=[np.median, np.std],  # <-- 통계량 선택\n",
    "            )\n",
    "            pivot_tbl.columns = pivot_tbl.columns.swaplevel(0, 1)\n",
    "            pivot_tbl.columns = pivot_tbl.columns.map('_'.join)\n",
    "            \n",
    "            pivot_tbl = pivot_tbl.reset_index()\n",
    "            pivot_tbl['ASE Cycles'] = pivot_tbl['ASE Cycles'].astype(int)\n",
    "            pivot_tbl = pivot_tbl.sort_values('ASE Cycles')\n",
    "            pivot_tbl['ASE Cycles'] = pivot_tbl['ASE Cycles'].astype(str)\n",
    "            pivot_tbl.index = pivot_tbl['ASE Phase'] + '_' + pivot_tbl['ASE Cycles']\n",
    "            pivot_tbl = pivot_tbl.drop(['ASE Cycles', 'ASE Phase'], axis=1)\n",
    "\n",
    "            flatten_values = pivot_tbl.T.to_numpy().flatten()\n",
    "            new_col = []\n",
    "            for col in pivot_tbl.columns:\n",
    "                for group in pivot_tbl.index:\n",
    "                    new_col.append(f'{col}_{group}')\n",
    "            wafer[file[0]] = pd.Series(flatten_values, index=new_col, name=file[0])\n",
    "            \n",
    "        except Exception as e:\n",
    "            raise\n",
    "    merged = (pd.concat(wafer.values(), axis=1)\n",
    "              .T\n",
    "              .dropna(axis=1)\n",
    "              .reset_index()\n",
    "              .rename({'index': 'wafer'}, axis=1))\n",
    "    merged.to_pickle(f'{dir_}//1d_fdc_data/final_fdc_data.pkl')"
   ]
  },
  {
   "cell_type": "markdown",
   "id": "04a76684-6a01-432a-9000-7d8a0d8829b3",
   "metadata": {},
   "source": [
    "# vi. Merge OES, and FDC DATA"
   ]
  },
  {
   "cell_type": "markdown",
   "id": "17263961-a816-419c-b030-22d45e98f6d5",
   "metadata": {},
   "source": [
    "## Imports"
   ]
  },
  {
   "cell_type": "code",
   "execution_count": 183,
   "id": "7b9ab6ce-20b9-4bc0-86d2-0cb0c84065c8",
   "metadata": {},
   "outputs": [],
   "source": [
    "from tqdm.notebook import tqdm\n",
    "import os\n",
    "import re\n",
    "import pandas as pd\n",
    "import numpy as np\n",
    "import warnings\n",
    "%matplotlib inline\n",
    "\n",
    "warnings.filterwarnings(action='ignore')"
   ]
  },
  {
   "cell_type": "markdown",
   "id": "0c494f09-de77-4de6-b20e-93b84dad9069",
   "metadata": {},
   "source": [
    "## Load Dataset"
   ]
  },
  {
   "cell_type": "code",
   "execution_count": 186,
   "id": "fe1325e8-5faa-4c50-898a-c9aa6c11d851",
   "metadata": {
    "tags": []
   },
   "outputs": [],
   "source": [
    "# micro_dir = '25'\n",
    "micro_dir = '80'\n",
    "fdc = pd.read_pickle(f'dataset//{micro_dir}um/FDC Data/pickle//1d_fdc_data/final_fdc_data.pkl')\n",
    "fdc = fdc.set_index('wafer')\n",
    "oes = pd.read_pickle(f'dataset//{micro_dir}um/OES Data/pickle//1d_oes_data/final_oes_data.pkl')\n",
    "oes = oes.set_index('wafer')\n",
    "fault_process_wafer = [re.sub(r'FDC_', '', i) for i in fdc.index[:5]]\n",
    "normal_process_wafer = [f'{micro_dir}um_wafer_{i}' for i in range(14, 26)]\n",
    "\n",
    "new_index = fault_process_wafer + normal_process_wafer\n",
    "fdc.index = new_index\n",
    "oes.index = new_index"
   ]
  },
  {
   "cell_type": "markdown",
   "id": "d37f4535-ea52-44e5-8af8-71853a05b8c6",
   "metadata": {},
   "source": [
    "## Merge"
   ]
  },
  {
   "cell_type": "code",
   "execution_count": 187,
   "id": "dd256bf0-9db6-4461-a54d-90357f28dd9f",
   "metadata": {
    "tags": []
   },
   "outputs": [],
   "source": [
    "X = pd.concat([\n",
    "    fdc,\n",
    "    oes,\n",
    "], axis=1)\n",
    "\n",
    "X.to_pickle(f'dataset//{micro_dir}um/X.pkl')"
   ]
  }
 ],
 "metadata": {
  "kernelspec": {
   "display_name": "class",
   "language": "python",
   "name": "class"
  },
  "language_info": {
   "codemirror_mode": {
    "name": "ipython",
    "version": 3
   },
   "file_extension": ".py",
   "mimetype": "text/x-python",
   "name": "python",
   "nbconvert_exporter": "python",
   "pygments_lexer": "ipython3",
   "version": "3.9.13"
  }
 },
 "nbformat": 4,
 "nbformat_minor": 5
}
