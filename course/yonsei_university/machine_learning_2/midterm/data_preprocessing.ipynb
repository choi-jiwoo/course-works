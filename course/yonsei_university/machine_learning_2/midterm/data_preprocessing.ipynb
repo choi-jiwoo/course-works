{
 "cells": [
  {
   "cell_type": "markdown",
   "id": "99510149-e7a6-4c62-92fc-7a9e467893c0",
   "metadata": {},
   "source": [
    "# Data Preprocessing"
   ]
  },
  {
   "cell_type": "markdown",
   "id": "59114f43-268b-45ec-a0e4-35a50481fc7c",
   "metadata": {},
   "source": [
    "## Imports"
   ]
  },
  {
   "cell_type": "code",
   "execution_count": 1,
   "id": "8733d5cb-4f13-44be-8bb0-e6f8cdb6c364",
   "metadata": {
    "tags": []
   },
   "outputs": [
    {
     "data": {
      "text/html": [
       "<style type='text/css'>\n",
       ".datatable table.frame { margin-bottom: 0; }\n",
       ".datatable table.frame thead { border-bottom: none; }\n",
       ".datatable table.frame tr.coltypes td {  color: #FFFFFF;  line-height: 6px;  padding: 0 0.5em;}\n",
       ".datatable .bool    { background: #DDDD99; }\n",
       ".datatable .object  { background: #565656; }\n",
       ".datatable .int     { background: #5D9E5D; }\n",
       ".datatable .float   { background: #4040CC; }\n",
       ".datatable .str     { background: #CC4040; }\n",
       ".datatable .time    { background: #40CC40; }\n",
       ".datatable .row_index {  background: var(--jp-border-color3);  border-right: 1px solid var(--jp-border-color0);  color: var(--jp-ui-font-color3);  font-size: 9px;}\n",
       ".datatable .frame tbody td { text-align: left; }\n",
       ".datatable .frame tr.coltypes .row_index {  background: var(--jp-border-color0);}\n",
       ".datatable th:nth-child(2) { padding-left: 12px; }\n",
       ".datatable .hellipsis {  color: var(--jp-cell-editor-border-color);}\n",
       ".datatable .vellipsis {  background: var(--jp-layout-color0);  color: var(--jp-cell-editor-border-color);}\n",
       ".datatable .na {  color: var(--jp-cell-editor-border-color);  font-size: 80%;}\n",
       ".datatable .sp {  opacity: 0.25;}\n",
       ".datatable .footer { font-size: 9px; }\n",
       ".datatable .frame_dimensions {  background: var(--jp-border-color3);  border-top: 1px solid var(--jp-border-color0);  color: var(--jp-ui-font-color3);  display: inline-block;  opacity: 0.6;  padding: 1px 10px 1px 5px;}\n",
       "</style>\n"
      ],
      "text/plain": [
       "<IPython.core.display.HTML object>"
      ]
     },
     "metadata": {},
     "output_type": "display_data"
    }
   ],
   "source": [
    "import pandas as pd\n",
    "import datatable as dt\n",
    "import numpy as np"
   ]
  },
  {
   "cell_type": "code",
   "execution_count": 2,
   "id": "6b053a37-9e07-4831-896e-c52ab8c1a099",
   "metadata": {
    "tags": []
   },
   "outputs": [],
   "source": [
    "from typing import List\n",
    "import pickle"
   ]
  },
  {
   "cell_type": "code",
   "execution_count": 3,
   "id": "176ebd06-cb74-4859-a1ea-f93435c90dbe",
   "metadata": {
    "tags": []
   },
   "outputs": [],
   "source": [
    "import matplotlib.pyplot as plt\n",
    "import seaborn as sns"
   ]
  },
  {
   "cell_type": "markdown",
   "id": "70515623-c0f5-4bfe-9177-50a34e8decc6",
   "metadata": {},
   "source": [
    "## Dataset"
   ]
  },
  {
   "cell_type": "markdown",
   "id": "9e945d23-b6f7-48c5-8ff3-0fcbcfef1d1e",
   "metadata": {},
   "source": [
    "### Convert CSV to Pickle File\n",
    "\n",
    "- Reading Pickle file is faster"
   ]
  },
  {
   "cell_type": "code",
   "execution_count": 4,
   "id": "adda2d39-6562-4ff9-9626-e870a660be06",
   "metadata": {
    "tags": []
   },
   "outputs": [],
   "source": [
    "train_x_dt = dt.fread('dataset/train_x.csv')\n",
    "train_x_df = train_x_dt.to_pandas()\n",
    "train_x_df.to_pickle('dataset/train_x.pkl')"
   ]
  },
  {
   "cell_type": "code",
   "execution_count": 5,
   "id": "bc582865-61f0-4c40-b6ff-5fc6c8b83f33",
   "metadata": {
    "tags": []
   },
   "outputs": [],
   "source": [
    "test_x_dt = dt.fread('dataset/test_x.csv')\n",
    "test_x_df = test_x_dt.to_pandas()\n",
    "test_x_df.to_pickle('dataset/test_x.pkl')"
   ]
  },
  {
   "cell_type": "markdown",
   "id": "a0bd9dfa-221b-4fba-b0e9-63a93b6f0958",
   "metadata": {},
   "source": [
    "### Load Dataset"
   ]
  },
  {
   "cell_type": "code",
   "execution_count": 6,
   "id": "ce98ac9b-8090-40db-8fda-522c7c5e7cd3",
   "metadata": {
    "tags": []
   },
   "outputs": [
    {
     "name": "stdout",
     "output_type": "stream",
     "text": [
      "<class 'pandas.core.frame.DataFrame'>\n",
      "RangeIndex: 685588 entries, 0 to 685587\n",
      "Columns: 669 entries, ID to 667\n",
      "dtypes: int32(669)\n",
      "memory usage: 1.7 GB\n"
     ]
    }
   ],
   "source": [
    "train_x = pd.read_pickle('dataset/train_x.pkl')\n",
    "train_x.info()"
   ]
  },
  {
   "cell_type": "code",
   "execution_count": 7,
   "id": "4f6d5feb-c024-48e6-8011-82ca309eeff2",
   "metadata": {
    "tags": []
   },
   "outputs": [
    {
     "name": "stdout",
     "output_type": "stream",
     "text": [
      "<class 'pandas.core.frame.DataFrame'>\n",
      "RangeIndex: 171397 entries, 0 to 171396\n",
      "Columns: 669 entries, ID to 667\n",
      "dtypes: int32(669)\n",
      "memory usage: 437.4 MB\n"
     ]
    }
   ],
   "source": [
    "test_x = pd.read_pickle('dataset/test_x.pkl')\n",
    "test_x.info()"
   ]
  },
  {
   "cell_type": "code",
   "execution_count": 8,
   "id": "d645bfa0-5a95-4a5c-814c-f444c6965ea5",
   "metadata": {
    "tags": []
   },
   "outputs": [
    {
     "name": "stdout",
     "output_type": "stream",
     "text": [
      "<class 'pandas.core.frame.DataFrame'>\n",
      "RangeIndex: 404 entries, 0 to 403\n",
      "Data columns (total 2 columns):\n",
      " #   Column  Non-Null Count  Dtype  \n",
      "---  ------  --------------  -----  \n",
      " 0   ID      404 non-null    int64  \n",
      " 1   y       404 non-null    float64\n",
      "dtypes: float64(1), int64(1)\n",
      "memory usage: 6.4 KB\n"
     ]
    }
   ],
   "source": [
    "train_y = pd.read_csv('dataset/train_y.csv')\n",
    "train_y.info()"
   ]
  },
  {
   "cell_type": "code",
   "execution_count": 9,
   "id": "a209f189-06f3-4754-bbe6-4445e09fd9cb",
   "metadata": {
    "tags": []
   },
   "outputs": [],
   "source": [
    "exclude_x = [str(i) for i in np.arange(576, 579)]"
   ]
  },
  {
   "cell_type": "code",
   "execution_count": 10,
   "id": "cc373f1e-ae2f-4867-9597-927740bb9db7",
   "metadata": {
    "tags": []
   },
   "outputs": [],
   "source": [
    "train_x = train_x.drop(exclude_x, axis=1)\n",
    "test_x = test_x.drop(exclude_x, axis=1)"
   ]
  },
  {
   "cell_type": "markdown",
   "id": "4d032baf-930b-46c3-ab8c-624fc9634890",
   "metadata": {
    "tags": []
   },
   "source": [
    "## Summary Trace Data"
   ]
  },
  {
   "cell_type": "markdown",
   "id": "387daa30-fbc6-4b07-8821-3265f43e1261",
   "metadata": {
    "tags": []
   },
   "source": [
    "### summary by statistic"
   ]
  },
  {
   "cell_type": "code",
   "execution_count": 13,
   "id": "94f4be44-9cc4-42c7-9be7-b26f6e7f0c71",
   "metadata": {
    "tags": []
   },
   "outputs": [
    {
     "name": "stdout",
     "output_type": "stream",
     "text": [
      "CPU times: total: 24.8 s\n",
      "Wall time: 25 s\n"
     ]
    }
   ],
   "source": [
    "%%time\n",
    "dataset = [train_x, test_x]\n",
    "set_name = ['train', 'test']\n",
    "summary_cand = {\n",
    "    'min': min,\n",
    "    'max': max,\n",
    "    'mean': np.mean,\n",
    "    'std': np.std,\n",
    "    'p90': 90,\n",
    "    'p95': 95,\n",
    "    'p99': 99,\n",
    "}\n",
    "\n",
    "for set_, target in zip(set_name, dataset):\n",
    "    id_grp = target.groupby('ID')\n",
    "    res_container = {}\n",
    "    \n",
    "    for func_name, action in summary_cand.items():\n",
    "        if func_name.startswith('p'):\n",
    "            res = id_grp.agg(\n",
    "                np.percentile,\n",
    "                action,\n",
    "                axis=0,\n",
    "                method='closest_observation',\n",
    "            )\n",
    "        else:\n",
    "            res = id_grp.agg(action)\n",
    "            \n",
    "        res_container[func_name] = res\n",
    "\n",
    "    with open(f'dataset/summary/{set_}_x_summary.pkl', 'wb') as f:\n",
    "        pickle.dump(res_container, f, protocol=pickle.HIGHEST_PROTOCOL)"
   ]
  }
 ],
 "metadata": {
  "kernelspec": {
   "display_name": "class",
   "language": "python",
   "name": "venv"
  },
  "language_info": {
   "codemirror_mode": {
    "name": "ipython",
    "version": 3
   },
   "file_extension": ".py",
   "mimetype": "text/x-python",
   "name": "python",
   "nbconvert_exporter": "python",
   "pygments_lexer": "ipython3",
   "version": "3.9.13"
  }
 },
 "nbformat": 4,
 "nbformat_minor": 5
}
