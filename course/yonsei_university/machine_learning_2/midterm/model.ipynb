{
 "cells": [
  {
   "cell_type": "markdown",
   "id": "99510149-e7a6-4c62-92fc-7a9e467893c0",
   "metadata": {},
   "source": [
    "# Model"
   ]
  },
  {
   "cell_type": "markdown",
   "id": "59114f43-268b-45ec-a0e4-35a50481fc7c",
   "metadata": {},
   "source": [
    "## Imports"
   ]
  },
  {
   "cell_type": "code",
   "execution_count": 1,
   "id": "8733d5cb-4f13-44be-8bb0-e6f8cdb6c364",
   "metadata": {
    "tags": []
   },
   "outputs": [],
   "source": [
    "import pandas as pd\n",
    "import numpy as np"
   ]
  },
  {
   "cell_type": "code",
   "execution_count": 2,
   "id": "0c5e0345-7125-479b-89fb-016c21993946",
   "metadata": {
    "tags": []
   },
   "outputs": [],
   "source": [
    "from typing import List, Callable\n",
    "import warnings\n",
    "from tqdm.notebook import tqdm\n",
    "warnings.filterwarnings(action='ignore')"
   ]
  },
  {
   "cell_type": "code",
   "execution_count": 3,
   "id": "176ebd06-cb74-4859-a1ea-f93435c90dbe",
   "metadata": {
    "tags": []
   },
   "outputs": [],
   "source": [
    "import matplotlib.pyplot as plt\n",
    "import seaborn as sns"
   ]
  },
  {
   "cell_type": "code",
   "execution_count": 4,
   "id": "803372c8-8c1c-4107-9d05-c44e659125d4",
   "metadata": {
    "tags": []
   },
   "outputs": [],
   "source": [
    "from sklearn.linear_model import (\n",
    "    LinearRegression,\n",
    "    Ridge,\n",
    "    Lasso,\n",
    "    ElasticNet,\n",
    ")\n",
    "from sklearn.cross_decomposition import PLSRegression\n",
    "from sklearn.metrics import (r2_score, mean_absolute_error)\n",
    "from sklearn.model_selection import (\n",
    "    train_test_split,\n",
    "    GridSearchCV,\n",
    "    RandomizedSearchCV,\n",
    "    cross_validate,\n",
    "    cross_val_score,\n",
    "    KFold,\n",
    "    TimeSeriesSplit,\n",
    ")\n",
    "from sklearn.preprocessing import StandardScaler\n",
    "from sklearn.decomposition import PCA\n",
    "from sklearn.pipeline import Pipeline"
   ]
  },
  {
   "cell_type": "markdown",
   "id": "a0bd9dfa-221b-4fba-b0e9-63a93b6f0958",
   "metadata": {
    "tags": []
   },
   "source": [
    "## Load Dataset"
   ]
  },
  {
   "cell_type": "code",
   "execution_count": 5,
   "id": "08886ec3-70eb-415e-8197-6fd397ab8f1c",
   "metadata": {
    "tags": []
   },
   "outputs": [],
   "source": [
    "train_x = pd.read_pickle(f'dataset/summary/train_x_summary.pkl')\n",
    "test_x = pd.read_pickle(f'dataset/summary/test_x_summary.pkl')\n",
    "train_y = pd.read_csv('dataset/train_y.csv')"
   ]
  },
  {
   "cell_type": "markdown",
   "id": "453c0d77-4e39-4b72-977e-7a98f1e6be84",
   "metadata": {
    "tags": []
   },
   "source": [
    "### Remove Outliers\n",
    "\n",
    "- Use `p99` summary value (Try and Error)"
   ]
  },
  {
   "cell_type": "code",
   "execution_count": 6,
   "id": "4b2945a3-7649-4fbf-9aa0-6c62589a3e9e",
   "metadata": {
    "tags": []
   },
   "outputs": [],
   "source": [
    "drop = [25, 119, 264, 301]  # Outliers found in EDA\n",
    "summary = 'p99'\n",
    "train_x = train_x[summary].drop(drop, axis=0)\n",
    "test_x = test_x[summary]\n",
    "x_arr = train_x.to_numpy()"
   ]
  },
  {
   "cell_type": "code",
   "execution_count": 7,
   "id": "f3eab5c6-45c3-4600-8fca-7a8516a015b4",
   "metadata": {
    "tags": []
   },
   "outputs": [],
   "source": [
    "train_y = train_y.drop(drop, axis=0)\n",
    "y_arr = train_y['y']"
   ]
  },
  {
   "cell_type": "markdown",
   "id": "2737e05e-485a-42fd-99fd-2e45ee54a49f",
   "metadata": {
    "tags": []
   },
   "source": [
    "## Model Building"
   ]
  },
  {
   "cell_type": "code",
   "execution_count": 8,
   "id": "23713007",
   "metadata": {
    "tags": []
   },
   "outputs": [],
   "source": [
    "# https://scikit-learn.org/stable/auto_examples/model_selection/plot_cv_indices.html\n",
    "from matplotlib.patches import Patch\n",
    "\n",
    "def plot_cv_indices(cv, X, y, ax, n_splits, lw=10):\n",
    "    for ii, (tr, tt) in enumerate(cv.split(X=X, y=y)):\n",
    "        indices = np.array([np.nan] * len(X))\n",
    "        indices[tt] = 1\n",
    "        indices[tr] = 0\n",
    "\n",
    "        ax.scatter(\n",
    "            range(len(indices)),\n",
    "            [ii + 0.5] * len(indices),\n",
    "            c=indices,\n",
    "            marker=\"_\",\n",
    "            lw=lw,\n",
    "            cmap=plt.cm.coolwarm,\n",
    "            vmin=-0.2,\n",
    "            vmax=1.2,\n",
    "        )\n",
    "\n",
    "    ax.set(\n",
    "        yticks=np.arange(n_splits) + 0.5,\n",
    "        yticklabels=range(1, n_splits+1),\n",
    "        xlabel=\"ID\",\n",
    "        ylabel=\"CV iteration\",\n",
    "        ylim=[n_splits, -0.2],\n",
    "        xlim=[0, 403],\n",
    "    )\n",
    "    ax.set_title(\"{}\".format(type(cv).__name__), fontsize=15)\n",
    "    ax.legend(\n",
    "        [Patch(color=plt.cm.coolwarm(0.8)), Patch(color=plt.cm.coolwarm(0.02))],\n",
    "        [\"Testing set\", \"Training set\"],\n",
    "        loc=(1.02, 0.8),\n",
    "    )\n",
    "    plt.tight_layout()\n",
    "    fig.subplots_adjust(right=0.7)\n",
    "    plt.show()\n",
    "    \n",
    "def plot_result(y_true: np.ndarray, y_pred: np.ndarray,\n",
    "                figwidth: int=15, margin: float=1.0) -> None: \n",
    "    fig, (ax1, ax2) = plt.subplots(1, 2)\n",
    "    fig.suptitle('Results in Training Set')\n",
    "    fig.set_figwidth(figwidth)\n",
    "    ax1.plot(y_true, label='y_true')\n",
    "    ax1.plot(y_pred, label='y_pred')\n",
    "    ax1.set_xlabel('ID')\n",
    "    ax1.set_ylabel('y')\n",
    "    ax1.legend()\n",
    "\n",
    "    ax2.scatter(x=y_true, y=y_pred)\n",
    "    ax2.margins(x=0, y=0)\n",
    "    ax2.set_xlabel('y_true')\n",
    "    ax2.set_ylabel('y_pred')\n",
    "    x = np.linspace(y_pred.min()-margin, y_pred.max()+margin, 100)\n",
    "    y_ = x\n",
    "    ax2.plot(x, y_, '-r')\n",
    "    plt.show()"
   ]
  },
  {
   "cell_type": "markdown",
   "id": "8f42ac82-20b4-4f6a-91f4-d21872c9732e",
   "metadata": {
    "tags": []
   },
   "source": [
    "### Compare Cross Validation Methods\n",
    "\n",
    "> \"The number of folds is usually determined by the number of instances contained in your dataset.\"\n",
    "> https://datascience.stackexchange.com/questions/28158/how-to-calculate-the-fold-number-k-fold-in-cross-validation"
   ]
  },
  {
   "cell_type": "code",
   "execution_count": 9,
   "id": "b1051cfa-dc14-44ed-aaaf-da1779131ae7",
   "metadata": {
    "tags": []
   },
   "outputs": [],
   "source": [
    "# Default Settings\n",
    "N_SPLITS = 5\n",
    "N_ITER = 100"
   ]
  },
  {
   "cell_type": "markdown",
   "id": "69a77f6b-ac4b-4aa0-a394-0cc17e239b94",
   "metadata": {},
   "source": [
    "#### KFold"
   ]
  },
  {
   "cell_type": "code",
   "execution_count": 10,
   "id": "9681e4e9-ebcc-4da6-b42f-d921e46769fd",
   "metadata": {
    "tags": []
   },
   "outputs": [
    {
     "data": {
      "image/png": "[encoded data removed]",
      "text/plain": [
       "<Figure size 600x300 with 1 Axes>"
      ]
     },
     "metadata": {},
     "output_type": "display_data"
    }
   ],
   "source": [
    "kf = KFold(n_splits=N_SPLITS)\n",
    "fig, ax = plt.subplots(figsize=(6, 3))\n",
    "plot_cv_indices(kf, x_arr, y_arr, ax, N_SPLITS)"
   ]
  },
  {
   "cell_type": "markdown",
   "id": "a32aa279-0e42-43fb-ae42-ef40781c5eea",
   "metadata": {},
   "source": [
    "#### Time Series Split"
   ]
  },
  {
   "cell_type": "code",
   "execution_count": 11,
   "id": "83216785",
   "metadata": {
    "tags": []
   },
   "outputs": [
    {
     "data": {
      "image/png": "[encoded data removed]",
      "text/plain": [
       "<Figure size 600x300 with 1 Axes>"
      ]
     },
     "metadata": {},
     "output_type": "display_data"
    }
   ],
   "source": [
    "ts = TimeSeriesSplit(n_splits=N_SPLITS)\n",
    "fig, ax = plt.subplots(figsize=(6, 3))\n",
    "plot_cv_indices(ts, x_arr, y_arr, ax, N_SPLITS)"
   ]
  },
  {
   "cell_type": "markdown",
   "id": "f84956c9-6f94-4af5-b7c8-c02494368648",
   "metadata": {},
   "source": [
    "### Modeling\n",
    "\n",
    "- Summary: **p99**\n",
    "- CV: 데이터형태가 시계열이기 때문에 **`TimeSeriesSplit`** 이 적합할것임\n",
    "- Hyperparameter Tuning: **`RandomizedSearchCV`**"
   ]
  },
  {
   "cell_type": "code",
   "execution_count": 12,
   "id": "66df5ed0-d03f-417f-968e-7426ea9c257e",
   "metadata": {
    "tags": []
   },
   "outputs": [],
   "source": [
    "def compare_model(cv_res: dict) -> pd.DataFrame:\n",
    "    compare_table = (pd.DataFrame(cv_res)\n",
    "                     .reset_index(names='estimator'))\n",
    "    return compare_table.sort_values('best_score')"
   ]
  },
  {
   "cell_type": "code",
   "execution_count": 13,
   "id": "e0722f0c-5933-4be9-8fc2-9c5aaa460609",
   "metadata": {
    "tags": []
   },
   "outputs": [],
   "source": [
    "metrics = {\n",
    "    'r2': 'r2',\n",
    "    'mae': 'neg_mean_absolute_error',\n",
    "}"
   ]
  },
  {
   "cell_type": "markdown",
   "id": "1bf5c5ec-a8aa-42aa-a8fd-13409dcf12ba",
   "metadata": {
    "tags": []
   },
   "source": [
    "#### Model 1 - **Regression Family**\n",
    "\n",
    "- Feature Engineering: **None**"
   ]
  },
  {
   "cell_type": "code",
   "execution_count": 14,
   "id": "30244d16-cec9-4804-b677-56a29fa68374",
   "metadata": {
    "tags": []
   },
   "outputs": [
    {
     "name": "stdout",
     "output_type": "stream",
     "text": [
      "CPU times: total: 1.55 s\n",
      "Wall time: 25 s\n"
     ]
    }
   ],
   "source": [
    "%%time\n",
    "model_list = [\n",
    "    LinearRegression(),\n",
    "    Ridge(),\n",
    "    Lasso(),\n",
    "    ElasticNet(),\n",
    "]\n",
    "best_params = {}\n",
    "best_scores = {}\n",
    "\n",
    "for model in model_list:\n",
    "    model_name = str(model)\n",
    "    estimator = model_name.replace('()', '')\n",
    "    params = {\n",
    "        'alpha': np.arange(0, 1, 0.05),\n",
    "        'max_iter': np.arange(1000, 5000, 1000),\n",
    "    }\n",
    "    cv = TimeSeriesSplit(N_SPLITS)\n",
    "    if estimator != 'LinearRegression':\n",
    "        if estimator == 'ElasticNet':\n",
    "            params['l1_ratio'] = np.arange(0, 1, 0.1)\n",
    "\n",
    "        rand_search = RandomizedSearchCV(\n",
    "            estimator=model,\n",
    "            param_distributions=params,\n",
    "            n_iter=N_ITER,\n",
    "            cv=cv,\n",
    "            scoring=metrics['mae'],\n",
    "            n_jobs=-1,\n",
    "        )\n",
    "        rand_search.fit(x_arr, y_arr)\n",
    "\n",
    "        best_params[estimator] = rand_search.best_params_\n",
    "        best_scores[estimator] = rand_search.best_score_ * -1\n",
    "    else:\n",
    "        # Linear Regression\n",
    "        res = cross_validate(model, x_arr, y_arr, cv=cv, scoring=metrics['mae'])\n",
    "        mae = res['test_score'] * -1\n",
    "        mae_avg = np.mean(mae)\n",
    "        best_scores[estimator] = mae_avg\n",
    "cv_res = {\n",
    "    'best_param': best_params,\n",
    "    'best_score': best_scores,\n",
    "}"
   ]
  },
  {
   "cell_type": "code",
   "execution_count": 15,
   "id": "64901ea9-6694-4f0d-82eb-f4b73a51acf6",
   "metadata": {
    "tags": []
   },
   "outputs": [
    {
     "data": {
      "text/html": [
       "<div>\n",
       "<style scoped>\n",
       "    .dataframe tbody tr th:only-of-type {\n",
       "        vertical-align: middle;\n",
       "    }\n",
       "\n",
       "    .dataframe tbody tr th {\n",
       "        vertical-align: top;\n",
       "    }\n",
       "\n",
       "    .dataframe thead th {\n",
       "        text-align: right;\n",
       "    }\n",
       "</style>\n",
       "<table border=\"1\" class=\"dataframe\">\n",
       "  <thead>\n",
       "    <tr style=\"text-align: right;\">\n",
       "      <th></th>\n",
       "      <th>estimator</th>\n",
       "      <th>best_param</th>\n",
       "      <th>best_score</th>\n",
       "    </tr>\n",
       "  </thead>\n",
       "  <tbody>\n",
       "    <tr>\n",
       "      <th>2</th>\n",
       "      <td>ElasticNet</td>\n",
       "      <td>{'max_iter': 1000, 'l1_ratio': 0.2, 'alpha': 0.5}</td>\n",
       "      <td>0.187307</td>\n",
       "    </tr>\n",
       "    <tr>\n",
       "      <th>1</th>\n",
       "      <td>Lasso</td>\n",
       "      <td>{'max_iter': 1000, 'alpha': 0.1}</td>\n",
       "      <td>0.187543</td>\n",
       "    </tr>\n",
       "    <tr>\n",
       "      <th>0</th>\n",
       "      <td>Ridge</td>\n",
       "      <td>{'max_iter': 1000, 'alpha': 0.9500000000000001}</td>\n",
       "      <td>0.211774</td>\n",
       "    </tr>\n",
       "    <tr>\n",
       "      <th>3</th>\n",
       "      <td>LinearRegression</td>\n",
       "      <td>NaN</td>\n",
       "      <td>0.212110</td>\n",
       "    </tr>\n",
       "  </tbody>\n",
       "</table>\n",
       "</div>"
      ],
      "text/plain": [
       "          estimator                                         best_param   \n",
       "2        ElasticNet  {'max_iter': 1000, 'l1_ratio': 0.2, 'alpha': 0.5}  \\\n",
       "1             Lasso                   {'max_iter': 1000, 'alpha': 0.1}   \n",
       "0             Ridge    {'max_iter': 1000, 'alpha': 0.9500000000000001}   \n",
       "3  LinearRegression                                                NaN   \n",
       "\n",
       "   best_score  \n",
       "2    0.187307  \n",
       "1    0.187543  \n",
       "0    0.211774  \n",
       "3    0.212110  "
      ]
     },
     "execution_count": 15,
     "metadata": {},
     "output_type": "execute_result"
    }
   ],
   "source": [
    "compare_table = compare_model(cv_res)\n",
    "compare_table"
   ]
  },
  {
   "cell_type": "code",
   "execution_count": 16,
   "id": "17ddb06a-3147-4efb-b011-cdbd5230a84f",
   "metadata": {
    "tags": []
   },
   "outputs": [
    {
     "data": {
      "image/png": "[encoded data removed]",
      "text/plain": [
       "<Figure size 640x480 with 1 Axes>"
      ]
     },
     "metadata": {},
     "output_type": "display_data"
    }
   ],
   "source": [
    "cv = TimeSeriesSplit(n_splits=N_SPLITS)\n",
    "hyperparams = compare_table['best_param'].iloc[0]\n",
    "model = eval(compare_table['estimator'].iloc[0])\n",
    "cv_results = cross_validate(\n",
    "    model(**hyperparams),\n",
    "    x_arr,\n",
    "    y_arr,\n",
    "    cv=cv,\n",
    "    scoring=metrics['mae'],\n",
    "    return_train_score=True,\n",
    ")\n",
    "plt.plot(cv_results['train_score'] * -1, marker='o', markersize=3, label='Train')\n",
    "plt.plot(cv_results['test_score'] * -1, marker='o', markersize=3, label='Validation')\n",
    "plt.xticks(range(0, N_SPLITS), range(1, N_SPLITS + 1))\n",
    "plt.xlabel('CV')\n",
    "plt.ylabel('MAE')\n",
    "plt.legend();"
   ]
  },
  {
   "cell_type": "markdown",
   "id": "78387b7c-1078-4c48-b1b8-fdbf84bc94f3",
   "metadata": {
    "tags": []
   },
   "source": [
    "#### Model 2 - **Principal Component Regression**\n",
    "\n",
    "- Feature Engineering: **PCA**"
   ]
  },
  {
   "cell_type": "code",
   "execution_count": 17,
   "id": "bc2de872-4533-4962-9fae-58c3915f465f",
   "metadata": {
    "tags": []
   },
   "outputs": [
    {
     "name": "stdout",
     "output_type": "stream",
     "text": [
      "CPU times: total: 1min 36s\n",
      "Wall time: 58.8 s\n"
     ]
    }
   ],
   "source": [
    "%%time\n",
    "model_list = [\n",
    "    LinearRegression(),\n",
    "    Ridge(),\n",
    "    Lasso(),\n",
    "    ElasticNet(),\n",
    "]\n",
    "best_params = {}\n",
    "best_scores = {}\n",
    "pipelines = {}\n",
    "for model in model_list:\n",
    "    model_name = str(model)\n",
    "    estimator = model_name.replace('()', '')\n",
    "    pipeline = Pipeline([\n",
    "        ('scaler', StandardScaler()),\n",
    "        ('PCA', PCA()),\n",
    "        ('regression', model)\n",
    "    ])\n",
    "    params = {\n",
    "        'PCA__n_components': list(range(1, 404)),\n",
    "        'regression__alpha': np.arange(0, 1, 0.05),\n",
    "        'regression__max_iter': np.arange(1000, 5000, 1000),\n",
    "    }\n",
    "    cv = TimeSeriesSplit(N_SPLITS)\n",
    "    if estimator == 'LinearRegression':\n",
    "        params = {\n",
    "            'PCA__n_components': list(range(1, 404))\n",
    "        }\n",
    "    elif estimator == 'ElasticNet':\n",
    "        params['regression__l1_ratio'] = np.arange(0, 1, 0.1)\n",
    "\n",
    "    rand_search = RandomizedSearchCV(\n",
    "        estimator=pipeline,\n",
    "        param_distributions=params,\n",
    "        n_iter=N_ITER,\n",
    "        cv=cv,\n",
    "        scoring=metrics['mae'],\n",
    "    )\n",
    "    rand_search.fit(x_arr, y_arr)\n",
    "    best_params[estimator] = rand_search.best_params_\n",
    "    best_scores[estimator] = rand_search.best_score_ * -1\n",
    "    pipelines[estimator] = pipeline\n",
    "\n",
    "cv_res = {\n",
    "    'pipeline': pipelines,\n",
    "    'best_param': best_params,\n",
    "    'best_score': best_scores,\n",
    "}"
   ]
  },
  {
   "cell_type": "code",
   "execution_count": 18,
   "id": "cf2289b1-eee7-4a31-ace5-c1504c8d9343",
   "metadata": {
    "tags": []
   },
   "outputs": [
    {
     "data": {
      "text/html": [
       "<div>\n",
       "<style scoped>\n",
       "    .dataframe tbody tr th:only-of-type {\n",
       "        vertical-align: middle;\n",
       "    }\n",
       "\n",
       "    .dataframe tbody tr th {\n",
       "        vertical-align: top;\n",
       "    }\n",
       "\n",
       "    .dataframe thead th {\n",
       "        text-align: right;\n",
       "    }\n",
       "</style>\n",
       "<table border=\"1\" class=\"dataframe\">\n",
       "  <thead>\n",
       "    <tr style=\"text-align: right;\">\n",
       "      <th></th>\n",
       "      <th>estimator</th>\n",
       "      <th>pipeline</th>\n",
       "      <th>best_param</th>\n",
       "      <th>best_score</th>\n",
       "    </tr>\n",
       "  </thead>\n",
       "  <tbody>\n",
       "    <tr>\n",
       "      <th>2</th>\n",
       "      <td>Lasso</td>\n",
       "      <td>(StandardScaler(), PCA(), Lasso())</td>\n",
       "      <td>{'regression__max_iter': 3000, 'regression__al...</td>\n",
       "      <td>0.191052</td>\n",
       "    </tr>\n",
       "    <tr>\n",
       "      <th>0</th>\n",
       "      <td>LinearRegression</td>\n",
       "      <td>(StandardScaler(), PCA(), LinearRegression())</td>\n",
       "      <td>{'PCA__n_components': 31}</td>\n",
       "      <td>0.191232</td>\n",
       "    </tr>\n",
       "    <tr>\n",
       "      <th>1</th>\n",
       "      <td>Ridge</td>\n",
       "      <td>(StandardScaler(), PCA(), Ridge())</td>\n",
       "      <td>{'regression__max_iter': 3000, 'regression__al...</td>\n",
       "      <td>0.192491</td>\n",
       "    </tr>\n",
       "    <tr>\n",
       "      <th>3</th>\n",
       "      <td>ElasticNet</td>\n",
       "      <td>(StandardScaler(), PCA(), ElasticNet())</td>\n",
       "      <td>{'regression__max_iter': 4000, 'regression__l1...</td>\n",
       "      <td>0.192857</td>\n",
       "    </tr>\n",
       "  </tbody>\n",
       "</table>\n",
       "</div>"
      ],
      "text/plain": [
       "          estimator                                       pipeline   \n",
       "2             Lasso             (StandardScaler(), PCA(), Lasso())  \\\n",
       "0  LinearRegression  (StandardScaler(), PCA(), LinearRegression())   \n",
       "1             Ridge             (StandardScaler(), PCA(), Ridge())   \n",
       "3        ElasticNet        (StandardScaler(), PCA(), ElasticNet())   \n",
       "\n",
       "                                          best_param  best_score  \n",
       "2  {'regression__max_iter': 3000, 'regression__al...    0.191052  \n",
       "0                          {'PCA__n_components': 31}    0.191232  \n",
       "1  {'regression__max_iter': 3000, 'regression__al...    0.192491  \n",
       "3  {'regression__max_iter': 4000, 'regression__l1...    0.192857  "
      ]
     },
     "execution_count": 18,
     "metadata": {},
     "output_type": "execute_result"
    }
   ],
   "source": [
    "compare_table = compare_model(cv_res)\n",
    "compare_table"
   ]
  },
  {
   "cell_type": "code",
   "execution_count": 19,
   "id": "6223665e-e411-462c-b547-67e766fa27b2",
   "metadata": {
    "tags": []
   },
   "outputs": [
    {
     "data": {
      "image/png": "[encoded data removed]",
      "text/plain": [
       "<Figure size 640x480 with 1 Axes>"
      ]
     },
     "metadata": {},
     "output_type": "display_data"
    }
   ],
   "source": [
    "best_pipeline = compare_table.iloc[0]\n",
    "pipeline = best_pipeline['pipeline'].set_params(**best_pipeline['best_param'])\n",
    "cv = TimeSeriesSplit(n_splits=N_SPLITS)\n",
    "cv_results = cross_validate(\n",
    "    pipeline,\n",
    "    x_arr,\n",
    "    y_arr,\n",
    "    cv=cv,\n",
    "    scoring=metrics['mae'],\n",
    "    return_train_score=True,\n",
    ")\n",
    "plt.plot(cv_results['train_score'] * -1, marker='o', markersize=3, label='Train')\n",
    "plt.plot(cv_results['test_score'] * -1, marker='o', markersize=3, label='Validation')\n",
    "plt.xticks(range(0, N_SPLITS), range(1, N_SPLITS + 1))\n",
    "plt.xlabel('CV')\n",
    "plt.ylabel('MAE')\n",
    "plt.legend();"
   ]
  },
  {
   "cell_type": "markdown",
   "id": "b0465cff-1518-4b60-988d-ed5f8efdeefc",
   "metadata": {},
   "source": [
    "#### Model 3 - **Partial Least Squares Regression**"
   ]
  },
  {
   "cell_type": "code",
   "execution_count": 20,
   "id": "35f800f3-6288-417c-87fe-c181d60a1cc5",
   "metadata": {
    "tags": []
   },
   "outputs": [
    {
     "name": "stdout",
     "output_type": "stream",
     "text": [
      "{'n_components': 11}\n",
      "0.19966785307364146\n"
     ]
    }
   ],
   "source": [
    "model = PLSRegression()\n",
    "params = {\n",
    "    'n_components': list(range(1, 404)),\n",
    "}\n",
    "cv = TimeSeriesSplit(n_splits=N_SPLITS)\n",
    "rand_search = RandomizedSearchCV(\n",
    "    estimator=model,\n",
    "    param_distributions=params,\n",
    "    n_iter=N_ITER,\n",
    "    cv=cv,\n",
    "    scoring=metrics['mae'],\n",
    ")\n",
    "rand_search.fit(x_arr, y_arr)\n",
    "best_params = rand_search.best_params_\n",
    "best_scores = rand_search.best_score_ * -1\n",
    "print(best_params)\n",
    "print(best_scores)"
   ]
  },
  {
   "cell_type": "code",
   "execution_count": 21,
   "id": "4d19fbbf-2684-4dfd-bbf0-c688c3c0da32",
   "metadata": {
    "tags": []
   },
   "outputs": [
    {
     "data": {
      "image/png": "[encoded data removed]",
      "text/plain": [
       "<Figure size 640x480 with 1 Axes>"
      ]
     },
     "metadata": {},
     "output_type": "display_data"
    }
   ],
   "source": [
    "cv = TimeSeriesSplit(n_splits=N_SPLITS)\n",
    "pipeline = Pipeline([\n",
    "    ('scaler', StandardScaler()),\n",
    "    ('regression', PLSRegression(best_params['n_components'])),\n",
    "])\n",
    "cv_results = cross_validate(\n",
    "    pipeline,\n",
    "    x_arr,\n",
    "    y_arr,\n",
    "    cv=cv,\n",
    "    scoring=metrics['mae'],\n",
    "    return_train_score=True,\n",
    ")\n",
    "plt.plot(cv_results['train_score'] * -1, marker='o', markersize=3, label='Train')\n",
    "plt.plot(cv_results['test_score'] * -1, marker='o', markersize=3, label='Validation')\n",
    "plt.xticks(range(0, N_SPLITS), range(1, N_SPLITS + 1))\n",
    "plt.xlabel('CV')\n",
    "plt.ylabel('MAE')\n",
    "plt.legend();"
   ]
  },
  {
   "cell_type": "markdown",
   "id": "055d7022-f387-4ac6-a1f7-59300ad10381",
   "metadata": {},
   "source": [
    "### Final Model\n",
    "\n",
    "- Validation Score이 가장 안정적인 PLS 모델 선정"
   ]
  },
  {
   "cell_type": "code",
   "execution_count": 22,
   "id": "e4870d22-727e-4964-bab5-082770215a87",
   "metadata": {
    "tags": []
   },
   "outputs": [
    {
     "name": "stdout",
     "output_type": "stream",
     "text": [
      "CPU times: total: 2.69 s\n",
      "Wall time: 2.79 s\n"
     ]
    }
   ],
   "source": [
    "%%time\n",
    "pls_output = {}\n",
    "for i in range(1, 31):\n",
    "    try:\n",
    "        pipeline = Pipeline([\n",
    "            ('scaler', StandardScaler()),\n",
    "            ('regression', PLSRegression(i)),\n",
    "        ])\n",
    "        cv = TimeSeriesSplit(n_splits=N_SPLITS)\n",
    "        res = cross_val_score(pipeline, x_arr, y_arr, cv=cv, scoring='neg_mean_absolute_error')\n",
    "        avg_score = res.mean() * -1\n",
    "        pls_output[i] = avg_score\n",
    "    except Exception as e:\n",
    "        print(e)\n",
    "pls_output = pd.Series(pls_output).to_frame()"
   ]
  },
  {
   "cell_type": "code",
   "execution_count": 23,
   "id": "a3a3c75e-bc06-4918-b0c2-e7fcd93e6c6d",
   "metadata": {
    "tags": []
   },
   "outputs": [
    {
     "data": {
      "image/png": "[encoded data removed]",
      "text/plain": [
       "<Figure size 1000x500 with 1 Axes>"
      ]
     },
     "metadata": {},
     "output_type": "display_data"
    },
    {
     "name": "stdout",
     "output_type": "stream",
     "text": [
      "n_component: 9\n",
      "MAE: 0.19342673746104486\n"
     ]
    }
   ],
   "source": [
    "plt.figure(figsize=(10, 5))\n",
    "plt.plot(pls_output, marker='o', markersize=3)\n",
    "best_n_component = np.argmin(pls_output) + 1\n",
    "plt.vlines(best_n_component, ymin=0.15, ymax=0.45, color='gray', linestyle='dotted')\n",
    "plt.margins(y=0)\n",
    "plt.show()\n",
    "print(f'n_component: {pls_output.loc[best_n_component].name}\\nMAE: {pls_output.loc[best_n_component][0]}')"
   ]
  },
  {
   "cell_type": "code",
   "execution_count": 24,
   "id": "baa85e38-e9d5-4f49-b2dc-f9d8beb8b8fb",
   "metadata": {
    "tags": []
   },
   "outputs": [
    {
     "name": "stdout",
     "output_type": "stream",
     "text": [
      "[Average Metric] mae: 0.1934\n"
     ]
    }
   ],
   "source": [
    "pipeline = Pipeline([\n",
    "    ('scaler', StandardScaler()),\n",
    "    ('regression', PLSRegression(n_components=best_n_component)),\n",
    "])\n",
    "\n",
    "cv = TimeSeriesSplit(n_splits=N_SPLITS)\n",
    "scoring = 'mae'\n",
    "res = cross_val_score(pipeline, x_arr, y_arr, cv=cv, scoring=metrics[scoring])\n",
    "metric_avg = np.mean(res) * -1\n",
    "print(f\"[Average Metric] {scoring}: {metric_avg:.4f}\")"
   ]
  },
  {
   "cell_type": "code",
   "execution_count": 25,
   "id": "7e06766c-da60-49f3-9411-6ad4bdafd808",
   "metadata": {
    "tags": []
   },
   "outputs": [],
   "source": [
    "pipeline.fit(x_arr, y_arr)\n",
    "y_pred = pipeline.predict(test_x)\n",
    "id_col = pd.Series(test_x.index)\n",
    "pred_col = pd.Series(y_pred.ravel(), name='y_prediction')\n",
    "submit_pred = pd.concat([id_col, pred_col], axis=1)\n",
    "submit_pred.to_csv('submission/submission.csv', index=False)"
   ]
  }
 ],
 "metadata": {
  "kernelspec": {
   "display_name": "class",
   "language": "python",
   "name": "venv"
  },
  "language_info": {
   "codemirror_mode": {
    "name": "ipython",
    "version": 3
   },
   "file_extension": ".py",
   "mimetype": "text/x-python",
   "name": "python",
   "nbconvert_exporter": "python",
   "pygments_lexer": "ipython3",
   "version": "3.9.13"
  }
 },
 "nbformat": 4,
 "nbformat_minor": 5
}
