{
 "cells": [
  {
   "attachments": {},
   "cell_type": "markdown",
   "id": "a2824400-5e26-4916-abf0-ec77b9c11714",
   "metadata": {},
   "source": [
    "# Attach Background Image"
   ]
  },
  {
   "attachments": {},
   "cell_type": "markdown",
   "id": "1c34cc68-31ba-401b-b283-5e6f1699a52e",
   "metadata": {},
   "source": [
    "## Imports"
   ]
  },
  {
   "cell_type": "code",
   "execution_count": null,
   "id": "90dadd3d-095a-44c0-9e16-54d8b53d33fe",
   "metadata": {
    "tags": []
   },
   "outputs": [],
   "source": [
    "import pandas as pd\n",
    "import numpy as np\n",
    "import os\n",
    "import sys\n",
    "import warnings\n",
    "import json\n",
    "\n",
    "from IPython.display import clear_output\n",
    "from PIL import Image\n",
    "import matplotlib.pyplot as plt\n",
    "\n",
    "warnings.filterwarnings(action='ignore')\n",
    "\n",
    "%matplotlib inline"
   ]
  },
  {
   "attachments": {},
   "cell_type": "markdown",
   "id": "4a167239-b747-4974-9cdc-a1acdefe1256",
   "metadata": {},
   "source": [
    "## Dataset"
   ]
  },
  {
   "cell_type": "code",
   "execution_count": null,
   "id": "781b9cd6-9a86-47f8-8572-820a3a630d1e",
   "metadata": {
    "tags": []
   },
   "outputs": [],
   "source": [
    "train_set = pd.read_csv('dataset/dot_train.csv')\n",
    "test_set = pd.read_csv('dataset/dot_test.csv')"
   ]
  },
  {
   "cell_type": "code",
   "execution_count": null,
   "id": "074e713a-fd68-4070-ad0f-6f1621c0f7a6",
   "metadata": {
    "tags": []
   },
   "outputs": [],
   "source": [
    "with open('dataset/data_container.json') as f:\n",
    "    img_matching = json.load(f)\n",
    "    \n",
    "dot = img_matching['DOT']"
   ]
  },
  {
   "attachments": {},
   "cell_type": "markdown",
   "id": "e99e028e-7eeb-4f24-b78a-feabdeb55c41",
   "metadata": {
    "tags": []
   },
   "source": [
    "## Backgroud Image"
   ]
  },
  {
   "cell_type": "code",
   "execution_count": null,
   "id": "ab78fbf9-7f5e-4623-8e95-300277e8a103",
   "metadata": {
    "tags": []
   },
   "outputs": [],
   "source": [
    "size = 512\n",
    "bg = np.full((size, size, 3), 0)\n",
    "bg = bg.astype(np.uint8)\n",
    "bg_img = Image.fromarray(bg)"
   ]
  },
  {
   "cell_type": "code",
   "execution_count": null,
   "id": "c7f68209-0993-471a-b318-ddbbac4688f5",
   "metadata": {
    "tags": []
   },
   "outputs": [],
   "source": [
    "plt.imshow(bg_img);"
   ]
  },
  {
   "cell_type": "code",
   "execution_count": null,
   "id": "4f6c56fa-eaf6-4617-99be-be777cc8139f",
   "metadata": {
    "tags": []
   },
   "outputs": [],
   "source": [
    "bh, bw = bg_img.size"
   ]
  },
  {
   "attachments": {},
   "cell_type": "markdown",
   "id": "474ab867-daf9-4c0e-9efc-d78ec41b9e26",
   "metadata": {},
   "source": [
    "## Attach Sub Pattern Images and Background Image"
   ]
  },
  {
   "cell_type": "code",
   "execution_count": null,
   "id": "85dd6529-af2d-435f-8b9a-7740b111b70d",
   "metadata": {
    "tags": []
   },
   "outputs": [],
   "source": [
    "def group_sub_pattern(sem_no_list: pd.Series, dir_: str) -> dict:\n",
    "    container = {}\n",
    "    for i in sem_no_list:\n",
    "        sem_no = f'{i:05d}'\n",
    "        try: pattern_list = os.listdir(f'{dir_}/{sem_no}')\n",
    "        except: continue\n",
    "        container[sem_no] = pattern_list\n",
    "    return container"
   ]
  },
  {
   "cell_type": "code",
   "execution_count": null,
   "id": "30ea63ed-fb10-4c47-a342-69919ae300e5",
   "metadata": {
    "tags": []
   },
   "outputs": [],
   "source": [
    "def attach_bg(container: dict, dir_: str, dataset_name: str, output_path: str, extension: str='png') -> None:\n",
    "    total_subpattern = len(container.keys())\n",
    "    \n",
    "    for n, (i, v) in enumerate(container.items()):\n",
    "        print(f'[{n + 1}/{total_subpattern}] Processing {i} ...')\n",
    "        dir_name = f'{dir_}/{i}'\n",
    "        try: filelist = os.listdir(dir_name)\n",
    "        except: continue; clear_output(wait=True)\n",
    "        \n",
    "        for pattern_img in v:\n",
    "            j = pattern_img.split('.')[0].split('_')[1]\n",
    "            try:\n",
    "                sem_img = Image.open(f'{dir_name}/{pattern_img}')\n",
    "            except ValueError:\n",
    "                print(f'{i} has no pattern found.')\n",
    "                continue\n",
    "\n",
    "            h, w = sem_img.size\n",
    "            x_offset = round((bw - w) / 2)\n",
    "            y_offset = round((bh - h) / 2)\n",
    "\n",
    "            canvas = bg_img.copy()\n",
    "            canvas.paste(sem_img, (y_offset, x_offset))  # Upper left corner: (0, 0)\n",
    "            name = f'{i}_{j}_{dataset_name}'\n",
    "            canvas.save(f'{output_path}/{name}.{extension}')\n",
    "        clear_output(wait=True)"
   ]
  },
  {
   "cell_type": "code",
   "execution_count": null,
   "id": "039b365a-5b49-491a-a7ff-386568662f24",
   "metadata": {},
   "outputs": [],
   "source": [
    "dir_ = 'cropped/small_pattern'"
   ]
  },
  {
   "attachments": {},
   "cell_type": "markdown",
   "id": "02bfacf0-6f14-44ca-b9fa-0464c38af88a",
   "metadata": {},
   "source": [
    "### Train Set"
   ]
  },
  {
   "cell_type": "code",
   "execution_count": null,
   "id": "b153c77a-408d-4500-921a-9fabc09fd040",
   "metadata": {
    "tags": []
   },
   "outputs": [],
   "source": [
    "train_container = group_sub_pattern(train_set['SEM_No'], dir_=dir_)"
   ]
  },
  {
   "cell_type": "code",
   "execution_count": null,
   "id": "28e19313-bd31-4d82-8372-7c72ad226d0f",
   "metadata": {
    "tags": []
   },
   "outputs": [],
   "source": [
    "attach_bg(container=train_container, dir_=dir_, dataset_name='TRAIN', output_path='dataset/train/normal')"
   ]
  },
  {
   "attachments": {},
   "cell_type": "markdown",
   "id": "7310e76a-f99d-4388-9915-4a569e3a2f5c",
   "metadata": {},
   "source": [
    "### Test Set"
   ]
  },
  {
   "cell_type": "code",
   "execution_count": null,
   "id": "2a72ac4b-bb99-48bb-b665-042f818c720d",
   "metadata": {
    "tags": []
   },
   "outputs": [],
   "source": [
    "test_normal_container = group_sub_pattern(test_set.query('Class == 1')['SEM_No'], dir_=dir_)\n",
    "test_abnormal_container = group_sub_pattern(test_set.query('Class == -1')['SEM_No'], dir_=dir_)"
   ]
  },
  {
   "cell_type": "code",
   "execution_count": null,
   "id": "3cbaf388-337e-4bad-ac02-16693edb3449",
   "metadata": {},
   "outputs": [],
   "source": [
    "attach_bg(container=test_normal_container, dir_=dir_, dataset_name='TEST', output_path='dataset/test/normal')"
   ]
  },
  {
   "cell_type": "code",
   "execution_count": null,
   "id": "a111be84-a0f4-4032-8266-e9cfa492dbc4",
   "metadata": {
    "tags": []
   },
   "outputs": [],
   "source": [
    "attach_bg(container=test_abnormal_container, dir_=dir_, dataset_name='TEST', output_path='dataset/test/abnormal')"
   ]
  }
 ],
 "metadata": {
  "kernelspec": {
   "display_name": "class",
   "language": "python",
   "name": "class"
  },
  "language_info": {
   "codemirror_mode": {
    "name": "ipython",
    "version": 3
   },
   "file_extension": ".py",
   "mimetype": "text/x-python",
   "name": "python",
   "nbconvert_exporter": "python",
   "pygments_lexer": "ipython3",
   "version": "3.9.13"
  }
 },
 "nbformat": 4,
 "nbformat_minor": 5
}
